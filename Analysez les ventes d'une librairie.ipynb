{
 "cells": [
  {
   "cell_type": "markdown",
   "id": "f05267e2-870a-4d17-8b61-8e84b0d1625e",
   "metadata": {},
   "source": [
    "![Lapage](Lapage_logo.png)\n",
    "# Contexte\n",
    "Lapage était originellement une librairie physique avec plusieurs points de vente. \n",
    "Mais devant le succès de certains de ses produits et l’engouement de ses clients, elle a décidé depuis 2 ans d’ouvrir un site de vente en ligne. \n",
    "Vous intervenez car l’entreprise souhaite faire le point après deux ans d’exercice, et pouvoir analyser ses points forts, ses points faibles, les comportements clients, etc.\n",
    "\n",
    "# Missions\n",
    "- Réaliser une analyse des différents indicateurs de vente :\n",
    "    - Le CA (indicateurs et graphiques) et son évolution dans le temps via la mise en place d'une décomposition en moyenne mobile pour évaluer la tendance globale;\n",
    "    - Zoom sur les références, pour voir un peu les tops et les flops, la répartition par catégorie, etc.;\n",
    "    - Focus sur les profils des clients, et également la répartition du chiffre d'affaires entre eux, via par exemple une courbe de Lorenz.\n",
    "- Fournir une analyse plus ciblée sur les clients : l’objectif serait cette fois-ci de comprendre le comportement de nos clients en ligne, pour pouvoir ensuite comparer avec la connaissance acquise via nos librairies physiques. \n",
    "    - Etablir le lien entre le genre d’un client et les catégories des livres achetés.\n",
    "    - Faire divers corrélations entre l’âge des clients et le montant total des achats, la fréquence d’achat, la taille du panier moyen et les catégories des livres achetés.\n",
    "\n"
   ]
  },
  {
   "cell_type": "markdown",
   "id": "a2b7ff03-224f-40c5-ad94-00a0494a6ebd",
   "metadata": {},
   "source": [
    "# Préparation des données "
   ]
  },
  {
   "cell_type": "markdown",
   "id": "8ab93e20-024b-4dfb-81e6-39cdc902a933",
   "metadata": {
    "tags": []
   },
   "source": [
    "## Initialisation du projet"
   ]
  },
  {
   "cell_type": "markdown",
   "id": "5b7d530e-1296-472a-b19b-f9db1dcec853",
   "metadata": {},
   "source": [
    "### Import des librairies"
   ]
  },
  {
   "cell_type": "code",
   "execution_count": 184,
   "id": "dac1aa1d-2318-47c5-b597-9742261df42d",
   "metadata": {},
   "outputs": [],
   "source": [
    "import pandas as pd\n",
    "import matplotlib.pyplot as plt\n",
    "import seaborn as sns\n",
    "import numpy as np"
   ]
  },
  {
   "cell_type": "markdown",
   "id": "20eff80b-fc58-4cb4-bba4-74934682ed53",
   "metadata": {},
   "source": [
    "### Paramètres"
   ]
  },
  {
   "cell_type": "code",
   "execution_count": 185,
   "id": "cd71c239-22a6-4ebf-ab14-6a7cb094c04b",
   "metadata": {},
   "outputs": [],
   "source": [
    "%matplotlib inline \n",
    "# On indique que l'on veut voir apparaître les graphiques dans le notebook, sinon on ne verrait rien\n",
    "\n",
    "pd.set_option('max_colwidth', 100)\n",
    "pd.set_option('display.max_rows', 1000)\n",
    "pd.set_option('display.max_columns', 1000)"
   ]
  },
  {
   "cell_type": "markdown",
   "id": "5c023de9-31f9-4dd4-b91b-3bb06cea0feb",
   "metadata": {},
   "source": [
    "### Import des fichiers"
   ]
  },
  {
   "cell_type": "code",
   "execution_count": 186,
   "id": "06df4656-3847-4da3-a382-f32bcba532e8",
   "metadata": {},
   "outputs": [],
   "source": [
    "path='./Fichiers csv/'\n",
    "customers_df = pd.read_csv(path+\"customers.csv\")\n",
    "products_df=pd.read_csv(path+\"products.csv\")\n",
    "transactions_df=pd.read_csv(path+\"transactions.csv\")"
   ]
  },
  {
   "cell_type": "markdown",
   "id": "bdb29f17-fadb-4fce-89fc-3fbbd742db59",
   "metadata": {},
   "source": [
    "### Variables ou classes"
   ]
  },
  {
   "cell_type": "markdown",
   "id": "fce12fe8-8f0a-4b22-8a61-d80afe56ca17",
   "metadata": {},
   "source": [
    "Avant de commencer, je stocke le nombre de lignes et de colonnes de chacun des fichiers"
   ]
  },
  {
   "cell_type": "code",
   "execution_count": 187,
   "id": "f8927217-456b-448b-ac0a-f36b2d049cbb",
   "metadata": {},
   "outputs": [],
   "source": [
    "customers_initial_size=customers_df.shape\n",
    "products_intial_size=products_df.shape\n",
    "transactions_intial_size=transactions_df.shape"
   ]
  },
  {
   "cell_type": "markdown",
   "id": "c515cb5d-6a98-4143-8893-13534bd2b791",
   "metadata": {},
   "source": [
    "## Analyse de la qualité des données"
   ]
  },
  {
   "cell_type": "code",
   "execution_count": 217,
   "id": "93c74deb-5bf9-4b81-8515-b21971f5bfe5",
   "metadata": {},
   "outputs": [
    {
     "data": {
      "text/html": [
       "<div>\n",
       "<style scoped>\n",
       "    .dataframe tbody tr th:only-of-type {\n",
       "        vertical-align: middle;\n",
       "    }\n",
       "\n",
       "    .dataframe tbody tr th {\n",
       "        vertical-align: top;\n",
       "    }\n",
       "\n",
       "    .dataframe thead th {\n",
       "        text-align: right;\n",
       "    }\n",
       "</style>\n",
       "<table border=\"1\" class=\"dataframe\">\n",
       "  <thead>\n",
       "    <tr style=\"text-align: right;\">\n",
       "      <th></th>\n",
       "      <th>client_id</th>\n",
       "      <th>sex</th>\n",
       "      <th>birth</th>\n",
       "    </tr>\n",
       "  </thead>\n",
       "  <tbody>\n",
       "    <tr>\n",
       "      <th>0</th>\n",
       "      <td>c_4410</td>\n",
       "      <td>f</td>\n",
       "      <td>1967</td>\n",
       "    </tr>\n",
       "    <tr>\n",
       "      <th>1</th>\n",
       "      <td>c_7839</td>\n",
       "      <td>f</td>\n",
       "      <td>1975</td>\n",
       "    </tr>\n",
       "    <tr>\n",
       "      <th>2</th>\n",
       "      <td>c_1699</td>\n",
       "      <td>f</td>\n",
       "      <td>1984</td>\n",
       "    </tr>\n",
       "    <tr>\n",
       "      <th>3</th>\n",
       "      <td>c_5961</td>\n",
       "      <td>f</td>\n",
       "      <td>1962</td>\n",
       "    </tr>\n",
       "    <tr>\n",
       "      <th>4</th>\n",
       "      <td>c_5320</td>\n",
       "      <td>m</td>\n",
       "      <td>1943</td>\n",
       "    </tr>\n",
       "    <tr>\n",
       "      <th>...</th>\n",
       "      <td>...</td>\n",
       "      <td>...</td>\n",
       "      <td>...</td>\n",
       "    </tr>\n",
       "    <tr>\n",
       "      <th>8618</th>\n",
       "      <td>c_7920</td>\n",
       "      <td>m</td>\n",
       "      <td>1956</td>\n",
       "    </tr>\n",
       "    <tr>\n",
       "      <th>8619</th>\n",
       "      <td>c_7403</td>\n",
       "      <td>f</td>\n",
       "      <td>1970</td>\n",
       "    </tr>\n",
       "    <tr>\n",
       "      <th>8620</th>\n",
       "      <td>c_5119</td>\n",
       "      <td>m</td>\n",
       "      <td>1974</td>\n",
       "    </tr>\n",
       "    <tr>\n",
       "      <th>8621</th>\n",
       "      <td>c_5643</td>\n",
       "      <td>f</td>\n",
       "      <td>1968</td>\n",
       "    </tr>\n",
       "    <tr>\n",
       "      <th>8622</th>\n",
       "      <td>c_84</td>\n",
       "      <td>f</td>\n",
       "      <td>1982</td>\n",
       "    </tr>\n",
       "  </tbody>\n",
       "</table>\n",
       "<p>8623 rows × 3 columns</p>\n",
       "</div>"
      ],
      "text/plain": [
       "     client_id sex  birth\n",
       "0       c_4410   f   1967\n",
       "1       c_7839   f   1975\n",
       "2       c_1699   f   1984\n",
       "3       c_5961   f   1962\n",
       "4       c_5320   m   1943\n",
       "...        ...  ..    ...\n",
       "8618    c_7920   m   1956\n",
       "8619    c_7403   f   1970\n",
       "8620    c_5119   m   1974\n",
       "8621    c_5643   f   1968\n",
       "8622      c_84   f   1982\n",
       "\n",
       "[8623 rows x 3 columns]"
      ]
     },
     "execution_count": 217,
     "metadata": {},
     "output_type": "execute_result"
    }
   ],
   "source": [
    "customers_df"
   ]
  },
  {
   "cell_type": "code",
   "execution_count": 218,
   "id": "d4d71d01-1aff-4044-b889-d18b667ae5c9",
   "metadata": {},
   "outputs": [
    {
     "data": {
      "text/html": [
       "<div>\n",
       "<style scoped>\n",
       "    .dataframe tbody tr th:only-of-type {\n",
       "        vertical-align: middle;\n",
       "    }\n",
       "\n",
       "    .dataframe tbody tr th {\n",
       "        vertical-align: top;\n",
       "    }\n",
       "\n",
       "    .dataframe thead th {\n",
       "        text-align: right;\n",
       "    }\n",
       "</style>\n",
       "<table border=\"1\" class=\"dataframe\">\n",
       "  <thead>\n",
       "    <tr style=\"text-align: right;\">\n",
       "      <th></th>\n",
       "      <th>id_prod</th>\n",
       "      <th>price</th>\n",
       "      <th>categ</th>\n",
       "    </tr>\n",
       "  </thead>\n",
       "  <tbody>\n",
       "    <tr>\n",
       "      <th>0</th>\n",
       "      <td>0_1421</td>\n",
       "      <td>19.99</td>\n",
       "      <td>0</td>\n",
       "    </tr>\n",
       "    <tr>\n",
       "      <th>1</th>\n",
       "      <td>0_1368</td>\n",
       "      <td>5.13</td>\n",
       "      <td>0</td>\n",
       "    </tr>\n",
       "    <tr>\n",
       "      <th>2</th>\n",
       "      <td>0_731</td>\n",
       "      <td>17.99</td>\n",
       "      <td>0</td>\n",
       "    </tr>\n",
       "    <tr>\n",
       "      <th>3</th>\n",
       "      <td>1_587</td>\n",
       "      <td>4.99</td>\n",
       "      <td>1</td>\n",
       "    </tr>\n",
       "    <tr>\n",
       "      <th>4</th>\n",
       "      <td>0_1507</td>\n",
       "      <td>3.99</td>\n",
       "      <td>0</td>\n",
       "    </tr>\n",
       "    <tr>\n",
       "      <th>...</th>\n",
       "      <td>...</td>\n",
       "      <td>...</td>\n",
       "      <td>...</td>\n",
       "    </tr>\n",
       "    <tr>\n",
       "      <th>3282</th>\n",
       "      <td>2_23</td>\n",
       "      <td>115.99</td>\n",
       "      <td>2</td>\n",
       "    </tr>\n",
       "    <tr>\n",
       "      <th>3283</th>\n",
       "      <td>0_146</td>\n",
       "      <td>17.14</td>\n",
       "      <td>0</td>\n",
       "    </tr>\n",
       "    <tr>\n",
       "      <th>3284</th>\n",
       "      <td>0_802</td>\n",
       "      <td>11.22</td>\n",
       "      <td>0</td>\n",
       "    </tr>\n",
       "    <tr>\n",
       "      <th>3285</th>\n",
       "      <td>1_140</td>\n",
       "      <td>38.56</td>\n",
       "      <td>1</td>\n",
       "    </tr>\n",
       "    <tr>\n",
       "      <th>3286</th>\n",
       "      <td>0_1920</td>\n",
       "      <td>25.16</td>\n",
       "      <td>0</td>\n",
       "    </tr>\n",
       "  </tbody>\n",
       "</table>\n",
       "<p>3286 rows × 3 columns</p>\n",
       "</div>"
      ],
      "text/plain": [
       "     id_prod   price  categ\n",
       "0     0_1421   19.99      0\n",
       "1     0_1368    5.13      0\n",
       "2      0_731   17.99      0\n",
       "3      1_587    4.99      1\n",
       "4     0_1507    3.99      0\n",
       "...      ...     ...    ...\n",
       "3282    2_23  115.99      2\n",
       "3283   0_146   17.14      0\n",
       "3284   0_802   11.22      0\n",
       "3285   1_140   38.56      1\n",
       "3286  0_1920   25.16      0\n",
       "\n",
       "[3286 rows x 3 columns]"
      ]
     },
     "execution_count": 218,
     "metadata": {},
     "output_type": "execute_result"
    }
   ],
   "source": [
    "products_df"
   ]
  },
  {
   "cell_type": "code",
   "execution_count": 219,
   "id": "e070be0b-134d-407d-bdd5-d8f15e347071",
   "metadata": {},
   "outputs": [
    {
     "data": {
      "text/html": [
       "<div>\n",
       "<style scoped>\n",
       "    .dataframe tbody tr th:only-of-type {\n",
       "        vertical-align: middle;\n",
       "    }\n",
       "\n",
       "    .dataframe tbody tr th {\n",
       "        vertical-align: top;\n",
       "    }\n",
       "\n",
       "    .dataframe thead th {\n",
       "        text-align: right;\n",
       "    }\n",
       "</style>\n",
       "<table border=\"1\" class=\"dataframe\">\n",
       "  <thead>\n",
       "    <tr style=\"text-align: right;\">\n",
       "      <th></th>\n",
       "      <th>id_prod</th>\n",
       "      <th>date</th>\n",
       "      <th>session_id</th>\n",
       "      <th>client_id</th>\n",
       "    </tr>\n",
       "  </thead>\n",
       "  <tbody>\n",
       "    <tr>\n",
       "      <th>0</th>\n",
       "      <td>0_1518</td>\n",
       "      <td>2022-05-20 13:21:29.043970</td>\n",
       "      <td>s_211425</td>\n",
       "      <td>c_103</td>\n",
       "    </tr>\n",
       "    <tr>\n",
       "      <th>1</th>\n",
       "      <td>1_251</td>\n",
       "      <td>2022-02-02 07:55:19.149409</td>\n",
       "      <td>s_158752</td>\n",
       "      <td>c_8534</td>\n",
       "    </tr>\n",
       "    <tr>\n",
       "      <th>2</th>\n",
       "      <td>0_1277</td>\n",
       "      <td>2022-06-18 15:44:33.155329</td>\n",
       "      <td>s_225667</td>\n",
       "      <td>c_6714</td>\n",
       "    </tr>\n",
       "    <tr>\n",
       "      <th>3</th>\n",
       "      <td>2_209</td>\n",
       "      <td>2021-06-24 04:19:29.835891</td>\n",
       "      <td>s_52962</td>\n",
       "      <td>c_6941</td>\n",
       "    </tr>\n",
       "    <tr>\n",
       "      <th>4</th>\n",
       "      <td>0_1509</td>\n",
       "      <td>2023-01-11 08:22:08.194479</td>\n",
       "      <td>s_325227</td>\n",
       "      <td>c_4232</td>\n",
       "    </tr>\n",
       "    <tr>\n",
       "      <th>...</th>\n",
       "      <td>...</td>\n",
       "      <td>...</td>\n",
       "      <td>...</td>\n",
       "      <td>...</td>\n",
       "    </tr>\n",
       "    <tr>\n",
       "      <th>679527</th>\n",
       "      <td>0_1551</td>\n",
       "      <td>2022-01-15 13:05:06.246925</td>\n",
       "      <td>s_150195</td>\n",
       "      <td>c_8489</td>\n",
       "    </tr>\n",
       "    <tr>\n",
       "      <th>679528</th>\n",
       "      <td>1_639</td>\n",
       "      <td>2022-03-19 16:03:23.429229</td>\n",
       "      <td>s_181434</td>\n",
       "      <td>c_4370</td>\n",
       "    </tr>\n",
       "    <tr>\n",
       "      <th>679529</th>\n",
       "      <td>0_1425</td>\n",
       "      <td>2022-12-20 04:33:37.584749</td>\n",
       "      <td>s_314704</td>\n",
       "      <td>c_304</td>\n",
       "    </tr>\n",
       "    <tr>\n",
       "      <th>679530</th>\n",
       "      <td>0_1994</td>\n",
       "      <td>2021-07-16 20:36:35.350579</td>\n",
       "      <td>s_63204</td>\n",
       "      <td>c_2227</td>\n",
       "    </tr>\n",
       "    <tr>\n",
       "      <th>679531</th>\n",
       "      <td>1_523</td>\n",
       "      <td>2022-09-28 01:12:01.973763</td>\n",
       "      <td>s_274568</td>\n",
       "      <td>c_3873</td>\n",
       "    </tr>\n",
       "  </tbody>\n",
       "</table>\n",
       "<p>679332 rows × 4 columns</p>\n",
       "</div>"
      ],
      "text/plain": [
       "       id_prod                       date session_id client_id\n",
       "0       0_1518 2022-05-20 13:21:29.043970   s_211425     c_103\n",
       "1        1_251 2022-02-02 07:55:19.149409   s_158752    c_8534\n",
       "2       0_1277 2022-06-18 15:44:33.155329   s_225667    c_6714\n",
       "3        2_209 2021-06-24 04:19:29.835891    s_52962    c_6941\n",
       "4       0_1509 2023-01-11 08:22:08.194479   s_325227    c_4232\n",
       "...        ...                        ...        ...       ...\n",
       "679527  0_1551 2022-01-15 13:05:06.246925   s_150195    c_8489\n",
       "679528   1_639 2022-03-19 16:03:23.429229   s_181434    c_4370\n",
       "679529  0_1425 2022-12-20 04:33:37.584749   s_314704     c_304\n",
       "679530  0_1994 2021-07-16 20:36:35.350579    s_63204    c_2227\n",
       "679531   1_523 2022-09-28 01:12:01.973763   s_274568    c_3873\n",
       "\n",
       "[679332 rows x 4 columns]"
      ]
     },
     "execution_count": 219,
     "metadata": {},
     "output_type": "execute_result"
    }
   ],
   "source": [
    "transactions_df"
   ]
  },
  {
   "cell_type": "markdown",
   "id": "bd2bdc9b-31f0-4dc8-9af4-8a2ee1684958",
   "metadata": {},
   "source": [
    "### Erreurs de type"
   ]
  },
  {
   "cell_type": "code",
   "execution_count": 188,
   "id": "40112294-d75b-4f4a-aac5-b4a528aa2d57",
   "metadata": {},
   "outputs": [
    {
     "data": {
      "text/plain": [
       "client_id    object\n",
       "sex          object\n",
       "birth         int64\n",
       "dtype: object"
      ]
     },
     "execution_count": 188,
     "metadata": {},
     "output_type": "execute_result"
    }
   ],
   "source": [
    "customers_df.dtypes"
   ]
  },
  {
   "cell_type": "code",
   "execution_count": 189,
   "id": "928e3665-883f-4e1a-b98c-d7fea210731f",
   "metadata": {},
   "outputs": [
    {
     "data": {
      "text/plain": [
       "id_prod     object\n",
       "price      float64\n",
       "categ        int64\n",
       "dtype: object"
      ]
     },
     "execution_count": 189,
     "metadata": {},
     "output_type": "execute_result"
    }
   ],
   "source": [
    "products_df.dtypes"
   ]
  },
  {
   "cell_type": "code",
   "execution_count": 190,
   "id": "b933e9f0-eaeb-4f2c-8066-7c05472e8190",
   "metadata": {},
   "outputs": [
    {
     "data": {
      "text/plain": [
       "id_prod       object\n",
       "date          object\n",
       "session_id    object\n",
       "client_id     object\n",
       "dtype: object"
      ]
     },
     "execution_count": 190,
     "metadata": {},
     "output_type": "execute_result"
    }
   ],
   "source": [
    "transactions_df.dtypes"
   ]
  },
  {
   "cell_type": "markdown",
   "id": "8d93e34d-c57e-49e0-b2e0-8ec8a87eea3f",
   "metadata": {},
   "source": [
    "**Observation**<br>\n",
    "La seule chose qui semble être problématique est la variable date qui n'est pas considérée comme une date. <br>\n",
    "On peut corriger cela via la fonction to_datetime de pandas. <br>\n",
    "\n",
    "**Méthode**<br>\n",
    "En lançant la commande de transformation du type object en date, on s'aperçoit que la conversion est bloquée par une erreur : \"Unknown string format: test_2021-03-01 02:30:02.237419\"<br>\n",
    "Avant de relancer la conversion, j'identifie toutes les dates ayant le mot \"test\" et je les stocke dans un nouveau dataframe avant de les supprimer de mon fichier.\n",
    "Je lance ensuite ma conversion au format date."
   ]
  },
  {
   "cell_type": "code",
   "execution_count": 191,
   "id": "3d42f257-8b74-42fa-b917-e1e750a8c833",
   "metadata": {},
   "outputs": [
    {
     "data": {
      "text/html": [
       "<div>\n",
       "<style scoped>\n",
       "    .dataframe tbody tr th:only-of-type {\n",
       "        vertical-align: middle;\n",
       "    }\n",
       "\n",
       "    .dataframe tbody tr th {\n",
       "        vertical-align: top;\n",
       "    }\n",
       "\n",
       "    .dataframe thead th {\n",
       "        text-align: right;\n",
       "    }\n",
       "</style>\n",
       "<table border=\"1\" class=\"dataframe\">\n",
       "  <thead>\n",
       "    <tr style=\"text-align: right;\">\n",
       "      <th></th>\n",
       "      <th>id_prod</th>\n",
       "      <th>date</th>\n",
       "      <th>session_id</th>\n",
       "      <th>client_id</th>\n",
       "    </tr>\n",
       "  </thead>\n",
       "  <tbody>\n",
       "    <tr>\n",
       "      <th>3019</th>\n",
       "      <td>T_0</td>\n",
       "      <td>test_2021-03-01 02:30:02.237419</td>\n",
       "      <td>s_0</td>\n",
       "      <td>ct_0</td>\n",
       "    </tr>\n",
       "    <tr>\n",
       "      <th>5138</th>\n",
       "      <td>T_0</td>\n",
       "      <td>test_2021-03-01 02:30:02.237425</td>\n",
       "      <td>s_0</td>\n",
       "      <td>ct_0</td>\n",
       "    </tr>\n",
       "    <tr>\n",
       "      <th>9668</th>\n",
       "      <td>T_0</td>\n",
       "      <td>test_2021-03-01 02:30:02.237437</td>\n",
       "      <td>s_0</td>\n",
       "      <td>ct_1</td>\n",
       "    </tr>\n",
       "    <tr>\n",
       "      <th>10728</th>\n",
       "      <td>T_0</td>\n",
       "      <td>test_2021-03-01 02:30:02.237436</td>\n",
       "      <td>s_0</td>\n",
       "      <td>ct_0</td>\n",
       "    </tr>\n",
       "    <tr>\n",
       "      <th>15292</th>\n",
       "      <td>T_0</td>\n",
       "      <td>test_2021-03-01 02:30:02.237430</td>\n",
       "      <td>s_0</td>\n",
       "      <td>ct_0</td>\n",
       "    </tr>\n",
       "  </tbody>\n",
       "</table>\n",
       "</div>"
      ],
      "text/plain": [
       "      id_prod                             date session_id client_id\n",
       "3019      T_0  test_2021-03-01 02:30:02.237419        s_0      ct_0\n",
       "5138      T_0  test_2021-03-01 02:30:02.237425        s_0      ct_0\n",
       "9668      T_0  test_2021-03-01 02:30:02.237437        s_0      ct_1\n",
       "10728     T_0  test_2021-03-01 02:30:02.237436        s_0      ct_0\n",
       "15292     T_0  test_2021-03-01 02:30:02.237430        s_0      ct_0"
      ]
     },
     "execution_count": 191,
     "metadata": {},
     "output_type": "execute_result"
    }
   ],
   "source": [
    "mask = np.column_stack([transactions_df[\"date\"].str.contains(\"test\", na=False) for col in transactions_df])\n",
    "test_dates_transactions_df=transactions_df.loc[mask.any(axis=1)]\n",
    "test_dates_transactions_df.head()"
   ]
  },
  {
   "cell_type": "code",
   "execution_count": 192,
   "id": "a4b95904-3875-4176-9017-c0451edca811",
   "metadata": {},
   "outputs": [],
   "source": [
    "transactions_df.drop(test_dates_transactions_df.index, inplace=True)"
   ]
  },
  {
   "cell_type": "code",
   "execution_count": 193,
   "id": "aecc3876-f216-4017-808e-f7bb92308be2",
   "metadata": {},
   "outputs": [
    {
     "data": {
      "text/plain": [
       "(679332, 4)"
      ]
     },
     "execution_count": 193,
     "metadata": {},
     "output_type": "execute_result"
    }
   ],
   "source": [
    "transactions_df.shape"
   ]
  },
  {
   "cell_type": "code",
   "execution_count": 194,
   "id": "b5fe46a0-01fd-47c2-9d8f-84b0b9af92ce",
   "metadata": {},
   "outputs": [
    {
     "data": {
      "text/plain": [
       "id_prod               object\n",
       "date          datetime64[ns]\n",
       "session_id            object\n",
       "client_id             object\n",
       "dtype: object"
      ]
     },
     "execution_count": 194,
     "metadata": {},
     "output_type": "execute_result"
    }
   ],
   "source": [
    "transactions_df.date=pd.to_datetime(transactions_df.date)\n",
    "transactions_df.dtypes"
   ]
  },
  {
   "cell_type": "markdown",
   "id": "8b0f8da5-fb4e-44e7-bc8f-d9142de80833",
   "metadata": {},
   "source": [
    "### Valeurs manquantes\n",
    "\n",
    "Je vérifier si mon jeu de données contient des valeurs manquantes (Null ou NaN)"
   ]
  },
  {
   "cell_type": "code",
   "execution_count": 195,
   "id": "2153648a-659a-4cc9-b1b1-81f0150ecfe6",
   "metadata": {},
   "outputs": [
    {
     "data": {
      "text/plain": [
       "client_id    0\n",
       "sex          0\n",
       "birth        0\n",
       "dtype: int64"
      ]
     },
     "execution_count": 195,
     "metadata": {},
     "output_type": "execute_result"
    }
   ],
   "source": [
    "customers_df.isnull().sum()| customers_df.isna().sum()"
   ]
  },
  {
   "cell_type": "code",
   "execution_count": 196,
   "id": "32b8eaef-8721-466d-bd48-a004f9bce51c",
   "metadata": {},
   "outputs": [
    {
     "data": {
      "text/plain": [
       "id_prod    0\n",
       "price      0\n",
       "categ      0\n",
       "dtype: int64"
      ]
     },
     "execution_count": 196,
     "metadata": {},
     "output_type": "execute_result"
    }
   ],
   "source": [
    "products_df.isnull().sum()| products_df.isna().sum()"
   ]
  },
  {
   "cell_type": "code",
   "execution_count": 197,
   "id": "158d5464-cbb3-4327-8dfc-5b111fc978b6",
   "metadata": {},
   "outputs": [
    {
     "data": {
      "text/plain": [
       "id_prod       0\n",
       "date          0\n",
       "session_id    0\n",
       "client_id     0\n",
       "dtype: int64"
      ]
     },
     "execution_count": 197,
     "metadata": {},
     "output_type": "execute_result"
    }
   ],
   "source": [
    "transactions_df.isnull().sum()| transactions_df.isna().sum()"
   ]
  },
  {
   "cell_type": "markdown",
   "id": "7043d2ec-f190-43f9-af52-ceff27006624",
   "metadata": {},
   "source": [
    "**Observation**<br>\n",
    "Il n'y a pas de valeurs NaN ou None"
   ]
  },
  {
   "cell_type": "markdown",
   "id": "c9c62753-90bf-40c3-aaca-1f5aa8a7bbb6",
   "metadata": {},
   "source": [
    "### Doublons\n",
    "\n",
    "Pour identifier les doublons, je me base sur des clés qui ne devraient pas contenir d'informations en double<br>\n",
    "- customer : le client_id doit être unique puisqu'il constitue la clé primaire;<br>\n",
    "- products : le id_prod doit être unique puisqu'il constitue la clé primaire;<br>\n",
    "- transactions : ce qui constituerait une transaction unique est l'ensemble id_prod + client_id + date."
   ]
  },
  {
   "cell_type": "code",
   "execution_count": 198,
   "id": "d6d4c7e9-2870-4f36-8ac6-ab295e0d92b7",
   "metadata": {},
   "outputs": [
    {
     "data": {
      "text/html": [
       "<div>\n",
       "<style scoped>\n",
       "    .dataframe tbody tr th:only-of-type {\n",
       "        vertical-align: middle;\n",
       "    }\n",
       "\n",
       "    .dataframe tbody tr th {\n",
       "        vertical-align: top;\n",
       "    }\n",
       "\n",
       "    .dataframe thead th {\n",
       "        text-align: right;\n",
       "    }\n",
       "</style>\n",
       "<table border=\"1\" class=\"dataframe\">\n",
       "  <thead>\n",
       "    <tr style=\"text-align: right;\">\n",
       "      <th></th>\n",
       "      <th>client_id</th>\n",
       "      <th>sex</th>\n",
       "      <th>birth</th>\n",
       "    </tr>\n",
       "  </thead>\n",
       "  <tbody>\n",
       "  </tbody>\n",
       "</table>\n",
       "</div>"
      ],
      "text/plain": [
       "Empty DataFrame\n",
       "Columns: [client_id, sex, birth]\n",
       "Index: []"
      ]
     },
     "execution_count": 198,
     "metadata": {},
     "output_type": "execute_result"
    }
   ],
   "source": [
    "customers_df.loc[customers_df[\"client_id\"].duplicated(keep=False),:]"
   ]
  },
  {
   "cell_type": "code",
   "execution_count": 199,
   "id": "3e536222-a86e-41be-bd43-c53daf0020ec",
   "metadata": {},
   "outputs": [
    {
     "data": {
      "text/html": [
       "<div>\n",
       "<style scoped>\n",
       "    .dataframe tbody tr th:only-of-type {\n",
       "        vertical-align: middle;\n",
       "    }\n",
       "\n",
       "    .dataframe tbody tr th {\n",
       "        vertical-align: top;\n",
       "    }\n",
       "\n",
       "    .dataframe thead th {\n",
       "        text-align: right;\n",
       "    }\n",
       "</style>\n",
       "<table border=\"1\" class=\"dataframe\">\n",
       "  <thead>\n",
       "    <tr style=\"text-align: right;\">\n",
       "      <th></th>\n",
       "      <th>id_prod</th>\n",
       "      <th>date</th>\n",
       "      <th>session_id</th>\n",
       "      <th>client_id</th>\n",
       "    </tr>\n",
       "  </thead>\n",
       "  <tbody>\n",
       "  </tbody>\n",
       "</table>\n",
       "</div>"
      ],
      "text/plain": [
       "Empty DataFrame\n",
       "Columns: [id_prod, date, session_id, client_id]\n",
       "Index: []"
      ]
     },
     "execution_count": 199,
     "metadata": {},
     "output_type": "execute_result"
    }
   ],
   "source": [
    "transactions_df.loc[transactions_df[[\"id_prod\",\"date\",\"client_id\"]].duplicated(keep=False)]"
   ]
  },
  {
   "cell_type": "code",
   "execution_count": 200,
   "id": "c2a8905e-d7f7-4401-93b4-b88c299a1818",
   "metadata": {},
   "outputs": [
    {
     "data": {
      "text/html": [
       "<div>\n",
       "<style scoped>\n",
       "    .dataframe tbody tr th:only-of-type {\n",
       "        vertical-align: middle;\n",
       "    }\n",
       "\n",
       "    .dataframe tbody tr th {\n",
       "        vertical-align: top;\n",
       "    }\n",
       "\n",
       "    .dataframe thead th {\n",
       "        text-align: right;\n",
       "    }\n",
       "</style>\n",
       "<table border=\"1\" class=\"dataframe\">\n",
       "  <thead>\n",
       "    <tr style=\"text-align: right;\">\n",
       "      <th></th>\n",
       "      <th>id_prod</th>\n",
       "      <th>date</th>\n",
       "      <th>session_id</th>\n",
       "      <th>client_id</th>\n",
       "    </tr>\n",
       "  </thead>\n",
       "  <tbody>\n",
       "    <tr>\n",
       "      <th>599185</th>\n",
       "      <td>0_1604</td>\n",
       "      <td>2021-10-04 19:00:20.030388</td>\n",
       "      <td>s_99998</td>\n",
       "      <td>c_2795</td>\n",
       "    </tr>\n",
       "    <tr>\n",
       "      <th>48865</th>\n",
       "      <td>0_1411</td>\n",
       "      <td>2021-10-04 18:50:59.099942</td>\n",
       "      <td>s_99998</td>\n",
       "      <td>c_2795</td>\n",
       "    </tr>\n",
       "    <tr>\n",
       "      <th>633558</th>\n",
       "      <td>0_1572</td>\n",
       "      <td>2021-10-04 18:45:54.374885</td>\n",
       "      <td>s_99998</td>\n",
       "      <td>c_2795</td>\n",
       "    </tr>\n",
       "    <tr>\n",
       "      <th>218613</th>\n",
       "      <td>0_1475</td>\n",
       "      <td>2021-10-04 18:45:05.640783</td>\n",
       "      <td>s_99996</td>\n",
       "      <td>c_4900</td>\n",
       "    </tr>\n",
       "    <tr>\n",
       "      <th>671163</th>\n",
       "      <td>0_1609</td>\n",
       "      <td>2021-10-04 18:39:10.485474</td>\n",
       "      <td>s_99996</td>\n",
       "      <td>c_4900</td>\n",
       "    </tr>\n",
       "    <tr>\n",
       "      <th>...</th>\n",
       "      <td>...</td>\n",
       "      <td>...</td>\n",
       "      <td>...</td>\n",
       "      <td>...</td>\n",
       "    </tr>\n",
       "    <tr>\n",
       "      <th>142862</th>\n",
       "      <td>0_1625</td>\n",
       "      <td>2021-03-03 02:38:09.568389</td>\n",
       "      <td>s_1000</td>\n",
       "      <td>c_1014</td>\n",
       "    </tr>\n",
       "    <tr>\n",
       "      <th>377843</th>\n",
       "      <td>0_1590</td>\n",
       "      <td>2021-03-03 02:49:03.169115</td>\n",
       "      <td>s_1000</td>\n",
       "      <td>c_1014</td>\n",
       "    </tr>\n",
       "    <tr>\n",
       "      <th>87809</th>\n",
       "      <td>0_1438</td>\n",
       "      <td>2021-03-03 03:25:12.320225</td>\n",
       "      <td>s_1000</td>\n",
       "      <td>c_1014</td>\n",
       "    </tr>\n",
       "    <tr>\n",
       "      <th>360110</th>\n",
       "      <td>0_1030</td>\n",
       "      <td>2021-03-01 04:12:43.572994</td>\n",
       "      <td>s_100</td>\n",
       "      <td>c_3854</td>\n",
       "    </tr>\n",
       "    <tr>\n",
       "      <th>578825</th>\n",
       "      <td>0_1451</td>\n",
       "      <td>2021-03-01 04:43:58.025677</td>\n",
       "      <td>s_100</td>\n",
       "      <td>c_3854</td>\n",
       "    </tr>\n",
       "  </tbody>\n",
       "</table>\n",
       "<p>515982 rows × 4 columns</p>\n",
       "</div>"
      ],
      "text/plain": [
       "       id_prod                       date session_id client_id\n",
       "599185  0_1604 2021-10-04 19:00:20.030388    s_99998    c_2795\n",
       "48865   0_1411 2021-10-04 18:50:59.099942    s_99998    c_2795\n",
       "633558  0_1572 2021-10-04 18:45:54.374885    s_99998    c_2795\n",
       "218613  0_1475 2021-10-04 18:45:05.640783    s_99996    c_4900\n",
       "671163  0_1609 2021-10-04 18:39:10.485474    s_99996    c_4900\n",
       "...        ...                        ...        ...       ...\n",
       "142862  0_1625 2021-03-03 02:38:09.568389     s_1000    c_1014\n",
       "377843  0_1590 2021-03-03 02:49:03.169115     s_1000    c_1014\n",
       "87809   0_1438 2021-03-03 03:25:12.320225     s_1000    c_1014\n",
       "360110  0_1030 2021-03-01 04:12:43.572994      s_100    c_3854\n",
       "578825  0_1451 2021-03-01 04:43:58.025677      s_100    c_3854\n",
       "\n",
       "[515982 rows x 4 columns]"
      ]
     },
     "execution_count": 200,
     "metadata": {},
     "output_type": "execute_result"
    }
   ],
   "source": [
    "# à supprimer?\n",
    "transactions_df.sort_values(\"session_id\", ascending=False).loc[transactions_df[\"session_id\"].duplicated(keep=False)]"
   ]
  },
  {
   "cell_type": "markdown",
   "id": "4f01d292-4571-46af-872e-9a13dcce888d",
   "metadata": {},
   "source": [
    "**Observation**<br>\n",
    "Il n'y a pas de doublon dans les données"
   ]
  },
  {
   "cell_type": "markdown",
   "id": "b00b8071-a5b4-43f2-8bf1-049eeb8997f5",
   "metadata": {},
   "source": [
    "### Détection d'anomalies\n",
    "\n",
    "Un describe peut potentiellement nous aider dans un premier temps.<br>"
   ]
  },
  {
   "cell_type": "code",
   "execution_count": 201,
   "id": "42b0f548-436c-4946-885d-09990876751a",
   "metadata": {},
   "outputs": [
    {
     "data": {
      "text/html": [
       "<div>\n",
       "<style scoped>\n",
       "    .dataframe tbody tr th:only-of-type {\n",
       "        vertical-align: middle;\n",
       "    }\n",
       "\n",
       "    .dataframe tbody tr th {\n",
       "        vertical-align: top;\n",
       "    }\n",
       "\n",
       "    .dataframe thead th {\n",
       "        text-align: right;\n",
       "    }\n",
       "</style>\n",
       "<table border=\"1\" class=\"dataframe\">\n",
       "  <thead>\n",
       "    <tr style=\"text-align: right;\">\n",
       "      <th></th>\n",
       "      <th>client_id</th>\n",
       "      <th>sex</th>\n",
       "      <th>birth</th>\n",
       "    </tr>\n",
       "  </thead>\n",
       "  <tbody>\n",
       "    <tr>\n",
       "      <th>count</th>\n",
       "      <td>8623</td>\n",
       "      <td>8623</td>\n",
       "      <td>8623.000000</td>\n",
       "    </tr>\n",
       "    <tr>\n",
       "      <th>unique</th>\n",
       "      <td>8623</td>\n",
       "      <td>2</td>\n",
       "      <td>NaN</td>\n",
       "    </tr>\n",
       "    <tr>\n",
       "      <th>top</th>\n",
       "      <td>c_4410</td>\n",
       "      <td>f</td>\n",
       "      <td>NaN</td>\n",
       "    </tr>\n",
       "    <tr>\n",
       "      <th>freq</th>\n",
       "      <td>1</td>\n",
       "      <td>4491</td>\n",
       "      <td>NaN</td>\n",
       "    </tr>\n",
       "    <tr>\n",
       "      <th>mean</th>\n",
       "      <td>NaN</td>\n",
       "      <td>NaN</td>\n",
       "      <td>1978.280877</td>\n",
       "    </tr>\n",
       "    <tr>\n",
       "      <th>std</th>\n",
       "      <td>NaN</td>\n",
       "      <td>NaN</td>\n",
       "      <td>16.919535</td>\n",
       "    </tr>\n",
       "    <tr>\n",
       "      <th>min</th>\n",
       "      <td>NaN</td>\n",
       "      <td>NaN</td>\n",
       "      <td>1929.000000</td>\n",
       "    </tr>\n",
       "    <tr>\n",
       "      <th>25%</th>\n",
       "      <td>NaN</td>\n",
       "      <td>NaN</td>\n",
       "      <td>1966.000000</td>\n",
       "    </tr>\n",
       "    <tr>\n",
       "      <th>50%</th>\n",
       "      <td>NaN</td>\n",
       "      <td>NaN</td>\n",
       "      <td>1979.000000</td>\n",
       "    </tr>\n",
       "    <tr>\n",
       "      <th>75%</th>\n",
       "      <td>NaN</td>\n",
       "      <td>NaN</td>\n",
       "      <td>1992.000000</td>\n",
       "    </tr>\n",
       "    <tr>\n",
       "      <th>max</th>\n",
       "      <td>NaN</td>\n",
       "      <td>NaN</td>\n",
       "      <td>2004.000000</td>\n",
       "    </tr>\n",
       "  </tbody>\n",
       "</table>\n",
       "</div>"
      ],
      "text/plain": [
       "       client_id   sex        birth\n",
       "count       8623  8623  8623.000000\n",
       "unique      8623     2          NaN\n",
       "top       c_4410     f          NaN\n",
       "freq           1  4491          NaN\n",
       "mean         NaN   NaN  1978.280877\n",
       "std          NaN   NaN    16.919535\n",
       "min          NaN   NaN  1929.000000\n",
       "25%          NaN   NaN  1966.000000\n",
       "50%          NaN   NaN  1979.000000\n",
       "75%          NaN   NaN  1992.000000\n",
       "max          NaN   NaN  2004.000000"
      ]
     },
     "execution_count": 201,
     "metadata": {},
     "output_type": "execute_result"
    }
   ],
   "source": [
    "customers_df.describe(include=\"all\")"
   ]
  },
  {
   "cell_type": "markdown",
   "id": "c66e771c-3aa2-435b-8440-184a44aa3b23",
   "metadata": {},
   "source": [
    "**Observation**\n",
    "\n",
    "Pour la table customer, rien ne semble anormal : Les années de naissances vont de 1929 à 2004, et il n'y a que 2 valeurs pour le sexe.<br>"
   ]
  },
  {
   "cell_type": "code",
   "execution_count": 202,
   "id": "9bd55bbb-6236-4d4a-9048-6bf1183e3f76",
   "metadata": {},
   "outputs": [
    {
     "data": {
      "text/html": [
       "<div>\n",
       "<style scoped>\n",
       "    .dataframe tbody tr th:only-of-type {\n",
       "        vertical-align: middle;\n",
       "    }\n",
       "\n",
       "    .dataframe tbody tr th {\n",
       "        vertical-align: top;\n",
       "    }\n",
       "\n",
       "    .dataframe thead th {\n",
       "        text-align: right;\n",
       "    }\n",
       "</style>\n",
       "<table border=\"1\" class=\"dataframe\">\n",
       "  <thead>\n",
       "    <tr style=\"text-align: right;\">\n",
       "      <th></th>\n",
       "      <th>id_prod</th>\n",
       "      <th>price</th>\n",
       "      <th>categ</th>\n",
       "    </tr>\n",
       "  </thead>\n",
       "  <tbody>\n",
       "    <tr>\n",
       "      <th>count</th>\n",
       "      <td>3287</td>\n",
       "      <td>3287.000000</td>\n",
       "      <td>3287.000000</td>\n",
       "    </tr>\n",
       "    <tr>\n",
       "      <th>unique</th>\n",
       "      <td>3287</td>\n",
       "      <td>NaN</td>\n",
       "      <td>NaN</td>\n",
       "    </tr>\n",
       "    <tr>\n",
       "      <th>top</th>\n",
       "      <td>0_1421</td>\n",
       "      <td>NaN</td>\n",
       "      <td>NaN</td>\n",
       "    </tr>\n",
       "    <tr>\n",
       "      <th>freq</th>\n",
       "      <td>1</td>\n",
       "      <td>NaN</td>\n",
       "      <td>NaN</td>\n",
       "    </tr>\n",
       "    <tr>\n",
       "      <th>mean</th>\n",
       "      <td>NaN</td>\n",
       "      <td>21.856641</td>\n",
       "      <td>0.370246</td>\n",
       "    </tr>\n",
       "    <tr>\n",
       "      <th>std</th>\n",
       "      <td>NaN</td>\n",
       "      <td>29.847908</td>\n",
       "      <td>0.615387</td>\n",
       "    </tr>\n",
       "    <tr>\n",
       "      <th>min</th>\n",
       "      <td>NaN</td>\n",
       "      <td>-1.000000</td>\n",
       "      <td>0.000000</td>\n",
       "    </tr>\n",
       "    <tr>\n",
       "      <th>25%</th>\n",
       "      <td>NaN</td>\n",
       "      <td>6.990000</td>\n",
       "      <td>0.000000</td>\n",
       "    </tr>\n",
       "    <tr>\n",
       "      <th>50%</th>\n",
       "      <td>NaN</td>\n",
       "      <td>13.060000</td>\n",
       "      <td>0.000000</td>\n",
       "    </tr>\n",
       "    <tr>\n",
       "      <th>75%</th>\n",
       "      <td>NaN</td>\n",
       "      <td>22.990000</td>\n",
       "      <td>1.000000</td>\n",
       "    </tr>\n",
       "    <tr>\n",
       "      <th>max</th>\n",
       "      <td>NaN</td>\n",
       "      <td>300.000000</td>\n",
       "      <td>2.000000</td>\n",
       "    </tr>\n",
       "  </tbody>\n",
       "</table>\n",
       "</div>"
      ],
      "text/plain": [
       "       id_prod        price        categ\n",
       "count     3287  3287.000000  3287.000000\n",
       "unique    3287          NaN          NaN\n",
       "top     0_1421          NaN          NaN\n",
       "freq         1          NaN          NaN\n",
       "mean       NaN    21.856641     0.370246\n",
       "std        NaN    29.847908     0.615387\n",
       "min        NaN    -1.000000     0.000000\n",
       "25%        NaN     6.990000     0.000000\n",
       "50%        NaN    13.060000     0.000000\n",
       "75%        NaN    22.990000     1.000000\n",
       "max        NaN   300.000000     2.000000"
      ]
     },
     "execution_count": 202,
     "metadata": {},
     "output_type": "execute_result"
    }
   ],
   "source": [
    "products_df.describe(include=\"all\")"
   ]
  },
  {
   "cell_type": "markdown",
   "id": "36b7661f-3907-4509-87fb-d0946fcf53c8",
   "metadata": {},
   "source": [
    "**Observation**\n",
    "\n",
    "On note que la plus faible valeur est négative. Sans présumer de la valeur des livres, un prix négatif est forcément une erreur."
   ]
  },
  {
   "cell_type": "markdown",
   "id": "82ff50b5-4f99-4ef1-9f84-6d0c10a2b7f0",
   "metadata": {},
   "source": [
    "Recherche de prix négatifs ou valant 0"
   ]
  },
  {
   "cell_type": "code",
   "execution_count": 203,
   "id": "49361c8c-1f1e-4d4c-9d84-72990ab02c8d",
   "metadata": {},
   "outputs": [
    {
     "data": {
      "text/html": [
       "<div>\n",
       "<style scoped>\n",
       "    .dataframe tbody tr th:only-of-type {\n",
       "        vertical-align: middle;\n",
       "    }\n",
       "\n",
       "    .dataframe tbody tr th {\n",
       "        vertical-align: top;\n",
       "    }\n",
       "\n",
       "    .dataframe thead th {\n",
       "        text-align: right;\n",
       "    }\n",
       "</style>\n",
       "<table border=\"1\" class=\"dataframe\">\n",
       "  <thead>\n",
       "    <tr style=\"text-align: right;\">\n",
       "      <th></th>\n",
       "      <th>id_prod</th>\n",
       "      <th>price</th>\n",
       "      <th>categ</th>\n",
       "    </tr>\n",
       "  </thead>\n",
       "  <tbody>\n",
       "    <tr>\n",
       "      <th>731</th>\n",
       "      <td>T_0</td>\n",
       "      <td>-1.0</td>\n",
       "      <td>0</td>\n",
       "    </tr>\n",
       "  </tbody>\n",
       "</table>\n",
       "</div>"
      ],
      "text/plain": [
       "    id_prod  price  categ\n",
       "731     T_0   -1.0      0"
      ]
     },
     "execution_count": 203,
     "metadata": {},
     "output_type": "execute_result"
    }
   ],
   "source": [
    "products_df[products_df.price<=0]"
   ]
  },
  {
   "cell_type": "markdown",
   "id": "b8fb757c-9994-49a4-8f83-02c6dacf03a2",
   "metadata": {},
   "source": [
    "Le prix négatif a un id différent des autres car incluant une lettre. On pourrait assumer qu'il s'agit d'une erreur et supprimer cette ligne.\n",
    "Je vérifie avant si je retrouve ce produit dans la table transaction qui est liée à la table products."
   ]
  },
  {
   "cell_type": "code",
   "execution_count": 204,
   "id": "e8056c91-271c-4dd8-91e3-a265a6626719",
   "metadata": {},
   "outputs": [
    {
     "data": {
      "text/html": [
       "<div>\n",
       "<style scoped>\n",
       "    .dataframe tbody tr th:only-of-type {\n",
       "        vertical-align: middle;\n",
       "    }\n",
       "\n",
       "    .dataframe tbody tr th {\n",
       "        vertical-align: top;\n",
       "    }\n",
       "\n",
       "    .dataframe thead th {\n",
       "        text-align: right;\n",
       "    }\n",
       "</style>\n",
       "<table border=\"1\" class=\"dataframe\">\n",
       "  <thead>\n",
       "    <tr style=\"text-align: right;\">\n",
       "      <th></th>\n",
       "      <th>id_prod</th>\n",
       "      <th>date</th>\n",
       "      <th>session_id</th>\n",
       "      <th>client_id</th>\n",
       "    </tr>\n",
       "  </thead>\n",
       "  <tbody>\n",
       "  </tbody>\n",
       "</table>\n",
       "</div>"
      ],
      "text/plain": [
       "Empty DataFrame\n",
       "Columns: [id_prod, date, session_id, client_id]\n",
       "Index: []"
      ]
     },
     "execution_count": 204,
     "metadata": {},
     "output_type": "execute_result"
    }
   ],
   "source": [
    "transactions_df[transactions_df.id_prod==\"T_0\"]"
   ]
  },
  {
   "cell_type": "markdown",
   "id": "14a7c39f-aebf-4b2c-9159-86ed94cd62b2",
   "metadata": {},
   "source": [
    "Je vérifie en passant si ce produit se trouve dans la table de test."
   ]
  },
  {
   "cell_type": "code",
   "execution_count": 205,
   "id": "f892eae6-0eb9-4e80-ae38-5ccf1e11c152",
   "metadata": {},
   "outputs": [
    {
     "data": {
      "text/plain": [
       "id_prod       200\n",
       "date            0\n",
       "session_id      0\n",
       "client_id       0\n",
       "dtype: int64"
      ]
     },
     "execution_count": 205,
     "metadata": {},
     "output_type": "execute_result"
    }
   ],
   "source": [
    "test_dates_transactions_df[test_dates_transactions_df==\"T_0\"].count()"
   ]
  },
  {
   "cell_type": "markdown",
   "id": "01d0e47d-0891-4c09-bb41-8f7b009f4f32",
   "metadata": {},
   "source": [
    "Le produit est un produit test, il n'est pas présent dans la table transactions nettoyée. Je supprime la ligne."
   ]
  },
  {
   "cell_type": "code",
   "execution_count": 206,
   "id": "d362c184-926e-4b44-8f46-6d87df85eb55",
   "metadata": {},
   "outputs": [],
   "source": [
    "products_df.drop(products_df[products_df.price<=0].index, inplace=True)"
   ]
  },
  {
   "cell_type": "markdown",
   "id": "7c97323e-5e4c-4953-a095-61eb29b54132",
   "metadata": {},
   "source": [
    "### Conclusion"
   ]
  },
  {
   "cell_type": "markdown",
   "id": "500c4dcc-a519-41ce-afea-7487f674b407",
   "metadata": {},
   "source": [
    "Un type de données a été modifié.<br>\n",
    "Aucune valeur manquante identifiée.<br>\n",
    "Aucun doublon n'a été détecté.<br>\n",
    "Des lignes ont été supprimées :\n",
    " - Les lignes de tests\n",
    " - Les lignes contenant des prix négatifs\n"
   ]
  },
  {
   "cell_type": "code",
   "execution_count": 215,
   "id": "c38d1a00-92ac-4af0-826c-e5d701440d58",
   "metadata": {},
   "outputs": [
    {
     "name": "stdout",
     "output_type": "stream",
     "text": [
      "\n",
      "Le fichier 'customers.csv' contenait initialiement 8623 lignes et 3 colonnes. \n",
      "Il contient maintenant 8623 lignes et 3 colonnes. \n",
      "\n",
      "Le fichier 'products.csv' contenait initialiement 3287 lignes et 3 colonnes. \n",
      "Il contient maintenant 3286 lignes et 3 colonnes. \n",
      "\n",
      "Le fichier 'transactions.csv' contenait initialiement 679532 lignes et 4 colonnes. \n",
      "Il contient maintenant 679332 lignes et 4 colonnes. \n",
      "\n"
     ]
    }
   ],
   "source": [
    "customers_final_size=customers_df.shape\n",
    "products_final_size=products_df.shape\n",
    "transactions_final_size=transactions_df.shape\n",
    "\n",
    "print (f\"\"\"\n",
    "Le fichier 'customers.csv' contenait initialiement {customers_initial_size[0]} lignes et {customers_initial_size[1]} colonnes. \n",
    "Il contient maintenant {customers_final_size[0]} lignes et {customers_final_size[1]} colonnes. \n",
    "\n",
    "Le fichier 'products.csv' contenait initialiement {products_intial_size[0]} lignes et {products_intial_size[1]} colonnes. \n",
    "Il contient maintenant {products_final_size[0]} lignes et {products_final_size[1]} colonnes. \n",
    "\n",
    "Le fichier 'transactions.csv' contenait initialiement {transactions_intial_size[0]} lignes et {transactions_intial_size[1]} colonnes. \n",
    "Il contient maintenant {transactions_final_size[0]} lignes et {transactions_final_size[1]} colonnes. \n",
    "\"\"\")"
   ]
  },
  {
   "cell_type": "markdown",
   "id": "a76e3720-90ac-4b2b-bc74-f11b1257502f",
   "metadata": {},
   "source": [
    "# Analyse des différents indicateurs de vente"
   ]
  },
  {
   "cell_type": "markdown",
   "id": "e0561be8-b2f0-45c3-bbe9-a353ec65af92",
   "metadata": {},
   "source": [
    "Pour faciliter la lecture des données, je merge toutes les données dans un seul tableau. Le tableau \"principal\" est transactions car il a les 2 clés étrangères des 2 autres tables."
   ]
  },
  {
   "cell_type": "code",
   "execution_count": 220,
   "id": "8316fe06-6867-469d-8f25-ded771d427da",
   "metadata": {},
   "outputs": [],
   "source": [
    "main_df=(\n",
    "    transactions_df\n",
    "        .merge(customers_df, how=\"left\")\n",
    "        .merge(products_df, how=\"left\")\n",
    ")\n",
    "main_df"
   ]
  },
  {
   "cell_type": "code",
   "execution_count": 236,
   "id": "4db720ea-2f93-4e8c-9ec7-4bb8dc810220",
   "metadata": {},
   "outputs": [
    {
     "data": {
      "text/plain": [
       "id_prod               object\n",
       "date          datetime64[ns]\n",
       "session_id            object\n",
       "client_id             object\n",
       "sex                   object\n",
       "birth                  int64\n",
       "price                float64\n",
       "categ                float64\n",
       "dtype: object"
      ]
     },
     "execution_count": 236,
     "metadata": {},
     "output_type": "execute_result"
    }
   ],
   "source": [
    "main_df.dtypes"
   ]
  },
  {
   "cell_type": "markdown",
   "id": "6537cba9-26ac-4c5b-8363-387ab78147ca",
   "metadata": {},
   "source": [
    "Le champ categ est devenu flaot au lieu d'un entier.<br>\n",
    "Je force le type entier."
   ]
  },
  {
   "cell_type": "markdown",
   "id": "0e867539-05a4-4375-88d6-ff96de15469e",
   "metadata": {},
   "source": [
    "Ayant réalisé une jointure gauche, je vérifie s'il y a des lignes nulles"
   ]
  },
  {
   "cell_type": "code",
   "execution_count": 273,
   "id": "e1cdfaa0-16cf-4c54-8de7-f572e7bf72b8",
   "metadata": {},
   "outputs": [
    {
     "name": "stdout",
     "output_type": "stream",
     "text": [
      "Il y a 221 transactions dont au moins une valeur est nulle.\n",
      "Le produit concerné est 0_2245\n"
     ]
    }
   ],
   "source": [
    "null_rows=main_df[main_df.isnull().any(axis=1)]                          \n",
    "print(f\"Il y a {len(null_rows)} transactions dont au moins une valeur est nulle.\")\n",
    "if int(len(null_rows.id_prod.unique())>1):\n",
    "    print(f\"{len(null_rows.id_prod.unique())} produits sont concernés : {','.join(str(i) for i in null_rows.id_prod.unique())}\")\n",
    "else:\n",
    "    print(f\"Le produit concerné est {''.join(null_rows.id_prod.unique())}\") "
   ]
  },
  {
   "cell_type": "code",
   "execution_count": 275,
   "id": "51ea2794-5953-4eda-b3a0-6d0c35635d7f",
   "metadata": {},
   "outputs": [
    {
     "data": {
      "text/html": [
       "<div>\n",
       "<style scoped>\n",
       "    .dataframe tbody tr th:only-of-type {\n",
       "        vertical-align: middle;\n",
       "    }\n",
       "\n",
       "    .dataframe tbody tr th {\n",
       "        vertical-align: top;\n",
       "    }\n",
       "\n",
       "    .dataframe thead th {\n",
       "        text-align: right;\n",
       "    }\n",
       "</style>\n",
       "<table border=\"1\" class=\"dataframe\">\n",
       "  <thead>\n",
       "    <tr style=\"text-align: right;\">\n",
       "      <th></th>\n",
       "      <th>id_prod</th>\n",
       "      <th>date</th>\n",
       "      <th>session_id</th>\n",
       "      <th>client_id</th>\n",
       "      <th>sex</th>\n",
       "      <th>birth</th>\n",
       "      <th>price</th>\n",
       "      <th>categ</th>\n",
       "    </tr>\n",
       "  </thead>\n",
       "  <tbody>\n",
       "    <tr>\n",
       "      <th>2633</th>\n",
       "      <td>0_2245</td>\n",
       "      <td>2022-09-23 07:22:38.636773</td>\n",
       "      <td>s_272266</td>\n",
       "      <td>c_4746</td>\n",
       "      <td>m</td>\n",
       "      <td>1940</td>\n",
       "      <td>NaN</td>\n",
       "      <td>NaN</td>\n",
       "    </tr>\n",
       "    <tr>\n",
       "      <th>10103</th>\n",
       "      <td>0_2245</td>\n",
       "      <td>2022-07-23 09:24:14.133889</td>\n",
       "      <td>s_242482</td>\n",
       "      <td>c_6713</td>\n",
       "      <td>f</td>\n",
       "      <td>1963</td>\n",
       "      <td>NaN</td>\n",
       "      <td>NaN</td>\n",
       "    </tr>\n",
       "    <tr>\n",
       "      <th>11723</th>\n",
       "      <td>0_2245</td>\n",
       "      <td>2022-12-03 03:26:35.696673</td>\n",
       "      <td>s_306338</td>\n",
       "      <td>c_5108</td>\n",
       "      <td>m</td>\n",
       "      <td>1978</td>\n",
       "      <td>NaN</td>\n",
       "      <td>NaN</td>\n",
       "    </tr>\n",
       "    <tr>\n",
       "      <th>15670</th>\n",
       "      <td>0_2245</td>\n",
       "      <td>2021-08-16 11:33:25.481411</td>\n",
       "      <td>s_76493</td>\n",
       "      <td>c_1391</td>\n",
       "      <td>m</td>\n",
       "      <td>1991</td>\n",
       "      <td>NaN</td>\n",
       "      <td>NaN</td>\n",
       "    </tr>\n",
       "    <tr>\n",
       "      <th>16372</th>\n",
       "      <td>0_2245</td>\n",
       "      <td>2022-07-16 05:53:01.627491</td>\n",
       "      <td>s_239078</td>\n",
       "      <td>c_7954</td>\n",
       "      <td>m</td>\n",
       "      <td>1973</td>\n",
       "      <td>NaN</td>\n",
       "      <td>NaN</td>\n",
       "    </tr>\n",
       "  </tbody>\n",
       "</table>\n",
       "</div>"
      ],
      "text/plain": [
       "      id_prod                       date session_id client_id sex  birth  \\\n",
       "2633   0_2245 2022-09-23 07:22:38.636773   s_272266    c_4746   m   1940   \n",
       "10103  0_2245 2022-07-23 09:24:14.133889   s_242482    c_6713   f   1963   \n",
       "11723  0_2245 2022-12-03 03:26:35.696673   s_306338    c_5108   m   1978   \n",
       "15670  0_2245 2021-08-16 11:33:25.481411    s_76493    c_1391   m   1991   \n",
       "16372  0_2245 2022-07-16 05:53:01.627491   s_239078    c_7954   m   1973   \n",
       "\n",
       "       price  categ  \n",
       "2633     NaN    NaN  \n",
       "10103    NaN    NaN  \n",
       "11723    NaN    NaN  \n",
       "15670    NaN    NaN  \n",
       "16372    NaN    NaN  "
      ]
     },
     "execution_count": 275,
     "metadata": {},
     "output_type": "execute_result"
    }
   ],
   "source": [
    "null_rows.head()"
   ]
  },
  {
   "cell_type": "code",
   "execution_count": 284,
   "id": "96aaaeae-01b9-4d37-9311-6e2ee0662c24",
   "metadata": {},
   "outputs": [
    {
     "data": {
      "text/plain": [
       "679332"
      ]
     },
     "execution_count": 284,
     "metadata": {},
     "output_type": "execute_result"
    }
   ],
   "source": [
    "len(main_df)"
   ]
  },
  {
   "cell_type": "code",
   "execution_count": 238,
   "id": "5b138478-8c75-46ee-996d-58eaeec98ece",
   "metadata": {},
   "outputs": [
    {
     "ename": "IntCastingNaNError",
     "evalue": "Cannot convert non-finite values (NA or inf) to integer",
     "output_type": "error",
     "traceback": [
      "\u001b[0;31m---------------------------------------------------------------------------\u001b[0m",
      "\u001b[0;31mIntCastingNaNError\u001b[0m                        Traceback (most recent call last)",
      "\u001b[0;32m/var/folders/1r/qq5r_c7j22jc90rnpcm6drcw0000gn/T/ipykernel_1043/3069612348.py\u001b[0m in \u001b[0;36m<module>\u001b[0;34m\u001b[0m\n\u001b[0;32m----> 1\u001b[0;31m \u001b[0mmain_df\u001b[0m\u001b[0;34m[\u001b[0m\u001b[0;34m\"categ\"\u001b[0m\u001b[0;34m]\u001b[0m\u001b[0;34m=\u001b[0m\u001b[0mmain_df\u001b[0m\u001b[0;34m.\u001b[0m\u001b[0mcateg\u001b[0m\u001b[0;34m.\u001b[0m\u001b[0mastype\u001b[0m\u001b[0;34m(\u001b[0m\u001b[0;34m'int'\u001b[0m\u001b[0;34m)\u001b[0m\u001b[0;34m\u001b[0m\u001b[0;34m\u001b[0m\u001b[0m\n\u001b[0m",
      "\u001b[0;32m~/opt/anaconda3/lib/python3.9/site-packages/pandas/core/generic.py\u001b[0m in \u001b[0;36mastype\u001b[0;34m(self, dtype, copy, errors)\u001b[0m\n\u001b[1;32m   5918\u001b[0m         \u001b[0;32melse\u001b[0m\u001b[0;34m:\u001b[0m\u001b[0;34m\u001b[0m\u001b[0;34m\u001b[0m\u001b[0m\n\u001b[1;32m   5919\u001b[0m             \u001b[0;31m# else, only a single dtype is given\u001b[0m\u001b[0;34m\u001b[0m\u001b[0;34m\u001b[0m\u001b[0m\n\u001b[0;32m-> 5920\u001b[0;31m             \u001b[0mnew_data\u001b[0m \u001b[0;34m=\u001b[0m \u001b[0mself\u001b[0m\u001b[0;34m.\u001b[0m\u001b[0m_mgr\u001b[0m\u001b[0;34m.\u001b[0m\u001b[0mastype\u001b[0m\u001b[0;34m(\u001b[0m\u001b[0mdtype\u001b[0m\u001b[0;34m=\u001b[0m\u001b[0mdtype\u001b[0m\u001b[0;34m,\u001b[0m \u001b[0mcopy\u001b[0m\u001b[0;34m=\u001b[0m\u001b[0mcopy\u001b[0m\u001b[0;34m,\u001b[0m \u001b[0merrors\u001b[0m\u001b[0;34m=\u001b[0m\u001b[0merrors\u001b[0m\u001b[0;34m)\u001b[0m\u001b[0;34m\u001b[0m\u001b[0;34m\u001b[0m\u001b[0m\n\u001b[0m\u001b[1;32m   5921\u001b[0m             \u001b[0;32mreturn\u001b[0m \u001b[0mself\u001b[0m\u001b[0;34m.\u001b[0m\u001b[0m_constructor\u001b[0m\u001b[0;34m(\u001b[0m\u001b[0mnew_data\u001b[0m\u001b[0;34m)\u001b[0m\u001b[0;34m.\u001b[0m\u001b[0m__finalize__\u001b[0m\u001b[0;34m(\u001b[0m\u001b[0mself\u001b[0m\u001b[0;34m,\u001b[0m \u001b[0mmethod\u001b[0m\u001b[0;34m=\u001b[0m\u001b[0;34m\"astype\"\u001b[0m\u001b[0;34m)\u001b[0m\u001b[0;34m\u001b[0m\u001b[0;34m\u001b[0m\u001b[0m\n\u001b[1;32m   5922\u001b[0m \u001b[0;34m\u001b[0m\u001b[0m\n",
      "\u001b[0;32m~/opt/anaconda3/lib/python3.9/site-packages/pandas/core/internals/managers.py\u001b[0m in \u001b[0;36mastype\u001b[0;34m(self, dtype, copy, errors)\u001b[0m\n\u001b[1;32m    417\u001b[0m \u001b[0;34m\u001b[0m\u001b[0m\n\u001b[1;32m    418\u001b[0m     \u001b[0;32mdef\u001b[0m \u001b[0mastype\u001b[0m\u001b[0;34m(\u001b[0m\u001b[0mself\u001b[0m\u001b[0;34m:\u001b[0m \u001b[0mT\u001b[0m\u001b[0;34m,\u001b[0m \u001b[0mdtype\u001b[0m\u001b[0;34m,\u001b[0m \u001b[0mcopy\u001b[0m\u001b[0;34m:\u001b[0m \u001b[0mbool\u001b[0m \u001b[0;34m=\u001b[0m \u001b[0;32mFalse\u001b[0m\u001b[0;34m,\u001b[0m \u001b[0merrors\u001b[0m\u001b[0;34m:\u001b[0m \u001b[0mstr\u001b[0m \u001b[0;34m=\u001b[0m \u001b[0;34m\"raise\"\u001b[0m\u001b[0;34m)\u001b[0m \u001b[0;34m->\u001b[0m \u001b[0mT\u001b[0m\u001b[0;34m:\u001b[0m\u001b[0;34m\u001b[0m\u001b[0;34m\u001b[0m\u001b[0m\n\u001b[0;32m--> 419\u001b[0;31m         \u001b[0;32mreturn\u001b[0m \u001b[0mself\u001b[0m\u001b[0;34m.\u001b[0m\u001b[0mapply\u001b[0m\u001b[0;34m(\u001b[0m\u001b[0;34m\"astype\"\u001b[0m\u001b[0;34m,\u001b[0m \u001b[0mdtype\u001b[0m\u001b[0;34m=\u001b[0m\u001b[0mdtype\u001b[0m\u001b[0;34m,\u001b[0m \u001b[0mcopy\u001b[0m\u001b[0;34m=\u001b[0m\u001b[0mcopy\u001b[0m\u001b[0;34m,\u001b[0m \u001b[0merrors\u001b[0m\u001b[0;34m=\u001b[0m\u001b[0merrors\u001b[0m\u001b[0;34m)\u001b[0m\u001b[0;34m\u001b[0m\u001b[0;34m\u001b[0m\u001b[0m\n\u001b[0m\u001b[1;32m    420\u001b[0m \u001b[0;34m\u001b[0m\u001b[0m\n\u001b[1;32m    421\u001b[0m     def convert(\n",
      "\u001b[0;32m~/opt/anaconda3/lib/python3.9/site-packages/pandas/core/internals/managers.py\u001b[0m in \u001b[0;36mapply\u001b[0;34m(self, f, align_keys, ignore_failures, **kwargs)\u001b[0m\n\u001b[1;32m    302\u001b[0m                     \u001b[0mapplied\u001b[0m \u001b[0;34m=\u001b[0m \u001b[0mb\u001b[0m\u001b[0;34m.\u001b[0m\u001b[0mapply\u001b[0m\u001b[0;34m(\u001b[0m\u001b[0mf\u001b[0m\u001b[0;34m,\u001b[0m \u001b[0;34m**\u001b[0m\u001b[0mkwargs\u001b[0m\u001b[0;34m)\u001b[0m\u001b[0;34m\u001b[0m\u001b[0;34m\u001b[0m\u001b[0m\n\u001b[1;32m    303\u001b[0m                 \u001b[0;32melse\u001b[0m\u001b[0;34m:\u001b[0m\u001b[0;34m\u001b[0m\u001b[0;34m\u001b[0m\u001b[0m\n\u001b[0;32m--> 304\u001b[0;31m                     \u001b[0mapplied\u001b[0m \u001b[0;34m=\u001b[0m \u001b[0mgetattr\u001b[0m\u001b[0;34m(\u001b[0m\u001b[0mb\u001b[0m\u001b[0;34m,\u001b[0m \u001b[0mf\u001b[0m\u001b[0;34m)\u001b[0m\u001b[0;34m(\u001b[0m\u001b[0;34m**\u001b[0m\u001b[0mkwargs\u001b[0m\u001b[0;34m)\u001b[0m\u001b[0;34m\u001b[0m\u001b[0;34m\u001b[0m\u001b[0m\n\u001b[0m\u001b[1;32m    305\u001b[0m             \u001b[0;32mexcept\u001b[0m \u001b[0;34m(\u001b[0m\u001b[0mTypeError\u001b[0m\u001b[0;34m,\u001b[0m \u001b[0mNotImplementedError\u001b[0m\u001b[0;34m)\u001b[0m\u001b[0;34m:\u001b[0m\u001b[0;34m\u001b[0m\u001b[0;34m\u001b[0m\u001b[0m\n\u001b[1;32m    306\u001b[0m                 \u001b[0;32mif\u001b[0m \u001b[0;32mnot\u001b[0m \u001b[0mignore_failures\u001b[0m\u001b[0;34m:\u001b[0m\u001b[0;34m\u001b[0m\u001b[0;34m\u001b[0m\u001b[0m\n",
      "\u001b[0;32m~/opt/anaconda3/lib/python3.9/site-packages/pandas/core/internals/blocks.py\u001b[0m in \u001b[0;36mastype\u001b[0;34m(self, dtype, copy, errors)\u001b[0m\n\u001b[1;32m    578\u001b[0m         \u001b[0mvalues\u001b[0m \u001b[0;34m=\u001b[0m \u001b[0mself\u001b[0m\u001b[0;34m.\u001b[0m\u001b[0mvalues\u001b[0m\u001b[0;34m\u001b[0m\u001b[0;34m\u001b[0m\u001b[0m\n\u001b[1;32m    579\u001b[0m \u001b[0;34m\u001b[0m\u001b[0m\n\u001b[0;32m--> 580\u001b[0;31m         \u001b[0mnew_values\u001b[0m \u001b[0;34m=\u001b[0m \u001b[0mastype_array_safe\u001b[0m\u001b[0;34m(\u001b[0m\u001b[0mvalues\u001b[0m\u001b[0;34m,\u001b[0m \u001b[0mdtype\u001b[0m\u001b[0;34m,\u001b[0m \u001b[0mcopy\u001b[0m\u001b[0;34m=\u001b[0m\u001b[0mcopy\u001b[0m\u001b[0;34m,\u001b[0m \u001b[0merrors\u001b[0m\u001b[0;34m=\u001b[0m\u001b[0merrors\u001b[0m\u001b[0;34m)\u001b[0m\u001b[0;34m\u001b[0m\u001b[0;34m\u001b[0m\u001b[0m\n\u001b[0m\u001b[1;32m    581\u001b[0m \u001b[0;34m\u001b[0m\u001b[0m\n\u001b[1;32m    582\u001b[0m         \u001b[0mnew_values\u001b[0m \u001b[0;34m=\u001b[0m \u001b[0mmaybe_coerce_values\u001b[0m\u001b[0;34m(\u001b[0m\u001b[0mnew_values\u001b[0m\u001b[0;34m)\u001b[0m\u001b[0;34m\u001b[0m\u001b[0;34m\u001b[0m\u001b[0m\n",
      "\u001b[0;32m~/opt/anaconda3/lib/python3.9/site-packages/pandas/core/dtypes/cast.py\u001b[0m in \u001b[0;36mastype_array_safe\u001b[0;34m(values, dtype, copy, errors)\u001b[0m\n\u001b[1;32m   1290\u001b[0m \u001b[0;34m\u001b[0m\u001b[0m\n\u001b[1;32m   1291\u001b[0m     \u001b[0;32mtry\u001b[0m\u001b[0;34m:\u001b[0m\u001b[0;34m\u001b[0m\u001b[0;34m\u001b[0m\u001b[0m\n\u001b[0;32m-> 1292\u001b[0;31m         \u001b[0mnew_values\u001b[0m \u001b[0;34m=\u001b[0m \u001b[0mastype_array\u001b[0m\u001b[0;34m(\u001b[0m\u001b[0mvalues\u001b[0m\u001b[0;34m,\u001b[0m \u001b[0mdtype\u001b[0m\u001b[0;34m,\u001b[0m \u001b[0mcopy\u001b[0m\u001b[0;34m=\u001b[0m\u001b[0mcopy\u001b[0m\u001b[0;34m)\u001b[0m\u001b[0;34m\u001b[0m\u001b[0;34m\u001b[0m\u001b[0m\n\u001b[0m\u001b[1;32m   1293\u001b[0m     \u001b[0;32mexcept\u001b[0m \u001b[0;34m(\u001b[0m\u001b[0mValueError\u001b[0m\u001b[0;34m,\u001b[0m \u001b[0mTypeError\u001b[0m\u001b[0;34m)\u001b[0m\u001b[0;34m:\u001b[0m\u001b[0;34m\u001b[0m\u001b[0;34m\u001b[0m\u001b[0m\n\u001b[1;32m   1294\u001b[0m         \u001b[0;31m# e.g. astype_nansafe can fail on object-dtype of strings\u001b[0m\u001b[0;34m\u001b[0m\u001b[0;34m\u001b[0m\u001b[0m\n",
      "\u001b[0;32m~/opt/anaconda3/lib/python3.9/site-packages/pandas/core/dtypes/cast.py\u001b[0m in \u001b[0;36mastype_array\u001b[0;34m(values, dtype, copy)\u001b[0m\n\u001b[1;32m   1235\u001b[0m \u001b[0;34m\u001b[0m\u001b[0m\n\u001b[1;32m   1236\u001b[0m     \u001b[0;32melse\u001b[0m\u001b[0;34m:\u001b[0m\u001b[0;34m\u001b[0m\u001b[0;34m\u001b[0m\u001b[0m\n\u001b[0;32m-> 1237\u001b[0;31m         \u001b[0mvalues\u001b[0m \u001b[0;34m=\u001b[0m \u001b[0mastype_nansafe\u001b[0m\u001b[0;34m(\u001b[0m\u001b[0mvalues\u001b[0m\u001b[0;34m,\u001b[0m \u001b[0mdtype\u001b[0m\u001b[0;34m,\u001b[0m \u001b[0mcopy\u001b[0m\u001b[0;34m=\u001b[0m\u001b[0mcopy\u001b[0m\u001b[0;34m)\u001b[0m\u001b[0;34m\u001b[0m\u001b[0;34m\u001b[0m\u001b[0m\n\u001b[0m\u001b[1;32m   1238\u001b[0m \u001b[0;34m\u001b[0m\u001b[0m\n\u001b[1;32m   1239\u001b[0m     \u001b[0;31m# in pandas we don't store numpy str dtypes, so convert to object\u001b[0m\u001b[0;34m\u001b[0m\u001b[0;34m\u001b[0m\u001b[0m\n",
      "\u001b[0;32m~/opt/anaconda3/lib/python3.9/site-packages/pandas/core/dtypes/cast.py\u001b[0m in \u001b[0;36mastype_nansafe\u001b[0;34m(arr, dtype, copy, skipna)\u001b[0m\n\u001b[1;32m   1146\u001b[0m \u001b[0;34m\u001b[0m\u001b[0m\n\u001b[1;32m   1147\u001b[0m     \u001b[0;32melif\u001b[0m \u001b[0mnp\u001b[0m\u001b[0;34m.\u001b[0m\u001b[0missubdtype\u001b[0m\u001b[0;34m(\u001b[0m\u001b[0marr\u001b[0m\u001b[0;34m.\u001b[0m\u001b[0mdtype\u001b[0m\u001b[0;34m,\u001b[0m \u001b[0mnp\u001b[0m\u001b[0;34m.\u001b[0m\u001b[0mfloating\u001b[0m\u001b[0;34m)\u001b[0m \u001b[0;32mand\u001b[0m \u001b[0mnp\u001b[0m\u001b[0;34m.\u001b[0m\u001b[0missubdtype\u001b[0m\u001b[0;34m(\u001b[0m\u001b[0mdtype\u001b[0m\u001b[0;34m,\u001b[0m \u001b[0mnp\u001b[0m\u001b[0;34m.\u001b[0m\u001b[0minteger\u001b[0m\u001b[0;34m)\u001b[0m\u001b[0;34m:\u001b[0m\u001b[0;34m\u001b[0m\u001b[0;34m\u001b[0m\u001b[0m\n\u001b[0;32m-> 1148\u001b[0;31m         \u001b[0;32mreturn\u001b[0m \u001b[0mastype_float_to_int_nansafe\u001b[0m\u001b[0;34m(\u001b[0m\u001b[0marr\u001b[0m\u001b[0;34m,\u001b[0m \u001b[0mdtype\u001b[0m\u001b[0;34m,\u001b[0m \u001b[0mcopy\u001b[0m\u001b[0;34m)\u001b[0m\u001b[0;34m\u001b[0m\u001b[0;34m\u001b[0m\u001b[0m\n\u001b[0m\u001b[1;32m   1149\u001b[0m \u001b[0;34m\u001b[0m\u001b[0m\n\u001b[1;32m   1150\u001b[0m     \u001b[0;32melif\u001b[0m \u001b[0mis_object_dtype\u001b[0m\u001b[0;34m(\u001b[0m\u001b[0marr\u001b[0m\u001b[0;34m.\u001b[0m\u001b[0mdtype\u001b[0m\u001b[0;34m)\u001b[0m\u001b[0;34m:\u001b[0m\u001b[0;34m\u001b[0m\u001b[0;34m\u001b[0m\u001b[0m\n",
      "\u001b[0;32m~/opt/anaconda3/lib/python3.9/site-packages/pandas/core/dtypes/cast.py\u001b[0m in \u001b[0;36mastype_float_to_int_nansafe\u001b[0;34m(values, dtype, copy)\u001b[0m\n\u001b[1;32m   1191\u001b[0m     \"\"\"\n\u001b[1;32m   1192\u001b[0m     \u001b[0;32mif\u001b[0m \u001b[0;32mnot\u001b[0m \u001b[0mnp\u001b[0m\u001b[0;34m.\u001b[0m\u001b[0misfinite\u001b[0m\u001b[0;34m(\u001b[0m\u001b[0mvalues\u001b[0m\u001b[0;34m)\u001b[0m\u001b[0;34m.\u001b[0m\u001b[0mall\u001b[0m\u001b[0;34m(\u001b[0m\u001b[0;34m)\u001b[0m\u001b[0;34m:\u001b[0m\u001b[0;34m\u001b[0m\u001b[0;34m\u001b[0m\u001b[0m\n\u001b[0;32m-> 1193\u001b[0;31m         raise IntCastingNaNError(\n\u001b[0m\u001b[1;32m   1194\u001b[0m             \u001b[0;34m\"Cannot convert non-finite values (NA or inf) to integer\"\u001b[0m\u001b[0;34m\u001b[0m\u001b[0;34m\u001b[0m\u001b[0m\n\u001b[1;32m   1195\u001b[0m         )\n",
      "\u001b[0;31mIntCastingNaNError\u001b[0m: Cannot convert non-finite values (NA or inf) to integer"
     ]
    }
   ],
   "source": [
    "main_df[\"categ\"]=main_df.categ.astype('int')"
   ]
  },
  {
   "cell_type": "markdown",
   "id": "39113ef1-6f5f-4117-91c3-815588c9883a",
   "metadata": {
    "jp-MarkdownHeadingCollapsed": true,
    "tags": []
   },
   "source": [
    "# g"
   ]
  },
  {
   "cell_type": "markdown",
   "id": "ac514fd7-d5ea-4271-b77c-55fef8572a69",
   "metadata": {
    "tags": []
   },
   "source": [
    "#### Calcul du z_score\n",
    "Selon la formule (x-µ)/σ \n",
    "- x=valeur de la cellule\n",
    "- µ=moyenne\n",
    "- écart type\n",
    "\n",
    "Méthode pour calculer les outliers :<br>\n",
    "Pour des données supposées normalement distribuées, 95% de celles-ci se situent dans 2 écarts types, et 99.7% dans 3.\n",
    "Comme on ne sait pas vraiment ce que l'on cherche, un seuil de 2 sera plus pertinent."
   ]
  },
  {
   "cell_type": "code",
   "execution_count": 79,
   "id": "7013468a-40b2-4be0-bf7b-3dd208352d6b",
   "metadata": {},
   "outputs": [
    {
     "name": "stdout",
     "output_type": "stream",
     "text": [
      "\n",
      "La moyenne des prix se positionne à 21.86€.\n",
      "L'écart-type est de 29.84.\n",
      "\n"
     ]
    }
   ],
   "source": [
    "mean = np.mean(products_df.price)\n",
    "std_dev=np.std(products_df.price)\n",
    "products_df[\"Z_score\"]=(products_df.price - mean)/std_dev\n",
    "\n",
    "print(f\"\"\"\n",
    "La moyenne des prix se positionne à {mean:.2f}€.\n",
    "L'écart-type est de {std_dev:.2f}.\n",
    "\"\"\")\n"
   ]
  },
  {
   "cell_type": "markdown",
   "id": "d57f2443-3b23-4c7a-93e2-e1964f0832c0",
   "metadata": {},
   "source": [
    "Comme un prix est forcément positif, je ne regarde pas les valeurs inférieures à 2 fois l'écart type, mais uniquement les z_score supérieurs au seuil de 2 écarts types.\n",
    "Puis, je calcule le seuil de prix à partir duquel une valeur est considérée comme un outlier : \n",
    "- (x-µ)/σ=seuil \n",
    "- soit x = seuil * σ + µ\n",
    "\n",
    "Les prix négatifs ou valant 0 ont déjà été gérés."
   ]
  },
  {
   "cell_type": "code",
   "execution_count": 112,
   "id": "7e7798ea-c6ad-46d1-8d83-917a98076488",
   "metadata": {},
   "outputs": [
    {
     "data": {
      "text/html": [
       "<div>\n",
       "<style scoped>\n",
       "    .dataframe tbody tr th:only-of-type {\n",
       "        vertical-align: middle;\n",
       "    }\n",
       "\n",
       "    .dataframe tbody tr th {\n",
       "        vertical-align: top;\n",
       "    }\n",
       "\n",
       "    .dataframe thead th {\n",
       "        text-align: right;\n",
       "    }\n",
       "</style>\n",
       "<table border=\"1\" class=\"dataframe\">\n",
       "  <thead>\n",
       "    <tr style=\"text-align: right;\">\n",
       "      <th></th>\n",
       "      <th>id_prod</th>\n",
       "      <th>price</th>\n",
       "      <th>categ</th>\n",
       "      <th>Z-Score</th>\n",
       "      <th>Z_score</th>\n",
       "    </tr>\n",
       "  </thead>\n",
       "  <tbody>\n",
       "    <tr>\n",
       "      <th>2779</th>\n",
       "      <td>2_30</td>\n",
       "      <td>233.54</td>\n",
       "      <td>2</td>\n",
       "      <td>7.093146</td>\n",
       "      <td>7.093146</td>\n",
       "    </tr>\n",
       "    <tr>\n",
       "      <th>1436</th>\n",
       "      <td>2_167</td>\n",
       "      <td>236.99</td>\n",
       "      <td>2</td>\n",
       "      <td>7.208750</td>\n",
       "      <td>7.208750</td>\n",
       "    </tr>\n",
       "    <tr>\n",
       "      <th>394</th>\n",
       "      <td>2_158</td>\n",
       "      <td>247.22</td>\n",
       "      <td>2</td>\n",
       "      <td>7.551539</td>\n",
       "      <td>7.551539</td>\n",
       "    </tr>\n",
       "    <tr>\n",
       "      <th>724</th>\n",
       "      <td>2_76</td>\n",
       "      <td>254.44</td>\n",
       "      <td>2</td>\n",
       "      <td>7.793469</td>\n",
       "      <td>7.793469</td>\n",
       "    </tr>\n",
       "    <tr>\n",
       "      <th>947</th>\n",
       "      <td>2_2</td>\n",
       "      <td>300.00</td>\n",
       "      <td>2</td>\n",
       "      <td>9.320107</td>\n",
       "      <td>9.320107</td>\n",
       "    </tr>\n",
       "  </tbody>\n",
       "</table>\n",
       "</div>"
      ],
      "text/plain": [
       "     id_prod   price  categ   Z-Score   Z_score\n",
       "2779    2_30  233.54      2  7.093146  7.093146\n",
       "1436   2_167  236.99      2  7.208750  7.208750\n",
       "394    2_158  247.22      2  7.551539  7.551539\n",
       "724     2_76  254.44      2  7.793469  7.793469\n",
       "947      2_2  300.00      2  9.320107  9.320107"
      ]
     },
     "execution_count": 112,
     "metadata": {},
     "output_type": "execute_result"
    }
   ],
   "source": [
    "zscore_threshold=2\n",
    "zscore_outliers=products_df[products_df.Z_score > zscore_threshold]\n",
    "\n",
    "zscore_outliers.sort_values(\"Z_score\").tail()"
   ]
  },
  {
   "cell_type": "code",
   "execution_count": 102,
   "id": "313e28f6-7f3f-4076-b4e3-0336cc9fb01e",
   "metadata": {},
   "outputs": [
    {
     "name": "stdout",
     "output_type": "stream",
     "text": [
      "Le prix à partir duquel on peut soupçonner un prix, sur la base des autres prix, d'être un outlier est 81.54€.\n",
      "Il y a 157 prix qui pourraient être vérifiés :\n",
      "     id_prod   price\n",
      "272    2_139   82.99\n",
      "1101    2_20   83.51\n",
      "1854   2_174   83.63\n",
      "420    2_137   83.99\n",
      "2915   2_138   84.02\n",
      "905     2_16   84.29\n",
      "2446   2_186   84.96\n",
      "3188    2_99   84.99\n",
      "2371    2_51   84.99\n",
      "1767   2_134   85.27\n",
      "1696   2_180   85.28\n",
      "2280   2_114   85.89\n",
      "1009   2_219   86.99\n",
      "422    2_201   86.99\n",
      "767     2_81   86.99\n",
      "1914   2_224   87.40\n",
      "3006    2_68   88.29\n",
      "199     2_71   88.99\n",
      "2231   2_177   88.99\n",
      "489     2_54   89.43\n",
      "1094   2_218   89.54\n",
      "2391   2_221   90.99\n",
      "2549   2_204   91.82\n",
      "2078    2_38   93.48\n",
      "3196   2_238   93.92\n",
      "918     2_53   93.99\n",
      "754    2_118   96.56\n",
      "3046    2_58   96.69\n",
      "2004   2_154   96.74\n",
      "2429    2_24   96.88\n",
      "1925    2_91   96.99\n",
      "1670    2_75   96.99\n",
      "966     2_95   98.99\n",
      "2363    2_65   99.99\n",
      "1437   2_124  100.56\n",
      "1536   2_205  100.99\n",
      "2874     2_6  101.51\n",
      "1999    2_25  101.99\n",
      "3075   2_162  102.82\n",
      "3044   2_217  102.99\n",
      "2974    2_28  103.50\n",
      "1905   2_222  103.58\n",
      "853    2_136  103.92\n",
      "3140   2_196  103.92\n",
      "245    2_145  103.99\n",
      "2873    2_17  103.99\n",
      "1268   2_232  104.06\n",
      "1402   2_168  104.76\n",
      "503    2_212  104.78\n",
      "2612    2_59  104.99\n",
      "3184   2_142  105.24\n",
      "2769   2_117  105.99\n",
      "2110    2_21  105.99\n",
      "876    2_182  106.52\n",
      "64      2_89  107.99\n",
      "2833    2_55  108.99\n",
      "2991    2_22  109.38\n",
      "622    2_133  109.99\n",
      "933    2_106  110.08\n",
      "1036    2_36  110.98\n",
      "1464    2_60  111.72\n",
      "2155    2_73  111.99\n",
      "241    2_231  111.99\n",
      "2398   2_169  111.99\n",
      "2939   2_161  113.99\n",
      "1930   2_193  114.99\n",
      "2395   2_111  114.99\n",
      "307    2_146  115.30\n",
      "2680   2_200  115.75\n",
      "2952   2_170  115.93\n",
      "3282    2_23  115.99\n",
      "1721    2_56  116.67\n",
      "509    2_126  116.98\n",
      "1008   2_195  116.99\n",
      "1212   2_236  118.51\n",
      "1748    2_52  119.07\n",
      "1940    2_74  120.22\n",
      "2559    2_42  120.61\n",
      "2945    2_80  120.68\n",
      "1348    2_15  123.99\n",
      "2420    2_63  124.99\n",
      "2961   2_105  125.99\n",
      "453    2_192  127.39\n",
      "2905   2_129  127.99\n",
      "137    2_131  127.99\n",
      "1538    2_85  128.99\n",
      "2292    2_18  129.11\n",
      "2508    2_70  129.74\n",
      "2304   2_220  130.80\n",
      "522     2_83  130.99\n",
      "709     2_69  130.99\n",
      "2558    2_57  130.99\n",
      "703     2_31  131.99\n",
      "2525    2_86  132.36\n",
      "3018   2_210  132.52\n",
      "106    2_176  134.57\n",
      "2114    2_14  136.07\n",
      "1888   2_203  136.99\n",
      "2128   2_199  136.99\n",
      "2808   2_198  138.32\n",
      "2733   2_194  138.53\n",
      "1779    2_35  139.99\n",
      "2207   2_153  139.99\n",
      "1946    2_72  141.32\n",
      "3151   2_130  142.58\n",
      "2568    2_29  142.99\n",
      "1570   2_189  142.99\n",
      "1323   2_157  142.99\n",
      "706     2_94  145.45\n",
      "2977    2_77  145.99\n",
      "1315   2_159  145.99\n",
      "3271   2_123  147.99\n",
      "3088    2_98  149.74\n",
      "2897    2_50  150.69\n",
      "2308    2_66  150.72\n",
      "1117   2_173  155.99\n",
      "104    2_151  156.99\n",
      "297    2_144  157.42\n",
      "1011   2_150  157.63\n",
      "107    2_103  157.99\n",
      "79     2_187  157.99\n",
      "73     2_225  157.99\n",
      "117    2_172  158.17\n",
      "2760   2_141  158.99\n",
      "2698    2_97  160.99\n",
      "432      2_0  162.03\n",
      "1390    2_64  163.94\n",
      "2106   2_119  164.99\n",
      "2350   2_132  166.21\n",
      "214     2_78  167.49\n",
      "562    2_121  170.99\n",
      "925    2_233  172.99\n",
      "1371   2_190  175.67\n",
      "719    2_223  175.99\n",
      "1351   2_178  176.20\n",
      "792    2_147  181.99\n",
      "1729    2_84  182.30\n",
      "2164    2_90  182.30\n",
      "2472   2_156  188.48\n",
      "1675   2_213  189.99\n",
      "970      2_5  191.99\n",
      "2993   2_235  195.99\n",
      "95     2_128  201.74\n",
      "3163    2_11  201.99\n",
      "2464     2_3  202.99\n",
      "1284   2_211  203.99\n",
      "1709    2_87  220.99\n",
      "1896     2_4  222.97\n",
      "10     2_228  225.17\n",
      "786     2_40  228.11\n",
      "2487   2_166  230.04\n",
      "1960   2_125  231.99\n",
      "2779    2_30  233.54\n",
      "1436   2_167  236.99\n",
      "394    2_158  247.22\n",
      "724     2_76  254.44\n",
      "947      2_2  300.00\n",
      "\n"
     ]
    }
   ],
   "source": [
    "price_outlier=zscore_threshold * std_dev + mean\n",
    "print (f\"\"\"Le prix à partir duquel on peut soupçonner un prix, sur la base des autres prix, d'être un outlier est {price_outlier:.2f}€.\n",
    "Il y a {len(zscore_outliers)} prix qui pourraient être vérifiés :\n",
    "{zscore_outliers[[\"id_prod\",\"price\"]].sort_values(\"price\")}\n",
    "\"\"\")"
   ]
  },
  {
   "cell_type": "markdown",
   "id": "49afeef7-76e2-420d-b569-d295b46b6fab",
   "metadata": {
    "jp-MarkdownHeadingCollapsed": true,
    "tags": []
   },
   "source": [
    "#### Calcul de l'écart interquartile\n",
    "\n",
    "Selon la formule\n",
    "Ecart interquartile = 3ème quartile - 1er quartile\n",
    "\n",
    "Méthode pour calculer les outliers :<br>\n",
    "Une valeur aberrante ou atypique dans une distribution est un nombre qui est plus d'une fois et demie la longueur de la boîte à l'écart du quartile inférieur ou supérieur.<br>\n",
    "Si un nombre est inférieur à Q1 - 1,5×IQR ou supérieur à Q3 + 1,5×IQR, alors c'est une valeur aberrante."
   ]
  },
  {
   "cell_type": "code",
   "execution_count": 128,
   "id": "eb203267-30c8-41a8-83e7-2868256dac9a",
   "metadata": {},
   "outputs": [
    {
     "name": "stdout",
     "output_type": "stream",
     "text": [
      "\n",
      "La médiane des prix est égale à 13.07€ : il y a autant de prix au dessus de ce montant qu'en dessous.\n",
      "Le 1er quartile se situe à 6.99€.\n",
      "Le troisième est situé à 22.99€.\n",
      "L'écart interquartile vaut 16.00€.\n",
      "Les outliers se situent en dessous de -17.01€ et au dessus de 46.99€.\n",
      "\n"
     ]
    }
   ],
   "source": [
    "median=np.median(products_df.price)\n",
    "q1=np.median(products_df[products_df.price<=median][\"price\"])\n",
    "q3=np.median(products_df[products_df.price>median][\"price\"])\n",
    "iqr=q3-q1\n",
    "outlier_q1=q1-(1.5*iqr)\n",
    "outlier_q3=q3+(1.5*iqr)\n",
    "\n",
    "print (f\"\"\"\n",
    "La médiane des prix est égale à {median:.2f}€ : il y a autant de prix au dessus de ce montant qu'en dessous.\n",
    "Le 1er quartile se situe à {q1:.2f}€.\n",
    "Le troisième est situé à {q3:.2f}€.\n",
    "L'écart interquartile vaut {iqr:.2f}€.\n",
    "Les outliers se situent en dessous de {outlier_q1:.2f}€ et au dessus de {outlier_q3:.2f}€.\n",
    "\"\"\")\n",
    "        \n",
    "       "
   ]
  },
  {
   "cell_type": "code",
   "execution_count": 129,
   "id": "7f308ea3-72b9-4346-87ca-dbd80400ca46",
   "metadata": {},
   "outputs": [
    {
     "data": {
      "text/plain": [
       "<AxesSubplot:xlabel='price'>"
      ]
     },
     "execution_count": 129,
     "metadata": {},
     "output_type": "execute_result"
    },
    {
     "data": {
      "image/png": "[encoded data removed]",
      "text/plain": [
       "<Figure size 432x288 with 1 Axes>"
      ]
     },
     "metadata": {
      "needs_background": "light"
     },
     "output_type": "display_data"
    }
   ],
   "source": [
    "sns.boxplot(x=products_df.price)"
   ]
  },
  {
   "cell_type": "code",
   "execution_count": 142,
   "id": "3c5e8911-d5ed-4143-bc3c-9f33c822d990",
   "metadata": {},
   "outputs": [
    {
     "data": {
      "text/plain": [
       "id_prod    1643\n",
       "price      1643\n",
       "categ      1643\n",
       "Z-Score    1643\n",
       "Z_score    1643\n",
       "dtype: int64"
      ]
     },
     "execution_count": 142,
     "metadata": {},
     "output_type": "execute_result"
    }
   ],
   "source": [
    "products_df[products_df.price<median].count()"
   ]
  }
 ],
 "metadata": {
  "kernelspec": {
   "display_name": "Python 3 (ipykernel)",
   "language": "python",
   "name": "python3"
  },
  "language_info": {
   "codemirror_mode": {
    "name": "ipython",
    "version": 3
   },
   "file_extension": ".py",
   "mimetype": "text/x-python",
   "name": "python",
   "nbconvert_exporter": "python",
   "pygments_lexer": "ipython3",
   "version": "3.9.7"
  }
 },
 "nbformat": 4,
 "nbformat_minor": 5
}
