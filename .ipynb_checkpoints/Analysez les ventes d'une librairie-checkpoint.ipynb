{
 "cells": [
  {
   "cell_type": "markdown",
   "id": "f05267e2-870a-4d17-8b61-8e84b0d1625e",
   "metadata": {},
   "source": [
    "![Lapage](Lapage_logo.png)\n",
    "# Contexte\n",
    "Lapage était originellement une librairie physique avec plusieurs points de vente. \n",
    "Mais devant le succès de certains de ses produits et l’engouement de ses clients, elle a décidé depuis 2 ans d’ouvrir un site de vente en ligne. \n",
    "Vous intervenez car l’entreprise souhaite faire le point après deux ans d’exercice, et pouvoir analyser ses points forts, ses points faibles, les comportements clients, etc.\n",
    "\n",
    "# Missions\n",
    "- Réaliser une analyse des différents indicateurs de vente :\n",
    "    - Le CA (indicateurs et graphiques) et son évolution dans le temps via la mise en place d'une décomposition en moyenne mobile pour évaluer la tendance globale;\n",
    "    - Zoom sur les références, pour voir un peu les tops et les flops, la répartition par catégorie, etc.;\n",
    "    - Focus sur les profils des clients, et également la répartition du chiffre d'affaires entre eux, via par exemple une courbe de Lorenz.\n",
    "- Fournir une analyse plus ciblée sur les clients : l’objectif serait cette fois-ci de comprendre le comportement de nos clients en ligne, pour pouvoir ensuite comparer avec la connaissance acquise via nos librairies physiques. \n",
    "    - Etablir le lien entre le genre d’un client et les catégories des livres achetés.\n",
    "    - Faire divers corrélations entre l’âge des clients et le montant total des achats, la fréquence d’achat, la taille du panier moyen et les catégories des livres achetés.\n",
    "\n"
   ]
  },
  {
   "cell_type": "markdown",
   "id": "a2b7ff03-224f-40c5-ad94-00a0494a6ebd",
   "metadata": {},
   "source": [
    "# Préparation des données "
   ]
  },
  {
   "cell_type": "markdown",
   "id": "8ab93e20-024b-4dfb-81e6-39cdc902a933",
   "metadata": {
    "tags": []
   },
   "source": [
    "## Initialisation du projet"
   ]
  },
  {
   "cell_type": "markdown",
   "id": "5b7d530e-1296-472a-b19b-f9db1dcec853",
   "metadata": {},
   "source": [
    "### Import des librairies"
   ]
  },
  {
   "cell_type": "code",
   "execution_count": 71,
   "id": "dac1aa1d-2318-47c5-b597-9742261df42d",
   "metadata": {},
   "outputs": [],
   "source": [
    "import pandas as pd\n",
    "import matplotlib.pyplot as plt\n",
    "import matplotlib.dates as mdates\n",
    "import seaborn as sns\n",
    "import numpy as np\n",
    "import datetime as dt\n"
   ]
  },
  {
   "cell_type": "markdown",
   "id": "20eff80b-fc58-4cb4-bba4-74934682ed53",
   "metadata": {},
   "source": [
    "### Paramètres"
   ]
  },
  {
   "cell_type": "code",
   "execution_count": 72,
   "id": "cd71c239-22a6-4ebf-ab14-6a7cb094c04b",
   "metadata": {},
   "outputs": [],
   "source": [
    "%matplotlib inline \n",
    "# On indique que l'on veut voir apparaître les graphiques dans le notebook, sinon on ne verrait rien\n",
    "\n",
    "pd.set_option('max_colwidth', 100)\n",
    "pd.set_option('display.max_rows', 100)\n",
    "pd.set_option('display.max_columns', 20)"
   ]
  },
  {
   "cell_type": "markdown",
   "id": "5c023de9-31f9-4dd4-b91b-3bb06cea0feb",
   "metadata": {},
   "source": [
    "### Import des fichiers"
   ]
  },
  {
   "cell_type": "code",
   "execution_count": 73,
   "id": "06df4656-3847-4da3-a382-f32bcba532e8",
   "metadata": {},
   "outputs": [],
   "source": [
    "path='./Fichiers csv/'\n",
    "customers_df = pd.read_csv(path+\"customers.csv\")\n",
    "products_df=pd.read_csv(path+\"products.csv\")\n",
    "transactions_df=pd.read_csv(path+\"transactions.csv\")"
   ]
  },
  {
   "cell_type": "markdown",
   "id": "bdb29f17-fadb-4fce-89fc-3fbbd742db59",
   "metadata": {},
   "source": [
    "### Variables ou classes"
   ]
  },
  {
   "cell_type": "markdown",
   "id": "fce12fe8-8f0a-4b22-8a61-d80afe56ca17",
   "metadata": {},
   "source": [
    "Avant de commencer, je stocke le nombre de lignes et de colonnes de chacun des fichiers"
   ]
  },
  {
   "cell_type": "code",
   "execution_count": 74,
   "id": "f8927217-456b-448b-ac0a-f36b2d049cbb",
   "metadata": {},
   "outputs": [],
   "source": [
    "customers_initial_size=customers_df.shape\n",
    "products_intial_size=products_df.shape\n",
    "transactions_intial_size=transactions_df.shape"
   ]
  },
  {
   "cell_type": "code",
   "execution_count": 306,
   "id": "96312687-d700-43f7-84d9-afa7566efb08",
   "metadata": {},
   "outputs": [],
   "source": [
    "def calculate_age_range(age):\n",
    "    \"\"\"\n",
    "    This function allows us to create an age range based on age.\n",
    "    Parameters are :\n",
    "    - age\n",
    "    It returns\n",
    "    - an age range\n",
    "    \"\"\"\n",
    "\n",
    "    if 18 <= age <= 29:\n",
    "        return \"18-29\"\n",
    "    elif 30 <= age <= 44:\n",
    "        return \"30-44\"\n",
    "    elif 45 <= age <= 64:\n",
    "        return \"45-64\"\n",
    "    elif age >= 65:\n",
    "        return \"65 et +\"\n"
   ]
  },
  {
   "cell_type": "markdown",
   "id": "c515cb5d-6a98-4143-8893-13534bd2b791",
   "metadata": {},
   "source": [
    "## Analyse de la qualité des données"
   ]
  },
  {
   "cell_type": "code",
   "execution_count": 75,
   "id": "93c74deb-5bf9-4b81-8515-b21971f5bfe5",
   "metadata": {},
   "outputs": [
    {
     "data": {
      "text/html": [
       "<div>\n",
       "<style scoped>\n",
       "    .dataframe tbody tr th:only-of-type {\n",
       "        vertical-align: middle;\n",
       "    }\n",
       "\n",
       "    .dataframe tbody tr th {\n",
       "        vertical-align: top;\n",
       "    }\n",
       "\n",
       "    .dataframe thead th {\n",
       "        text-align: right;\n",
       "    }\n",
       "</style>\n",
       "<table border=\"1\" class=\"dataframe\">\n",
       "  <thead>\n",
       "    <tr style=\"text-align: right;\">\n",
       "      <th></th>\n",
       "      <th>client_id</th>\n",
       "      <th>sex</th>\n",
       "      <th>birth</th>\n",
       "    </tr>\n",
       "  </thead>\n",
       "  <tbody>\n",
       "    <tr>\n",
       "      <th>0</th>\n",
       "      <td>c_4410</td>\n",
       "      <td>f</td>\n",
       "      <td>1967</td>\n",
       "    </tr>\n",
       "    <tr>\n",
       "      <th>1</th>\n",
       "      <td>c_7839</td>\n",
       "      <td>f</td>\n",
       "      <td>1975</td>\n",
       "    </tr>\n",
       "    <tr>\n",
       "      <th>2</th>\n",
       "      <td>c_1699</td>\n",
       "      <td>f</td>\n",
       "      <td>1984</td>\n",
       "    </tr>\n",
       "    <tr>\n",
       "      <th>3</th>\n",
       "      <td>c_5961</td>\n",
       "      <td>f</td>\n",
       "      <td>1962</td>\n",
       "    </tr>\n",
       "    <tr>\n",
       "      <th>4</th>\n",
       "      <td>c_5320</td>\n",
       "      <td>m</td>\n",
       "      <td>1943</td>\n",
       "    </tr>\n",
       "  </tbody>\n",
       "</table>\n",
       "</div>"
      ],
      "text/plain": [
       "  client_id sex  birth\n",
       "0    c_4410   f   1967\n",
       "1    c_7839   f   1975\n",
       "2    c_1699   f   1984\n",
       "3    c_5961   f   1962\n",
       "4    c_5320   m   1943"
      ]
     },
     "execution_count": 75,
     "metadata": {},
     "output_type": "execute_result"
    }
   ],
   "source": [
    "customers_df.head()"
   ]
  },
  {
   "cell_type": "code",
   "execution_count": 76,
   "id": "d4d71d01-1aff-4044-b889-d18b667ae5c9",
   "metadata": {},
   "outputs": [
    {
     "data": {
      "text/html": [
       "<div>\n",
       "<style scoped>\n",
       "    .dataframe tbody tr th:only-of-type {\n",
       "        vertical-align: middle;\n",
       "    }\n",
       "\n",
       "    .dataframe tbody tr th {\n",
       "        vertical-align: top;\n",
       "    }\n",
       "\n",
       "    .dataframe thead th {\n",
       "        text-align: right;\n",
       "    }\n",
       "</style>\n",
       "<table border=\"1\" class=\"dataframe\">\n",
       "  <thead>\n",
       "    <tr style=\"text-align: right;\">\n",
       "      <th></th>\n",
       "      <th>id_prod</th>\n",
       "      <th>price</th>\n",
       "      <th>categ</th>\n",
       "    </tr>\n",
       "  </thead>\n",
       "  <tbody>\n",
       "    <tr>\n",
       "      <th>3282</th>\n",
       "      <td>2_23</td>\n",
       "      <td>115.99</td>\n",
       "      <td>2</td>\n",
       "    </tr>\n",
       "    <tr>\n",
       "      <th>3283</th>\n",
       "      <td>0_146</td>\n",
       "      <td>17.14</td>\n",
       "      <td>0</td>\n",
       "    </tr>\n",
       "    <tr>\n",
       "      <th>3284</th>\n",
       "      <td>0_802</td>\n",
       "      <td>11.22</td>\n",
       "      <td>0</td>\n",
       "    </tr>\n",
       "    <tr>\n",
       "      <th>3285</th>\n",
       "      <td>1_140</td>\n",
       "      <td>38.56</td>\n",
       "      <td>1</td>\n",
       "    </tr>\n",
       "    <tr>\n",
       "      <th>3286</th>\n",
       "      <td>0_1920</td>\n",
       "      <td>25.16</td>\n",
       "      <td>0</td>\n",
       "    </tr>\n",
       "  </tbody>\n",
       "</table>\n",
       "</div>"
      ],
      "text/plain": [
       "     id_prod   price  categ\n",
       "3282    2_23  115.99      2\n",
       "3283   0_146   17.14      0\n",
       "3284   0_802   11.22      0\n",
       "3285   1_140   38.56      1\n",
       "3286  0_1920   25.16      0"
      ]
     },
     "execution_count": 76,
     "metadata": {},
     "output_type": "execute_result"
    }
   ],
   "source": [
    "products_df.tail()"
   ]
  },
  {
   "cell_type": "code",
   "execution_count": 77,
   "id": "e070be0b-134d-407d-bdd5-d8f15e347071",
   "metadata": {},
   "outputs": [
    {
     "data": {
      "text/html": [
       "<div>\n",
       "<style scoped>\n",
       "    .dataframe tbody tr th:only-of-type {\n",
       "        vertical-align: middle;\n",
       "    }\n",
       "\n",
       "    .dataframe tbody tr th {\n",
       "        vertical-align: top;\n",
       "    }\n",
       "\n",
       "    .dataframe thead th {\n",
       "        text-align: right;\n",
       "    }\n",
       "</style>\n",
       "<table border=\"1\" class=\"dataframe\">\n",
       "  <thead>\n",
       "    <tr style=\"text-align: right;\">\n",
       "      <th></th>\n",
       "      <th>id_prod</th>\n",
       "      <th>date</th>\n",
       "      <th>session_id</th>\n",
       "      <th>client_id</th>\n",
       "    </tr>\n",
       "  </thead>\n",
       "  <tbody>\n",
       "    <tr>\n",
       "      <th>0</th>\n",
       "      <td>0_1518</td>\n",
       "      <td>2022-05-20 13:21:29.043970</td>\n",
       "      <td>s_211425</td>\n",
       "      <td>c_103</td>\n",
       "    </tr>\n",
       "    <tr>\n",
       "      <th>1</th>\n",
       "      <td>1_251</td>\n",
       "      <td>2022-02-02 07:55:19.149409</td>\n",
       "      <td>s_158752</td>\n",
       "      <td>c_8534</td>\n",
       "    </tr>\n",
       "    <tr>\n",
       "      <th>2</th>\n",
       "      <td>0_1277</td>\n",
       "      <td>2022-06-18 15:44:33.155329</td>\n",
       "      <td>s_225667</td>\n",
       "      <td>c_6714</td>\n",
       "    </tr>\n",
       "    <tr>\n",
       "      <th>3</th>\n",
       "      <td>2_209</td>\n",
       "      <td>2021-06-24 04:19:29.835891</td>\n",
       "      <td>s_52962</td>\n",
       "      <td>c_6941</td>\n",
       "    </tr>\n",
       "    <tr>\n",
       "      <th>4</th>\n",
       "      <td>0_1509</td>\n",
       "      <td>2023-01-11 08:22:08.194479</td>\n",
       "      <td>s_325227</td>\n",
       "      <td>c_4232</td>\n",
       "    </tr>\n",
       "  </tbody>\n",
       "</table>\n",
       "</div>"
      ],
      "text/plain": [
       "  id_prod                        date session_id client_id\n",
       "0  0_1518  2022-05-20 13:21:29.043970   s_211425     c_103\n",
       "1   1_251  2022-02-02 07:55:19.149409   s_158752    c_8534\n",
       "2  0_1277  2022-06-18 15:44:33.155329   s_225667    c_6714\n",
       "3   2_209  2021-06-24 04:19:29.835891    s_52962    c_6941\n",
       "4  0_1509  2023-01-11 08:22:08.194479   s_325227    c_4232"
      ]
     },
     "execution_count": 77,
     "metadata": {},
     "output_type": "execute_result"
    }
   ],
   "source": [
    "transactions_df.head()"
   ]
  },
  {
   "cell_type": "markdown",
   "id": "bd2bdc9b-31f0-4dc8-9af4-8a2ee1684958",
   "metadata": {},
   "source": [
    "### Erreurs de type"
   ]
  },
  {
   "cell_type": "code",
   "execution_count": 78,
   "id": "40112294-d75b-4f4a-aac5-b4a528aa2d57",
   "metadata": {},
   "outputs": [
    {
     "data": {
      "text/plain": [
       "client_id    object\n",
       "sex          object\n",
       "birth         int64\n",
       "dtype: object"
      ]
     },
     "execution_count": 78,
     "metadata": {},
     "output_type": "execute_result"
    }
   ],
   "source": [
    "customers_df.dtypes"
   ]
  },
  {
   "cell_type": "code",
   "execution_count": 79,
   "id": "928e3665-883f-4e1a-b98c-d7fea210731f",
   "metadata": {},
   "outputs": [
    {
     "data": {
      "text/plain": [
       "id_prod     object\n",
       "price      float64\n",
       "categ        int64\n",
       "dtype: object"
      ]
     },
     "execution_count": 79,
     "metadata": {},
     "output_type": "execute_result"
    }
   ],
   "source": [
    "products_df.dtypes"
   ]
  },
  {
   "cell_type": "code",
   "execution_count": 80,
   "id": "b933e9f0-eaeb-4f2c-8066-7c05472e8190",
   "metadata": {},
   "outputs": [
    {
     "data": {
      "text/plain": [
       "id_prod       object\n",
       "date          object\n",
       "session_id    object\n",
       "client_id     object\n",
       "dtype: object"
      ]
     },
     "execution_count": 80,
     "metadata": {},
     "output_type": "execute_result"
    }
   ],
   "source": [
    "transactions_df.dtypes"
   ]
  },
  {
   "cell_type": "markdown",
   "id": "8d93e34d-c57e-49e0-b2e0-8ec8a87eea3f",
   "metadata": {},
   "source": [
    "**Observation**<br>\n",
    "La seule chose qui semble être problématique est la variable date qui n'est pas considérée comme une date. <br>\n",
    "On peut corriger cela via la fonction to_datetime de pandas. <br>\n",
    "\n",
    "**Méthode**<br>\n",
    "En lançant la commande de transformation du type object en date, on s'aperçoit que la conversion est bloquée par une erreur : \"Unknown string format: test_2021-03-01 02:30:02.237419\"<br>\n",
    "Avant de relancer la conversion, j'identifie toutes les dates ayant le mot \"test\" et je les stocke dans un nouveau dataframe avant de les supprimer de mon fichier.\n",
    "Je lance ensuite ma conversion au format date."
   ]
  },
  {
   "cell_type": "code",
   "execution_count": 81,
   "id": "3d42f257-8b74-42fa-b917-e1e750a8c833",
   "metadata": {},
   "outputs": [
    {
     "data": {
      "text/html": [
       "<div>\n",
       "<style scoped>\n",
       "    .dataframe tbody tr th:only-of-type {\n",
       "        vertical-align: middle;\n",
       "    }\n",
       "\n",
       "    .dataframe tbody tr th {\n",
       "        vertical-align: top;\n",
       "    }\n",
       "\n",
       "    .dataframe thead th {\n",
       "        text-align: right;\n",
       "    }\n",
       "</style>\n",
       "<table border=\"1\" class=\"dataframe\">\n",
       "  <thead>\n",
       "    <tr style=\"text-align: right;\">\n",
       "      <th></th>\n",
       "      <th>id_prod</th>\n",
       "      <th>date</th>\n",
       "      <th>session_id</th>\n",
       "      <th>client_id</th>\n",
       "    </tr>\n",
       "  </thead>\n",
       "  <tbody>\n",
       "    <tr>\n",
       "      <th>3019</th>\n",
       "      <td>T_0</td>\n",
       "      <td>test_2021-03-01 02:30:02.237419</td>\n",
       "      <td>s_0</td>\n",
       "      <td>ct_0</td>\n",
       "    </tr>\n",
       "    <tr>\n",
       "      <th>5138</th>\n",
       "      <td>T_0</td>\n",
       "      <td>test_2021-03-01 02:30:02.237425</td>\n",
       "      <td>s_0</td>\n",
       "      <td>ct_0</td>\n",
       "    </tr>\n",
       "    <tr>\n",
       "      <th>9668</th>\n",
       "      <td>T_0</td>\n",
       "      <td>test_2021-03-01 02:30:02.237437</td>\n",
       "      <td>s_0</td>\n",
       "      <td>ct_1</td>\n",
       "    </tr>\n",
       "    <tr>\n",
       "      <th>10728</th>\n",
       "      <td>T_0</td>\n",
       "      <td>test_2021-03-01 02:30:02.237436</td>\n",
       "      <td>s_0</td>\n",
       "      <td>ct_0</td>\n",
       "    </tr>\n",
       "    <tr>\n",
       "      <th>15292</th>\n",
       "      <td>T_0</td>\n",
       "      <td>test_2021-03-01 02:30:02.237430</td>\n",
       "      <td>s_0</td>\n",
       "      <td>ct_0</td>\n",
       "    </tr>\n",
       "  </tbody>\n",
       "</table>\n",
       "</div>"
      ],
      "text/plain": [
       "      id_prod                             date session_id client_id\n",
       "3019      T_0  test_2021-03-01 02:30:02.237419        s_0      ct_0\n",
       "5138      T_0  test_2021-03-01 02:30:02.237425        s_0      ct_0\n",
       "9668      T_0  test_2021-03-01 02:30:02.237437        s_0      ct_1\n",
       "10728     T_0  test_2021-03-01 02:30:02.237436        s_0      ct_0\n",
       "15292     T_0  test_2021-03-01 02:30:02.237430        s_0      ct_0"
      ]
     },
     "execution_count": 81,
     "metadata": {},
     "output_type": "execute_result"
    }
   ],
   "source": [
    "mask = np.column_stack([transactions_df[\"date\"].str.contains(\"test\", na=False) for col in transactions_df])\n",
    "test_dates_transactions_df=transactions_df.loc[mask.any(axis=1)]\n",
    "test_dates_transactions_df.head()"
   ]
  },
  {
   "cell_type": "code",
   "execution_count": 82,
   "id": "a4b95904-3875-4176-9017-c0451edca811",
   "metadata": {},
   "outputs": [],
   "source": [
    "transactions_df.drop(test_dates_transactions_df.index, inplace=True)"
   ]
  },
  {
   "cell_type": "code",
   "execution_count": 83,
   "id": "aecc3876-f216-4017-808e-f7bb92308be2",
   "metadata": {},
   "outputs": [
    {
     "data": {
      "text/plain": [
       "(679332, 4)"
      ]
     },
     "execution_count": 83,
     "metadata": {},
     "output_type": "execute_result"
    }
   ],
   "source": [
    "transactions_df.shape"
   ]
  },
  {
   "cell_type": "code",
   "execution_count": 84,
   "id": "b5fe46a0-01fd-47c2-9d8f-84b0b9af92ce",
   "metadata": {},
   "outputs": [
    {
     "data": {
      "text/plain": [
       "id_prod               object\n",
       "date          datetime64[ns]\n",
       "session_id            object\n",
       "client_id             object\n",
       "dtype: object"
      ]
     },
     "execution_count": 84,
     "metadata": {},
     "output_type": "execute_result"
    }
   ],
   "source": [
    "transactions_df.date=pd.to_datetime(transactions_df.date)\n",
    "transactions_df.dtypes"
   ]
  },
  {
   "cell_type": "markdown",
   "id": "8b0f8da5-fb4e-44e7-bc8f-d9142de80833",
   "metadata": {},
   "source": [
    "### Valeurs manquantes\n",
    "\n",
    "Je vérifier si mon jeu de données contient des valeurs manquantes (Null ou NaN)"
   ]
  },
  {
   "cell_type": "code",
   "execution_count": 85,
   "id": "2153648a-659a-4cc9-b1b1-81f0150ecfe6",
   "metadata": {},
   "outputs": [
    {
     "data": {
      "text/plain": [
       "client_id    0\n",
       "sex          0\n",
       "birth        0\n",
       "dtype: int64"
      ]
     },
     "execution_count": 85,
     "metadata": {},
     "output_type": "execute_result"
    }
   ],
   "source": [
    "customers_df.isnull().sum()"
   ]
  },
  {
   "cell_type": "code",
   "execution_count": 86,
   "id": "32b8eaef-8721-466d-bd48-a004f9bce51c",
   "metadata": {},
   "outputs": [
    {
     "data": {
      "text/plain": [
       "id_prod    0\n",
       "price      0\n",
       "categ      0\n",
       "dtype: int64"
      ]
     },
     "execution_count": 86,
     "metadata": {},
     "output_type": "execute_result"
    }
   ],
   "source": [
    "products_df.isna().sum()"
   ]
  },
  {
   "cell_type": "code",
   "execution_count": 87,
   "id": "158d5464-cbb3-4327-8dfc-5b111fc978b6",
   "metadata": {},
   "outputs": [
    {
     "data": {
      "text/plain": [
       "id_prod       0\n",
       "date          0\n",
       "session_id    0\n",
       "client_id     0\n",
       "dtype: int64"
      ]
     },
     "execution_count": 87,
     "metadata": {},
     "output_type": "execute_result"
    }
   ],
   "source": [
    "transactions_df.isnull().sum()"
   ]
  },
  {
   "cell_type": "markdown",
   "id": "7043d2ec-f190-43f9-af52-ceff27006624",
   "metadata": {},
   "source": [
    "**Observation**<br>\n",
    "Il n'y a pas de valeurs NaN ou None"
   ]
  },
  {
   "cell_type": "markdown",
   "id": "c9c62753-90bf-40c3-aaca-1f5aa8a7bbb6",
   "metadata": {},
   "source": [
    "### Doublons\n",
    "\n",
    "Pour identifier les doublons, je me base sur des clés qui ne devraient pas contenir d'informations en double<br>\n",
    "- customer : le client_id doit être unique puisqu'il constitue la clé primaire;<br>\n",
    "- products : le id_prod doit être unique puisqu'il constitue la clé primaire;<br>\n",
    "- transactions : ce qui constituerait une transaction unique est l'ensemble id_prod + client_id + date."
   ]
  },
  {
   "cell_type": "code",
   "execution_count": 88,
   "id": "d6d4c7e9-2870-4f36-8ac6-ab295e0d92b7",
   "metadata": {},
   "outputs": [
    {
     "data": {
      "text/html": [
       "<div>\n",
       "<style scoped>\n",
       "    .dataframe tbody tr th:only-of-type {\n",
       "        vertical-align: middle;\n",
       "    }\n",
       "\n",
       "    .dataframe tbody tr th {\n",
       "        vertical-align: top;\n",
       "    }\n",
       "\n",
       "    .dataframe thead th {\n",
       "        text-align: right;\n",
       "    }\n",
       "</style>\n",
       "<table border=\"1\" class=\"dataframe\">\n",
       "  <thead>\n",
       "    <tr style=\"text-align: right;\">\n",
       "      <th></th>\n",
       "      <th>client_id</th>\n",
       "      <th>sex</th>\n",
       "      <th>birth</th>\n",
       "    </tr>\n",
       "  </thead>\n",
       "  <tbody>\n",
       "  </tbody>\n",
       "</table>\n",
       "</div>"
      ],
      "text/plain": [
       "Empty DataFrame\n",
       "Columns: [client_id, sex, birth]\n",
       "Index: []"
      ]
     },
     "execution_count": 88,
     "metadata": {},
     "output_type": "execute_result"
    }
   ],
   "source": [
    "customers_df.loc[customers_df[\"client_id\"].duplicated(keep=False),:]"
   ]
  },
  {
   "cell_type": "code",
   "execution_count": 89,
   "id": "3e536222-a86e-41be-bd43-c53daf0020ec",
   "metadata": {},
   "outputs": [
    {
     "data": {
      "text/html": [
       "<div>\n",
       "<style scoped>\n",
       "    .dataframe tbody tr th:only-of-type {\n",
       "        vertical-align: middle;\n",
       "    }\n",
       "\n",
       "    .dataframe tbody tr th {\n",
       "        vertical-align: top;\n",
       "    }\n",
       "\n",
       "    .dataframe thead th {\n",
       "        text-align: right;\n",
       "    }\n",
       "</style>\n",
       "<table border=\"1\" class=\"dataframe\">\n",
       "  <thead>\n",
       "    <tr style=\"text-align: right;\">\n",
       "      <th></th>\n",
       "      <th>id_prod</th>\n",
       "      <th>date</th>\n",
       "      <th>session_id</th>\n",
       "      <th>client_id</th>\n",
       "    </tr>\n",
       "  </thead>\n",
       "  <tbody>\n",
       "  </tbody>\n",
       "</table>\n",
       "</div>"
      ],
      "text/plain": [
       "Empty DataFrame\n",
       "Columns: [id_prod, date, session_id, client_id]\n",
       "Index: []"
      ]
     },
     "execution_count": 89,
     "metadata": {},
     "output_type": "execute_result"
    }
   ],
   "source": [
    "transactions_df.loc[transactions_df[[\"id_prod\",\"date\",\"client_id\"]].duplicated(keep=False)]"
   ]
  },
  {
   "cell_type": "markdown",
   "id": "4f01d292-4571-46af-872e-9a13dcce888d",
   "metadata": {},
   "source": [
    "**Observation**<br>\n",
    "Il n'y a pas de doublon dans les données"
   ]
  },
  {
   "cell_type": "markdown",
   "id": "b00b8071-a5b4-43f2-8bf1-049eeb8997f5",
   "metadata": {},
   "source": [
    "### Détection d'anomalies\n",
    "\n",
    "Un describe peut potentiellement nous aider dans un premier temps.<br>"
   ]
  },
  {
   "cell_type": "code",
   "execution_count": 90,
   "id": "42b0f548-436c-4946-885d-09990876751a",
   "metadata": {},
   "outputs": [
    {
     "data": {
      "text/html": [
       "<div>\n",
       "<style scoped>\n",
       "    .dataframe tbody tr th:only-of-type {\n",
       "        vertical-align: middle;\n",
       "    }\n",
       "\n",
       "    .dataframe tbody tr th {\n",
       "        vertical-align: top;\n",
       "    }\n",
       "\n",
       "    .dataframe thead th {\n",
       "        text-align: right;\n",
       "    }\n",
       "</style>\n",
       "<table border=\"1\" class=\"dataframe\">\n",
       "  <thead>\n",
       "    <tr style=\"text-align: right;\">\n",
       "      <th></th>\n",
       "      <th>client_id</th>\n",
       "      <th>sex</th>\n",
       "      <th>birth</th>\n",
       "    </tr>\n",
       "  </thead>\n",
       "  <tbody>\n",
       "    <tr>\n",
       "      <th>count</th>\n",
       "      <td>8623</td>\n",
       "      <td>8623</td>\n",
       "      <td>8623.000000</td>\n",
       "    </tr>\n",
       "    <tr>\n",
       "      <th>unique</th>\n",
       "      <td>8623</td>\n",
       "      <td>2</td>\n",
       "      <td>NaN</td>\n",
       "    </tr>\n",
       "    <tr>\n",
       "      <th>top</th>\n",
       "      <td>c_4410</td>\n",
       "      <td>f</td>\n",
       "      <td>NaN</td>\n",
       "    </tr>\n",
       "    <tr>\n",
       "      <th>freq</th>\n",
       "      <td>1</td>\n",
       "      <td>4491</td>\n",
       "      <td>NaN</td>\n",
       "    </tr>\n",
       "    <tr>\n",
       "      <th>mean</th>\n",
       "      <td>NaN</td>\n",
       "      <td>NaN</td>\n",
       "      <td>1978.280877</td>\n",
       "    </tr>\n",
       "    <tr>\n",
       "      <th>std</th>\n",
       "      <td>NaN</td>\n",
       "      <td>NaN</td>\n",
       "      <td>16.919535</td>\n",
       "    </tr>\n",
       "    <tr>\n",
       "      <th>min</th>\n",
       "      <td>NaN</td>\n",
       "      <td>NaN</td>\n",
       "      <td>1929.000000</td>\n",
       "    </tr>\n",
       "    <tr>\n",
       "      <th>25%</th>\n",
       "      <td>NaN</td>\n",
       "      <td>NaN</td>\n",
       "      <td>1966.000000</td>\n",
       "    </tr>\n",
       "    <tr>\n",
       "      <th>50%</th>\n",
       "      <td>NaN</td>\n",
       "      <td>NaN</td>\n",
       "      <td>1979.000000</td>\n",
       "    </tr>\n",
       "    <tr>\n",
       "      <th>75%</th>\n",
       "      <td>NaN</td>\n",
       "      <td>NaN</td>\n",
       "      <td>1992.000000</td>\n",
       "    </tr>\n",
       "    <tr>\n",
       "      <th>max</th>\n",
       "      <td>NaN</td>\n",
       "      <td>NaN</td>\n",
       "      <td>2004.000000</td>\n",
       "    </tr>\n",
       "  </tbody>\n",
       "</table>\n",
       "</div>"
      ],
      "text/plain": [
       "       client_id   sex        birth\n",
       "count       8623  8623  8623.000000\n",
       "unique      8623     2          NaN\n",
       "top       c_4410     f          NaN\n",
       "freq           1  4491          NaN\n",
       "mean         NaN   NaN  1978.280877\n",
       "std          NaN   NaN    16.919535\n",
       "min          NaN   NaN  1929.000000\n",
       "25%          NaN   NaN  1966.000000\n",
       "50%          NaN   NaN  1979.000000\n",
       "75%          NaN   NaN  1992.000000\n",
       "max          NaN   NaN  2004.000000"
      ]
     },
     "execution_count": 90,
     "metadata": {},
     "output_type": "execute_result"
    }
   ],
   "source": [
    "customers_df.describe(include=\"all\")"
   ]
  },
  {
   "cell_type": "markdown",
   "id": "c66e771c-3aa2-435b-8440-184a44aa3b23",
   "metadata": {},
   "source": [
    "**Observation**\n",
    "\n",
    "Pour la table customer, rien ne semble anormal : les années de naissances vont de 1929 à 2004, et il n'y a que 2 valeurs pour le sexe.<br>"
   ]
  },
  {
   "cell_type": "code",
   "execution_count": 91,
   "id": "9bd55bbb-6236-4d4a-9048-6bf1183e3f76",
   "metadata": {},
   "outputs": [
    {
     "data": {
      "text/html": [
       "<div>\n",
       "<style scoped>\n",
       "    .dataframe tbody tr th:only-of-type {\n",
       "        vertical-align: middle;\n",
       "    }\n",
       "\n",
       "    .dataframe tbody tr th {\n",
       "        vertical-align: top;\n",
       "    }\n",
       "\n",
       "    .dataframe thead th {\n",
       "        text-align: right;\n",
       "    }\n",
       "</style>\n",
       "<table border=\"1\" class=\"dataframe\">\n",
       "  <thead>\n",
       "    <tr style=\"text-align: right;\">\n",
       "      <th></th>\n",
       "      <th>id_prod</th>\n",
       "      <th>price</th>\n",
       "      <th>categ</th>\n",
       "    </tr>\n",
       "  </thead>\n",
       "  <tbody>\n",
       "    <tr>\n",
       "      <th>count</th>\n",
       "      <td>3287</td>\n",
       "      <td>3287.000000</td>\n",
       "      <td>3287.000000</td>\n",
       "    </tr>\n",
       "    <tr>\n",
       "      <th>unique</th>\n",
       "      <td>3287</td>\n",
       "      <td>NaN</td>\n",
       "      <td>NaN</td>\n",
       "    </tr>\n",
       "    <tr>\n",
       "      <th>top</th>\n",
       "      <td>0_1421</td>\n",
       "      <td>NaN</td>\n",
       "      <td>NaN</td>\n",
       "    </tr>\n",
       "    <tr>\n",
       "      <th>freq</th>\n",
       "      <td>1</td>\n",
       "      <td>NaN</td>\n",
       "      <td>NaN</td>\n",
       "    </tr>\n",
       "    <tr>\n",
       "      <th>mean</th>\n",
       "      <td>NaN</td>\n",
       "      <td>21.856641</td>\n",
       "      <td>0.370246</td>\n",
       "    </tr>\n",
       "    <tr>\n",
       "      <th>std</th>\n",
       "      <td>NaN</td>\n",
       "      <td>29.847908</td>\n",
       "      <td>0.615387</td>\n",
       "    </tr>\n",
       "    <tr>\n",
       "      <th>min</th>\n",
       "      <td>NaN</td>\n",
       "      <td>-1.000000</td>\n",
       "      <td>0.000000</td>\n",
       "    </tr>\n",
       "    <tr>\n",
       "      <th>25%</th>\n",
       "      <td>NaN</td>\n",
       "      <td>6.990000</td>\n",
       "      <td>0.000000</td>\n",
       "    </tr>\n",
       "    <tr>\n",
       "      <th>50%</th>\n",
       "      <td>NaN</td>\n",
       "      <td>13.060000</td>\n",
       "      <td>0.000000</td>\n",
       "    </tr>\n",
       "    <tr>\n",
       "      <th>75%</th>\n",
       "      <td>NaN</td>\n",
       "      <td>22.990000</td>\n",
       "      <td>1.000000</td>\n",
       "    </tr>\n",
       "    <tr>\n",
       "      <th>max</th>\n",
       "      <td>NaN</td>\n",
       "      <td>300.000000</td>\n",
       "      <td>2.000000</td>\n",
       "    </tr>\n",
       "  </tbody>\n",
       "</table>\n",
       "</div>"
      ],
      "text/plain": [
       "       id_prod        price        categ\n",
       "count     3287  3287.000000  3287.000000\n",
       "unique    3287          NaN          NaN\n",
       "top     0_1421          NaN          NaN\n",
       "freq         1          NaN          NaN\n",
       "mean       NaN    21.856641     0.370246\n",
       "std        NaN    29.847908     0.615387\n",
       "min        NaN    -1.000000     0.000000\n",
       "25%        NaN     6.990000     0.000000\n",
       "50%        NaN    13.060000     0.000000\n",
       "75%        NaN    22.990000     1.000000\n",
       "max        NaN   300.000000     2.000000"
      ]
     },
     "execution_count": 91,
     "metadata": {},
     "output_type": "execute_result"
    }
   ],
   "source": [
    "products_df.describe(include=\"all\")"
   ]
  },
  {
   "cell_type": "markdown",
   "id": "36b7661f-3907-4509-87fb-d0946fcf53c8",
   "metadata": {},
   "source": [
    "**Observation**\n",
    "\n",
    "On note que la plus faible valeur est négative. Sans présumer de la valeur des livres, un prix négatif est forcément une erreur."
   ]
  },
  {
   "cell_type": "markdown",
   "id": "82ff50b5-4f99-4ef1-9f84-6d0c10a2b7f0",
   "metadata": {},
   "source": [
    "Recherche de prix négatifs ou valant 0"
   ]
  },
  {
   "cell_type": "code",
   "execution_count": 92,
   "id": "49361c8c-1f1e-4d4c-9d84-72990ab02c8d",
   "metadata": {},
   "outputs": [
    {
     "data": {
      "text/html": [
       "<div>\n",
       "<style scoped>\n",
       "    .dataframe tbody tr th:only-of-type {\n",
       "        vertical-align: middle;\n",
       "    }\n",
       "\n",
       "    .dataframe tbody tr th {\n",
       "        vertical-align: top;\n",
       "    }\n",
       "\n",
       "    .dataframe thead th {\n",
       "        text-align: right;\n",
       "    }\n",
       "</style>\n",
       "<table border=\"1\" class=\"dataframe\">\n",
       "  <thead>\n",
       "    <tr style=\"text-align: right;\">\n",
       "      <th></th>\n",
       "      <th>id_prod</th>\n",
       "      <th>price</th>\n",
       "      <th>categ</th>\n",
       "    </tr>\n",
       "  </thead>\n",
       "  <tbody>\n",
       "    <tr>\n",
       "      <th>731</th>\n",
       "      <td>T_0</td>\n",
       "      <td>-1.0</td>\n",
       "      <td>0</td>\n",
       "    </tr>\n",
       "  </tbody>\n",
       "</table>\n",
       "</div>"
      ],
      "text/plain": [
       "    id_prod  price  categ\n",
       "731     T_0   -1.0      0"
      ]
     },
     "execution_count": 92,
     "metadata": {},
     "output_type": "execute_result"
    }
   ],
   "source": [
    "products_df[products_df.price<=0]"
   ]
  },
  {
   "cell_type": "markdown",
   "id": "b8fb757c-9994-49a4-8f83-02c6dacf03a2",
   "metadata": {},
   "source": [
    "Le prix négatif a un id différent des autres car incluant une lettre. On pourrait assumer qu'il s'agit d'une erreur et supprimer cette ligne.\n",
    "Je vérifie avant si je retrouve ce produit dans la table transaction qui est liée à la table products."
   ]
  },
  {
   "cell_type": "code",
   "execution_count": 96,
   "id": "e8056c91-271c-4dd8-91e3-a265a6626719",
   "metadata": {},
   "outputs": [
    {
     "data": {
      "text/html": [
       "<div>\n",
       "<style scoped>\n",
       "    .dataframe tbody tr th:only-of-type {\n",
       "        vertical-align: middle;\n",
       "    }\n",
       "\n",
       "    .dataframe tbody tr th {\n",
       "        vertical-align: top;\n",
       "    }\n",
       "\n",
       "    .dataframe thead th {\n",
       "        text-align: right;\n",
       "    }\n",
       "</style>\n",
       "<table border=\"1\" class=\"dataframe\">\n",
       "  <thead>\n",
       "    <tr style=\"text-align: right;\">\n",
       "      <th></th>\n",
       "      <th>id_prod</th>\n",
       "      <th>date</th>\n",
       "      <th>session_id</th>\n",
       "      <th>client_id</th>\n",
       "    </tr>\n",
       "  </thead>\n",
       "  <tbody>\n",
       "  </tbody>\n",
       "</table>\n",
       "</div>"
      ],
      "text/plain": [
       "Empty DataFrame\n",
       "Columns: [id_prod, date, session_id, client_id]\n",
       "Index: []"
      ]
     },
     "execution_count": 96,
     "metadata": {},
     "output_type": "execute_result"
    }
   ],
   "source": [
    "transactions_df[transactions_df.id_prod==\"T_0\"]"
   ]
  },
  {
   "cell_type": "markdown",
   "id": "14a7c39f-aebf-4b2c-9159-86ed94cd62b2",
   "metadata": {},
   "source": [
    "Je vérifie en passant si ce produit se trouve dans la table de test."
   ]
  },
  {
   "cell_type": "code",
   "execution_count": 97,
   "id": "f892eae6-0eb9-4e80-ae38-5ccf1e11c152",
   "metadata": {},
   "outputs": [
    {
     "data": {
      "text/plain": [
       "id_prod       200\n",
       "date            0\n",
       "session_id      0\n",
       "client_id       0\n",
       "dtype: int64"
      ]
     },
     "execution_count": 97,
     "metadata": {},
     "output_type": "execute_result"
    }
   ],
   "source": [
    "test_dates_transactions_df[test_dates_transactions_df==\"T_0\"].count()"
   ]
  },
  {
   "cell_type": "markdown",
   "id": "01d0e47d-0891-4c09-bb41-8f7b009f4f32",
   "metadata": {},
   "source": [
    "Le produit est un produit test, il n'est pas présent dans la table transactions nettoyée. Je supprime la ligne."
   ]
  },
  {
   "cell_type": "code",
   "execution_count": 98,
   "id": "d362c184-926e-4b44-8f46-6d87df85eb55",
   "metadata": {},
   "outputs": [],
   "source": [
    "products_df.drop(products_df[products_df.price<=0].index, inplace=True)"
   ]
  },
  {
   "cell_type": "markdown",
   "id": "7c97323e-5e4c-4953-a095-61eb29b54132",
   "metadata": {},
   "source": [
    "### Conclusion"
   ]
  },
  {
   "cell_type": "markdown",
   "id": "500c4dcc-a519-41ce-afea-7487f674b407",
   "metadata": {},
   "source": [
    "Un type de données a été modifié.<br>\n",
    "Aucune valeur manquante n'a été identifiée.<br>\n",
    "Aucun doublon n'a été détecté.<br>\n",
    "Des lignes ont été supprimées :\n",
    " - Les lignes de tests\n",
    " - Les lignes contenant des prix négatifs\n"
   ]
  },
  {
   "cell_type": "code",
   "execution_count": 99,
   "id": "c38d1a00-92ac-4af0-826c-e5d701440d58",
   "metadata": {},
   "outputs": [
    {
     "name": "stdout",
     "output_type": "stream",
     "text": [
      "\n",
      "Le fichier 'customers.csv' contenait initialiement 8623 lignes et 3 colonnes. \n",
      "Il contient maintenant 8623 lignes et 3 colonnes. \n",
      "\n",
      "Le fichier 'products.csv' contenait initialiement 3287 lignes et 3 colonnes. \n",
      "Il contient maintenant 3286 lignes et 3 colonnes. \n",
      "\n",
      "Le fichier 'transactions.csv' contenait initialiement 679532 lignes et 4 colonnes. \n",
      "Il contient maintenant 679332 lignes et 4 colonnes. \n",
      "\n"
     ]
    }
   ],
   "source": [
    "customers_final_size=customers_df.shape\n",
    "products_final_size=products_df.shape\n",
    "transactions_final_size=transactions_df.shape\n",
    "\n",
    "print (f\"\"\"\n",
    "Le fichier 'customers.csv' contenait initialiement {customers_initial_size[0]} lignes et {customers_initial_size[1]} colonnes. \n",
    "Il contient maintenant {customers_final_size[0]} lignes et {customers_final_size[1]} colonnes. \n",
    "\n",
    "Le fichier 'products.csv' contenait initialiement {products_intial_size[0]} lignes et {products_intial_size[1]} colonnes. \n",
    "Il contient maintenant {products_final_size[0]} lignes et {products_final_size[1]} colonnes. \n",
    "\n",
    "Le fichier 'transactions.csv' contenait initialiement {transactions_intial_size[0]} lignes et {transactions_intial_size[1]} colonnes. \n",
    "Il contient maintenant {transactions_final_size[0]} lignes et {transactions_final_size[1]} colonnes. \n",
    "\"\"\")"
   ]
  },
  {
   "cell_type": "markdown",
   "id": "a76e3720-90ac-4b2b-bc74-f11b1257502f",
   "metadata": {},
   "source": [
    "# Analyse des différents indicateurs de vente"
   ]
  },
  {
   "cell_type": "markdown",
   "id": "bda8a6ac-c0b9-4798-957e-ea97c2c908f6",
   "metadata": {},
   "source": [
    "## Fusion des différents jeux de données"
   ]
  },
  {
   "cell_type": "markdown",
   "id": "e0561be8-b2f0-45c3-bbe9-a353ec65af92",
   "metadata": {},
   "source": [
    "Pour faciliter la lecture des données, je merge toutes les données dans un seul tableau. Le tableau \"principal\" est transactions car il a les 2 clés étrangères des 2 autres tables."
   ]
  },
  {
   "cell_type": "code",
   "execution_count": 100,
   "id": "8316fe06-6867-469d-8f25-ded771d427da",
   "metadata": {},
   "outputs": [
    {
     "data": {
      "text/html": [
       "<div>\n",
       "<style scoped>\n",
       "    .dataframe tbody tr th:only-of-type {\n",
       "        vertical-align: middle;\n",
       "    }\n",
       "\n",
       "    .dataframe tbody tr th {\n",
       "        vertical-align: top;\n",
       "    }\n",
       "\n",
       "    .dataframe thead th {\n",
       "        text-align: right;\n",
       "    }\n",
       "</style>\n",
       "<table border=\"1\" class=\"dataframe\">\n",
       "  <thead>\n",
       "    <tr style=\"text-align: right;\">\n",
       "      <th></th>\n",
       "      <th>id_prod</th>\n",
       "      <th>date</th>\n",
       "      <th>session_id</th>\n",
       "      <th>client_id</th>\n",
       "      <th>sex</th>\n",
       "      <th>birth</th>\n",
       "      <th>price</th>\n",
       "      <th>categ</th>\n",
       "    </tr>\n",
       "  </thead>\n",
       "  <tbody>\n",
       "    <tr>\n",
       "      <th>0</th>\n",
       "      <td>0_1518</td>\n",
       "      <td>2022-05-20 13:21:29.043970</td>\n",
       "      <td>s_211425</td>\n",
       "      <td>c_103</td>\n",
       "      <td>f</td>\n",
       "      <td>1986</td>\n",
       "      <td>4.18</td>\n",
       "      <td>0.0</td>\n",
       "    </tr>\n",
       "    <tr>\n",
       "      <th>1</th>\n",
       "      <td>1_251</td>\n",
       "      <td>2022-02-02 07:55:19.149409</td>\n",
       "      <td>s_158752</td>\n",
       "      <td>c_8534</td>\n",
       "      <td>m</td>\n",
       "      <td>1988</td>\n",
       "      <td>15.99</td>\n",
       "      <td>1.0</td>\n",
       "    </tr>\n",
       "    <tr>\n",
       "      <th>2</th>\n",
       "      <td>0_1277</td>\n",
       "      <td>2022-06-18 15:44:33.155329</td>\n",
       "      <td>s_225667</td>\n",
       "      <td>c_6714</td>\n",
       "      <td>f</td>\n",
       "      <td>1968</td>\n",
       "      <td>7.99</td>\n",
       "      <td>0.0</td>\n",
       "    </tr>\n",
       "    <tr>\n",
       "      <th>3</th>\n",
       "      <td>2_209</td>\n",
       "      <td>2021-06-24 04:19:29.835891</td>\n",
       "      <td>s_52962</td>\n",
       "      <td>c_6941</td>\n",
       "      <td>m</td>\n",
       "      <td>2000</td>\n",
       "      <td>69.99</td>\n",
       "      <td>2.0</td>\n",
       "    </tr>\n",
       "    <tr>\n",
       "      <th>4</th>\n",
       "      <td>0_1509</td>\n",
       "      <td>2023-01-11 08:22:08.194479</td>\n",
       "      <td>s_325227</td>\n",
       "      <td>c_4232</td>\n",
       "      <td>m</td>\n",
       "      <td>1980</td>\n",
       "      <td>4.99</td>\n",
       "      <td>0.0</td>\n",
       "    </tr>\n",
       "    <tr>\n",
       "      <th>...</th>\n",
       "      <td>...</td>\n",
       "      <td>...</td>\n",
       "      <td>...</td>\n",
       "      <td>...</td>\n",
       "      <td>...</td>\n",
       "      <td>...</td>\n",
       "      <td>...</td>\n",
       "      <td>...</td>\n",
       "    </tr>\n",
       "    <tr>\n",
       "      <th>679327</th>\n",
       "      <td>0_1551</td>\n",
       "      <td>2022-01-15 13:05:06.246925</td>\n",
       "      <td>s_150195</td>\n",
       "      <td>c_8489</td>\n",
       "      <td>f</td>\n",
       "      <td>1951</td>\n",
       "      <td>12.99</td>\n",
       "      <td>0.0</td>\n",
       "    </tr>\n",
       "    <tr>\n",
       "      <th>679328</th>\n",
       "      <td>1_639</td>\n",
       "      <td>2022-03-19 16:03:23.429229</td>\n",
       "      <td>s_181434</td>\n",
       "      <td>c_4370</td>\n",
       "      <td>f</td>\n",
       "      <td>1977</td>\n",
       "      <td>10.99</td>\n",
       "      <td>1.0</td>\n",
       "    </tr>\n",
       "    <tr>\n",
       "      <th>679329</th>\n",
       "      <td>0_1425</td>\n",
       "      <td>2022-12-20 04:33:37.584749</td>\n",
       "      <td>s_314704</td>\n",
       "      <td>c_304</td>\n",
       "      <td>f</td>\n",
       "      <td>1988</td>\n",
       "      <td>12.99</td>\n",
       "      <td>0.0</td>\n",
       "    </tr>\n",
       "    <tr>\n",
       "      <th>679330</th>\n",
       "      <td>0_1994</td>\n",
       "      <td>2021-07-16 20:36:35.350579</td>\n",
       "      <td>s_63204</td>\n",
       "      <td>c_2227</td>\n",
       "      <td>m</td>\n",
       "      <td>1986</td>\n",
       "      <td>4.98</td>\n",
       "      <td>0.0</td>\n",
       "    </tr>\n",
       "    <tr>\n",
       "      <th>679331</th>\n",
       "      <td>1_523</td>\n",
       "      <td>2022-09-28 01:12:01.973763</td>\n",
       "      <td>s_274568</td>\n",
       "      <td>c_3873</td>\n",
       "      <td>m</td>\n",
       "      <td>1995</td>\n",
       "      <td>23.99</td>\n",
       "      <td>1.0</td>\n",
       "    </tr>\n",
       "  </tbody>\n",
       "</table>\n",
       "<p>679332 rows × 8 columns</p>\n",
       "</div>"
      ],
      "text/plain": [
       "       id_prod                       date session_id client_id sex  birth  \\\n",
       "0       0_1518 2022-05-20 13:21:29.043970   s_211425     c_103   f   1986   \n",
       "1        1_251 2022-02-02 07:55:19.149409   s_158752    c_8534   m   1988   \n",
       "2       0_1277 2022-06-18 15:44:33.155329   s_225667    c_6714   f   1968   \n",
       "3        2_209 2021-06-24 04:19:29.835891    s_52962    c_6941   m   2000   \n",
       "4       0_1509 2023-01-11 08:22:08.194479   s_325227    c_4232   m   1980   \n",
       "...        ...                        ...        ...       ...  ..    ...   \n",
       "679327  0_1551 2022-01-15 13:05:06.246925   s_150195    c_8489   f   1951   \n",
       "679328   1_639 2022-03-19 16:03:23.429229   s_181434    c_4370   f   1977   \n",
       "679329  0_1425 2022-12-20 04:33:37.584749   s_314704     c_304   f   1988   \n",
       "679330  0_1994 2021-07-16 20:36:35.350579    s_63204    c_2227   m   1986   \n",
       "679331   1_523 2022-09-28 01:12:01.973763   s_274568    c_3873   m   1995   \n",
       "\n",
       "        price  categ  \n",
       "0        4.18    0.0  \n",
       "1       15.99    1.0  \n",
       "2        7.99    0.0  \n",
       "3       69.99    2.0  \n",
       "4        4.99    0.0  \n",
       "...       ...    ...  \n",
       "679327  12.99    0.0  \n",
       "679328  10.99    1.0  \n",
       "679329  12.99    0.0  \n",
       "679330   4.98    0.0  \n",
       "679331  23.99    1.0  \n",
       "\n",
       "[679332 rows x 8 columns]"
      ]
     },
     "execution_count": 100,
     "metadata": {},
     "output_type": "execute_result"
    }
   ],
   "source": [
    "main_df=(\n",
    "    transactions_df\n",
    "        .merge(customers_df, how=\"left\")\n",
    "        .merge(products_df, how=\"left\")\n",
    ")\n",
    "main_df"
   ]
  },
  {
   "cell_type": "markdown",
   "id": "0e867539-05a4-4375-88d6-ff96de15469e",
   "metadata": {},
   "source": [
    "Ayant réalisé une jointure gauche, je vérifie s'il y a des lignes nulles"
   ]
  },
  {
   "cell_type": "code",
   "execution_count": 101,
   "id": "e1cdfaa0-16cf-4c54-8de7-f572e7bf72b8",
   "metadata": {},
   "outputs": [
    {
     "name": "stdout",
     "output_type": "stream",
     "text": [
      "Il y a 221 transactions dont au moins une valeur est nulle.\n",
      "Le produit concerné est 0_2245\n"
     ]
    }
   ],
   "source": [
    "null_rows=main_df[main_df.isnull().any(axis=1)]                          \n",
    "print(f\"Il y a {len(null_rows)} transactions dont au moins une valeur est nulle.\")\n",
    "if (len(null_rows) > 0):\n",
    "    if int(len(null_rows.id_prod.unique())>1):\n",
    "        print(f\"{len(null_rows.id_prod.unique())} produits sont concernés : {','.join(str(i) for i in null_rows.id_prod.unique())}\")\n",
    "    else:\n",
    "        print(f\"Le produit concerné est {''.join(null_rows.id_prod.unique())}\") "
   ]
  },
  {
   "cell_type": "code",
   "execution_count": 102,
   "id": "07dd18ef-69a0-49a3-95f5-219a43eda123",
   "metadata": {},
   "outputs": [
    {
     "data": {
      "text/html": [
       "<div>\n",
       "<style scoped>\n",
       "    .dataframe tbody tr th:only-of-type {\n",
       "        vertical-align: middle;\n",
       "    }\n",
       "\n",
       "    .dataframe tbody tr th {\n",
       "        vertical-align: top;\n",
       "    }\n",
       "\n",
       "    .dataframe thead th {\n",
       "        text-align: right;\n",
       "    }\n",
       "</style>\n",
       "<table border=\"1\" class=\"dataframe\">\n",
       "  <thead>\n",
       "    <tr style=\"text-align: right;\">\n",
       "      <th></th>\n",
       "      <th>id_prod</th>\n",
       "      <th>date</th>\n",
       "      <th>session_id</th>\n",
       "      <th>client_id</th>\n",
       "      <th>sex</th>\n",
       "      <th>birth</th>\n",
       "      <th>price</th>\n",
       "      <th>categ</th>\n",
       "    </tr>\n",
       "  </thead>\n",
       "  <tbody>\n",
       "    <tr>\n",
       "      <th>2633</th>\n",
       "      <td>0_2245</td>\n",
       "      <td>2022-09-23 07:22:38.636773</td>\n",
       "      <td>s_272266</td>\n",
       "      <td>c_4746</td>\n",
       "      <td>m</td>\n",
       "      <td>1940</td>\n",
       "      <td>NaN</td>\n",
       "      <td>NaN</td>\n",
       "    </tr>\n",
       "    <tr>\n",
       "      <th>10103</th>\n",
       "      <td>0_2245</td>\n",
       "      <td>2022-07-23 09:24:14.133889</td>\n",
       "      <td>s_242482</td>\n",
       "      <td>c_6713</td>\n",
       "      <td>f</td>\n",
       "      <td>1963</td>\n",
       "      <td>NaN</td>\n",
       "      <td>NaN</td>\n",
       "    </tr>\n",
       "    <tr>\n",
       "      <th>11723</th>\n",
       "      <td>0_2245</td>\n",
       "      <td>2022-12-03 03:26:35.696673</td>\n",
       "      <td>s_306338</td>\n",
       "      <td>c_5108</td>\n",
       "      <td>m</td>\n",
       "      <td>1978</td>\n",
       "      <td>NaN</td>\n",
       "      <td>NaN</td>\n",
       "    </tr>\n",
       "    <tr>\n",
       "      <th>15670</th>\n",
       "      <td>0_2245</td>\n",
       "      <td>2021-08-16 11:33:25.481411</td>\n",
       "      <td>s_76493</td>\n",
       "      <td>c_1391</td>\n",
       "      <td>m</td>\n",
       "      <td>1991</td>\n",
       "      <td>NaN</td>\n",
       "      <td>NaN</td>\n",
       "    </tr>\n",
       "    <tr>\n",
       "      <th>16372</th>\n",
       "      <td>0_2245</td>\n",
       "      <td>2022-07-16 05:53:01.627491</td>\n",
       "      <td>s_239078</td>\n",
       "      <td>c_7954</td>\n",
       "      <td>m</td>\n",
       "      <td>1973</td>\n",
       "      <td>NaN</td>\n",
       "      <td>NaN</td>\n",
       "    </tr>\n",
       "  </tbody>\n",
       "</table>\n",
       "</div>"
      ],
      "text/plain": [
       "      id_prod                       date session_id client_id sex  birth  \\\n",
       "2633   0_2245 2022-09-23 07:22:38.636773   s_272266    c_4746   m   1940   \n",
       "10103  0_2245 2022-07-23 09:24:14.133889   s_242482    c_6713   f   1963   \n",
       "11723  0_2245 2022-12-03 03:26:35.696673   s_306338    c_5108   m   1978   \n",
       "15670  0_2245 2021-08-16 11:33:25.481411    s_76493    c_1391   m   1991   \n",
       "16372  0_2245 2022-07-16 05:53:01.627491   s_239078    c_7954   m   1973   \n",
       "\n",
       "       price  categ  \n",
       "2633     NaN    NaN  \n",
       "10103    NaN    NaN  \n",
       "11723    NaN    NaN  \n",
       "15670    NaN    NaN  \n",
       "16372    NaN    NaN  "
      ]
     },
     "execution_count": 102,
     "metadata": {},
     "output_type": "execute_result"
    }
   ],
   "source": [
    "null_rows.head()"
   ]
  },
  {
   "cell_type": "markdown",
   "id": "e4bc48fd-7b37-4576-8b1f-efb00b37c004",
   "metadata": {},
   "source": [
    "Je regarde dans quelles colonnes nous avons des valeurs de type NaN."
   ]
  },
  {
   "cell_type": "code",
   "execution_count": 103,
   "id": "79e5359b-84d2-472e-914b-cd5b325afc62",
   "metadata": {},
   "outputs": [
    {
     "data": {
      "text/plain": [
       "id_prod       False\n",
       "date          False\n",
       "session_id    False\n",
       "client_id     False\n",
       "sex           False\n",
       "birth         False\n",
       "price          True\n",
       "categ          True\n",
       "dtype: bool"
      ]
     },
     "execution_count": 103,
     "metadata": {},
     "output_type": "execute_result"
    }
   ],
   "source": [
    "main_df.isnull().any(axis=0)"
   ]
  },
  {
   "cell_type": "markdown",
   "id": "ae6168a6-a20b-4e31-bc3b-0733cdbd0565",
   "metadata": {},
   "source": [
    "Le produit a été vendu 221 fois, le supprimer nous ferait perdre des informations de CA pour notre analyse.<br>\n",
    "Je vais appliquer le prix moyen au produit manquant, et la catégorie ayant le plus grand nombre d'occurences à la catégorie."
   ]
  },
  {
   "cell_type": "code",
   "execution_count": 104,
   "id": "9999ab3a-9701-415b-b6b7-452b036d0c5c",
   "metadata": {},
   "outputs": [
    {
     "name": "stdout",
     "output_type": "stream",
     "text": [
      "Le prix moyen d'un livre est de 17.45€.\n",
      "La catégorie la plus représentée est la 0 avec 415459 occurences.\n",
      "\n"
     ]
    }
   ],
   "source": [
    "mean_price=np.mean(main_df.price)\n",
    "most_numerous_categ = main_df.groupby(\"categ\", as_index=False).agg({\"categ\":'count'}).reset_index().sort_values(by=\"categ\",ascending=False)\n",
    "print(f\"\"\"Le prix moyen d'un livre est de {mean_price:.2f}€.\n",
    "La catégorie la plus représentée est la {most_numerous_categ.index[0]} avec {most_numerous_categ.categ[0]} occurences.\n",
    "\"\"\")"
   ]
  },
  {
   "cell_type": "code",
   "execution_count": 105,
   "id": "98a4c771-5a7a-4eae-a78d-321ac0f71895",
   "metadata": {},
   "outputs": [],
   "source": [
    "main_df.price.fillna(value=round(mean_price,2), inplace=True)\n",
    "main_df.categ.fillna(value=most_numerous_categ.index[0], inplace=True)"
   ]
  },
  {
   "cell_type": "code",
   "execution_count": 106,
   "id": "5a7f6786-3380-451b-bdc5-e636387fee5f",
   "metadata": {},
   "outputs": [
    {
     "data": {
      "text/plain": [
       "id_prod                           0_2245\n",
       "date          2022-09-23 07:22:38.636773\n",
       "session_id                      s_272266\n",
       "client_id                         c_4746\n",
       "sex                                    m\n",
       "birth                               1940\n",
       "price                              17.45\n",
       "categ                                0.0\n",
       "Name: 2633, dtype: object"
      ]
     },
     "execution_count": 106,
     "metadata": {},
     "output_type": "execute_result"
    }
   ],
   "source": [
    "# Je valide la modification en cherchant par l'index de la première ligne du tableau null_rows\n",
    "main_df.iloc[2633]"
   ]
  },
  {
   "cell_type": "code",
   "execution_count": 107,
   "id": "af1a2ff8-3231-4939-ac1a-87446925522c",
   "metadata": {},
   "outputs": [
    {
     "data": {
      "text/plain": [
       "id_prod               object\n",
       "date          datetime64[ns]\n",
       "session_id            object\n",
       "client_id             object\n",
       "sex                   object\n",
       "birth                  int64\n",
       "price                float64\n",
       "categ                float64\n",
       "dtype: object"
      ]
     },
     "execution_count": 107,
     "metadata": {},
     "output_type": "execute_result"
    }
   ],
   "source": [
    "main_df.dtypes"
   ]
  },
  {
   "cell_type": "markdown",
   "id": "6537cba9-26ac-4c5b-8363-387ab78147ca",
   "metadata": {},
   "source": [
    "Le champ categ est devenu float au lieu d'un entier.<br>\n",
    "Je souhaite forcer le type à \"int\" mais des valeurs nulles m'en empêchent."
   ]
  },
  {
   "cell_type": "code",
   "execution_count": 108,
   "id": "99e51f8a-f66f-49aa-adbe-2461b0b20ccc",
   "metadata": {},
   "outputs": [],
   "source": [
    "main_df[\"categ\"]=main_df.categ.astype('int')"
   ]
  },
  {
   "cell_type": "code",
   "execution_count": 109,
   "id": "aa4ba38b-ec8b-482b-8ac3-1ae3caa4e016",
   "metadata": {},
   "outputs": [
    {
     "data": {
      "text/plain": [
       "id_prod               object\n",
       "date          datetime64[ns]\n",
       "session_id            object\n",
       "client_id             object\n",
       "sex                   object\n",
       "birth                  int64\n",
       "price                float64\n",
       "categ                  int64\n",
       "dtype: object"
      ]
     },
     "execution_count": 109,
     "metadata": {},
     "output_type": "execute_result"
    }
   ],
   "source": [
    "main_df.dtypes"
   ]
  },
  {
   "cell_type": "markdown",
   "id": "ddcba209-35d2-4a60-b579-4b1afed527ae",
   "metadata": {},
   "source": [
    "## Ajout de données\n",
    "\n",
    "Pour les analyses demandées, je vais avoir besoin de décomposer la date d'achat et obtenir l'âge des clients."
   ]
  },
  {
   "cell_type": "markdown",
   "id": "4bbb7da0-5286-4674-84de-372da9b9e4b7",
   "metadata": {},
   "source": [
    "Ajout de données issues de la colonne *date* : \n",
    "- année\n",
    "- année-mois"
   ]
  },
  {
   "cell_type": "code",
   "execution_count": 110,
   "id": "e00929cb-3556-455c-b026-2c873e7d1174",
   "metadata": {},
   "outputs": [],
   "source": [
    "main_df['purchase_year'] = main_df['date'].dt.year"
   ]
  },
  {
   "cell_type": "code",
   "execution_count": 111,
   "id": "0da7c810-8767-4492-85a6-c025302de9cb",
   "metadata": {},
   "outputs": [],
   "source": [
    "main_df['purchase_month'] = main_df['date'].dt.strftime('%m')"
   ]
  },
  {
   "cell_type": "code",
   "execution_count": 112,
   "id": "c02f8574-6823-4206-9897-359381ff0107",
   "metadata": {},
   "outputs": [],
   "source": [
    "main_df['purchase_year_month'] = main_df['purchase_year'].astype(str) + '-' + main_df['purchase_month'].astype(str)"
   ]
  },
  {
   "cell_type": "code",
   "execution_count": 113,
   "id": "b0bae73b-1bba-46d5-80d8-a71bbdc394ab",
   "metadata": {},
   "outputs": [
    {
     "data": {
      "text/html": [
       "<div>\n",
       "<style scoped>\n",
       "    .dataframe tbody tr th:only-of-type {\n",
       "        vertical-align: middle;\n",
       "    }\n",
       "\n",
       "    .dataframe tbody tr th {\n",
       "        vertical-align: top;\n",
       "    }\n",
       "\n",
       "    .dataframe thead th {\n",
       "        text-align: right;\n",
       "    }\n",
       "</style>\n",
       "<table border=\"1\" class=\"dataframe\">\n",
       "  <thead>\n",
       "    <tr style=\"text-align: right;\">\n",
       "      <th></th>\n",
       "      <th>id_prod</th>\n",
       "      <th>date</th>\n",
       "      <th>session_id</th>\n",
       "      <th>client_id</th>\n",
       "      <th>sex</th>\n",
       "      <th>birth</th>\n",
       "      <th>price</th>\n",
       "      <th>categ</th>\n",
       "      <th>purchase_year</th>\n",
       "      <th>purchase_month</th>\n",
       "      <th>purchase_year_month</th>\n",
       "    </tr>\n",
       "  </thead>\n",
       "  <tbody>\n",
       "    <tr>\n",
       "      <th>0</th>\n",
       "      <td>0_1518</td>\n",
       "      <td>2022-05-20 13:21:29.043970</td>\n",
       "      <td>s_211425</td>\n",
       "      <td>c_103</td>\n",
       "      <td>f</td>\n",
       "      <td>1986</td>\n",
       "      <td>4.18</td>\n",
       "      <td>0</td>\n",
       "      <td>2022</td>\n",
       "      <td>05</td>\n",
       "      <td>2022-05</td>\n",
       "    </tr>\n",
       "    <tr>\n",
       "      <th>1</th>\n",
       "      <td>1_251</td>\n",
       "      <td>2022-02-02 07:55:19.149409</td>\n",
       "      <td>s_158752</td>\n",
       "      <td>c_8534</td>\n",
       "      <td>m</td>\n",
       "      <td>1988</td>\n",
       "      <td>15.99</td>\n",
       "      <td>1</td>\n",
       "      <td>2022</td>\n",
       "      <td>02</td>\n",
       "      <td>2022-02</td>\n",
       "    </tr>\n",
       "    <tr>\n",
       "      <th>2</th>\n",
       "      <td>0_1277</td>\n",
       "      <td>2022-06-18 15:44:33.155329</td>\n",
       "      <td>s_225667</td>\n",
       "      <td>c_6714</td>\n",
       "      <td>f</td>\n",
       "      <td>1968</td>\n",
       "      <td>7.99</td>\n",
       "      <td>0</td>\n",
       "      <td>2022</td>\n",
       "      <td>06</td>\n",
       "      <td>2022-06</td>\n",
       "    </tr>\n",
       "    <tr>\n",
       "      <th>3</th>\n",
       "      <td>2_209</td>\n",
       "      <td>2021-06-24 04:19:29.835891</td>\n",
       "      <td>s_52962</td>\n",
       "      <td>c_6941</td>\n",
       "      <td>m</td>\n",
       "      <td>2000</td>\n",
       "      <td>69.99</td>\n",
       "      <td>2</td>\n",
       "      <td>2021</td>\n",
       "      <td>06</td>\n",
       "      <td>2021-06</td>\n",
       "    </tr>\n",
       "    <tr>\n",
       "      <th>4</th>\n",
       "      <td>0_1509</td>\n",
       "      <td>2023-01-11 08:22:08.194479</td>\n",
       "      <td>s_325227</td>\n",
       "      <td>c_4232</td>\n",
       "      <td>m</td>\n",
       "      <td>1980</td>\n",
       "      <td>4.99</td>\n",
       "      <td>0</td>\n",
       "      <td>2023</td>\n",
       "      <td>01</td>\n",
       "      <td>2023-01</td>\n",
       "    </tr>\n",
       "    <tr>\n",
       "      <th>...</th>\n",
       "      <td>...</td>\n",
       "      <td>...</td>\n",
       "      <td>...</td>\n",
       "      <td>...</td>\n",
       "      <td>...</td>\n",
       "      <td>...</td>\n",
       "      <td>...</td>\n",
       "      <td>...</td>\n",
       "      <td>...</td>\n",
       "      <td>...</td>\n",
       "      <td>...</td>\n",
       "    </tr>\n",
       "    <tr>\n",
       "      <th>679327</th>\n",
       "      <td>0_1551</td>\n",
       "      <td>2022-01-15 13:05:06.246925</td>\n",
       "      <td>s_150195</td>\n",
       "      <td>c_8489</td>\n",
       "      <td>f</td>\n",
       "      <td>1951</td>\n",
       "      <td>12.99</td>\n",
       "      <td>0</td>\n",
       "      <td>2022</td>\n",
       "      <td>01</td>\n",
       "      <td>2022-01</td>\n",
       "    </tr>\n",
       "    <tr>\n",
       "      <th>679328</th>\n",
       "      <td>1_639</td>\n",
       "      <td>2022-03-19 16:03:23.429229</td>\n",
       "      <td>s_181434</td>\n",
       "      <td>c_4370</td>\n",
       "      <td>f</td>\n",
       "      <td>1977</td>\n",
       "      <td>10.99</td>\n",
       "      <td>1</td>\n",
       "      <td>2022</td>\n",
       "      <td>03</td>\n",
       "      <td>2022-03</td>\n",
       "    </tr>\n",
       "    <tr>\n",
       "      <th>679329</th>\n",
       "      <td>0_1425</td>\n",
       "      <td>2022-12-20 04:33:37.584749</td>\n",
       "      <td>s_314704</td>\n",
       "      <td>c_304</td>\n",
       "      <td>f</td>\n",
       "      <td>1988</td>\n",
       "      <td>12.99</td>\n",
       "      <td>0</td>\n",
       "      <td>2022</td>\n",
       "      <td>12</td>\n",
       "      <td>2022-12</td>\n",
       "    </tr>\n",
       "    <tr>\n",
       "      <th>679330</th>\n",
       "      <td>0_1994</td>\n",
       "      <td>2021-07-16 20:36:35.350579</td>\n",
       "      <td>s_63204</td>\n",
       "      <td>c_2227</td>\n",
       "      <td>m</td>\n",
       "      <td>1986</td>\n",
       "      <td>4.98</td>\n",
       "      <td>0</td>\n",
       "      <td>2021</td>\n",
       "      <td>07</td>\n",
       "      <td>2021-07</td>\n",
       "    </tr>\n",
       "    <tr>\n",
       "      <th>679331</th>\n",
       "      <td>1_523</td>\n",
       "      <td>2022-09-28 01:12:01.973763</td>\n",
       "      <td>s_274568</td>\n",
       "      <td>c_3873</td>\n",
       "      <td>m</td>\n",
       "      <td>1995</td>\n",
       "      <td>23.99</td>\n",
       "      <td>1</td>\n",
       "      <td>2022</td>\n",
       "      <td>09</td>\n",
       "      <td>2022-09</td>\n",
       "    </tr>\n",
       "  </tbody>\n",
       "</table>\n",
       "<p>679332 rows × 11 columns</p>\n",
       "</div>"
      ],
      "text/plain": [
       "       id_prod                       date session_id client_id sex  birth  \\\n",
       "0       0_1518 2022-05-20 13:21:29.043970   s_211425     c_103   f   1986   \n",
       "1        1_251 2022-02-02 07:55:19.149409   s_158752    c_8534   m   1988   \n",
       "2       0_1277 2022-06-18 15:44:33.155329   s_225667    c_6714   f   1968   \n",
       "3        2_209 2021-06-24 04:19:29.835891    s_52962    c_6941   m   2000   \n",
       "4       0_1509 2023-01-11 08:22:08.194479   s_325227    c_4232   m   1980   \n",
       "...        ...                        ...        ...       ...  ..    ...   \n",
       "679327  0_1551 2022-01-15 13:05:06.246925   s_150195    c_8489   f   1951   \n",
       "679328   1_639 2022-03-19 16:03:23.429229   s_181434    c_4370   f   1977   \n",
       "679329  0_1425 2022-12-20 04:33:37.584749   s_314704     c_304   f   1988   \n",
       "679330  0_1994 2021-07-16 20:36:35.350579    s_63204    c_2227   m   1986   \n",
       "679331   1_523 2022-09-28 01:12:01.973763   s_274568    c_3873   m   1995   \n",
       "\n",
       "        price  categ  purchase_year purchase_month purchase_year_month  \n",
       "0        4.18      0           2022             05             2022-05  \n",
       "1       15.99      1           2022             02             2022-02  \n",
       "2        7.99      0           2022             06             2022-06  \n",
       "3       69.99      2           2021             06             2021-06  \n",
       "4        4.99      0           2023             01             2023-01  \n",
       "...       ...    ...            ...            ...                 ...  \n",
       "679327  12.99      0           2022             01             2022-01  \n",
       "679328  10.99      1           2022             03             2022-03  \n",
       "679329  12.99      0           2022             12             2022-12  \n",
       "679330   4.98      0           2021             07             2021-07  \n",
       "679331  23.99      1           2022             09             2022-09  \n",
       "\n",
       "[679332 rows x 11 columns]"
      ]
     },
     "execution_count": 113,
     "metadata": {},
     "output_type": "execute_result"
    }
   ],
   "source": [
    "main_df"
   ]
  },
  {
   "cell_type": "markdown",
   "id": "550c2a48-cde1-4edf-872a-56411a639dd6",
   "metadata": {},
   "source": [
    "Ajout d'une colonne *age* du client en fonction de l'année courante."
   ]
  },
  {
   "cell_type": "code",
   "execution_count": 114,
   "id": "2f9be608-0dec-4baa-8517-9c31bc923328",
   "metadata": {},
   "outputs": [
    {
     "data": {
      "text/html": [
       "<div>\n",
       "<style scoped>\n",
       "    .dataframe tbody tr th:only-of-type {\n",
       "        vertical-align: middle;\n",
       "    }\n",
       "\n",
       "    .dataframe tbody tr th {\n",
       "        vertical-align: top;\n",
       "    }\n",
       "\n",
       "    .dataframe thead th {\n",
       "        text-align: right;\n",
       "    }\n",
       "</style>\n",
       "<table border=\"1\" class=\"dataframe\">\n",
       "  <thead>\n",
       "    <tr style=\"text-align: right;\">\n",
       "      <th></th>\n",
       "      <th>id_prod</th>\n",
       "      <th>date</th>\n",
       "      <th>session_id</th>\n",
       "      <th>client_id</th>\n",
       "      <th>sex</th>\n",
       "      <th>birth</th>\n",
       "      <th>price</th>\n",
       "      <th>categ</th>\n",
       "      <th>purchase_year</th>\n",
       "      <th>purchase_month</th>\n",
       "      <th>purchase_year_month</th>\n",
       "      <th>age</th>\n",
       "    </tr>\n",
       "  </thead>\n",
       "  <tbody>\n",
       "    <tr>\n",
       "      <th>0</th>\n",
       "      <td>0_1518</td>\n",
       "      <td>2022-05-20 13:21:29.043970</td>\n",
       "      <td>s_211425</td>\n",
       "      <td>c_103</td>\n",
       "      <td>f</td>\n",
       "      <td>1986</td>\n",
       "      <td>4.18</td>\n",
       "      <td>0</td>\n",
       "      <td>2022</td>\n",
       "      <td>05</td>\n",
       "      <td>2022-05</td>\n",
       "      <td>37</td>\n",
       "    </tr>\n",
       "    <tr>\n",
       "      <th>1</th>\n",
       "      <td>1_251</td>\n",
       "      <td>2022-02-02 07:55:19.149409</td>\n",
       "      <td>s_158752</td>\n",
       "      <td>c_8534</td>\n",
       "      <td>m</td>\n",
       "      <td>1988</td>\n",
       "      <td>15.99</td>\n",
       "      <td>1</td>\n",
       "      <td>2022</td>\n",
       "      <td>02</td>\n",
       "      <td>2022-02</td>\n",
       "      <td>35</td>\n",
       "    </tr>\n",
       "    <tr>\n",
       "      <th>2</th>\n",
       "      <td>0_1277</td>\n",
       "      <td>2022-06-18 15:44:33.155329</td>\n",
       "      <td>s_225667</td>\n",
       "      <td>c_6714</td>\n",
       "      <td>f</td>\n",
       "      <td>1968</td>\n",
       "      <td>7.99</td>\n",
       "      <td>0</td>\n",
       "      <td>2022</td>\n",
       "      <td>06</td>\n",
       "      <td>2022-06</td>\n",
       "      <td>55</td>\n",
       "    </tr>\n",
       "    <tr>\n",
       "      <th>3</th>\n",
       "      <td>2_209</td>\n",
       "      <td>2021-06-24 04:19:29.835891</td>\n",
       "      <td>s_52962</td>\n",
       "      <td>c_6941</td>\n",
       "      <td>m</td>\n",
       "      <td>2000</td>\n",
       "      <td>69.99</td>\n",
       "      <td>2</td>\n",
       "      <td>2021</td>\n",
       "      <td>06</td>\n",
       "      <td>2021-06</td>\n",
       "      <td>23</td>\n",
       "    </tr>\n",
       "    <tr>\n",
       "      <th>4</th>\n",
       "      <td>0_1509</td>\n",
       "      <td>2023-01-11 08:22:08.194479</td>\n",
       "      <td>s_325227</td>\n",
       "      <td>c_4232</td>\n",
       "      <td>m</td>\n",
       "      <td>1980</td>\n",
       "      <td>4.99</td>\n",
       "      <td>0</td>\n",
       "      <td>2023</td>\n",
       "      <td>01</td>\n",
       "      <td>2023-01</td>\n",
       "      <td>43</td>\n",
       "    </tr>\n",
       "    <tr>\n",
       "      <th>...</th>\n",
       "      <td>...</td>\n",
       "      <td>...</td>\n",
       "      <td>...</td>\n",
       "      <td>...</td>\n",
       "      <td>...</td>\n",
       "      <td>...</td>\n",
       "      <td>...</td>\n",
       "      <td>...</td>\n",
       "      <td>...</td>\n",
       "      <td>...</td>\n",
       "      <td>...</td>\n",
       "      <td>...</td>\n",
       "    </tr>\n",
       "    <tr>\n",
       "      <th>679327</th>\n",
       "      <td>0_1551</td>\n",
       "      <td>2022-01-15 13:05:06.246925</td>\n",
       "      <td>s_150195</td>\n",
       "      <td>c_8489</td>\n",
       "      <td>f</td>\n",
       "      <td>1951</td>\n",
       "      <td>12.99</td>\n",
       "      <td>0</td>\n",
       "      <td>2022</td>\n",
       "      <td>01</td>\n",
       "      <td>2022-01</td>\n",
       "      <td>72</td>\n",
       "    </tr>\n",
       "    <tr>\n",
       "      <th>679328</th>\n",
       "      <td>1_639</td>\n",
       "      <td>2022-03-19 16:03:23.429229</td>\n",
       "      <td>s_181434</td>\n",
       "      <td>c_4370</td>\n",
       "      <td>f</td>\n",
       "      <td>1977</td>\n",
       "      <td>10.99</td>\n",
       "      <td>1</td>\n",
       "      <td>2022</td>\n",
       "      <td>03</td>\n",
       "      <td>2022-03</td>\n",
       "      <td>46</td>\n",
       "    </tr>\n",
       "    <tr>\n",
       "      <th>679329</th>\n",
       "      <td>0_1425</td>\n",
       "      <td>2022-12-20 04:33:37.584749</td>\n",
       "      <td>s_314704</td>\n",
       "      <td>c_304</td>\n",
       "      <td>f</td>\n",
       "      <td>1988</td>\n",
       "      <td>12.99</td>\n",
       "      <td>0</td>\n",
       "      <td>2022</td>\n",
       "      <td>12</td>\n",
       "      <td>2022-12</td>\n",
       "      <td>35</td>\n",
       "    </tr>\n",
       "    <tr>\n",
       "      <th>679330</th>\n",
       "      <td>0_1994</td>\n",
       "      <td>2021-07-16 20:36:35.350579</td>\n",
       "      <td>s_63204</td>\n",
       "      <td>c_2227</td>\n",
       "      <td>m</td>\n",
       "      <td>1986</td>\n",
       "      <td>4.98</td>\n",
       "      <td>0</td>\n",
       "      <td>2021</td>\n",
       "      <td>07</td>\n",
       "      <td>2021-07</td>\n",
       "      <td>37</td>\n",
       "    </tr>\n",
       "    <tr>\n",
       "      <th>679331</th>\n",
       "      <td>1_523</td>\n",
       "      <td>2022-09-28 01:12:01.973763</td>\n",
       "      <td>s_274568</td>\n",
       "      <td>c_3873</td>\n",
       "      <td>m</td>\n",
       "      <td>1995</td>\n",
       "      <td>23.99</td>\n",
       "      <td>1</td>\n",
       "      <td>2022</td>\n",
       "      <td>09</td>\n",
       "      <td>2022-09</td>\n",
       "      <td>28</td>\n",
       "    </tr>\n",
       "  </tbody>\n",
       "</table>\n",
       "<p>679332 rows × 12 columns</p>\n",
       "</div>"
      ],
      "text/plain": [
       "       id_prod                       date session_id client_id sex  birth  \\\n",
       "0       0_1518 2022-05-20 13:21:29.043970   s_211425     c_103   f   1986   \n",
       "1        1_251 2022-02-02 07:55:19.149409   s_158752    c_8534   m   1988   \n",
       "2       0_1277 2022-06-18 15:44:33.155329   s_225667    c_6714   f   1968   \n",
       "3        2_209 2021-06-24 04:19:29.835891    s_52962    c_6941   m   2000   \n",
       "4       0_1509 2023-01-11 08:22:08.194479   s_325227    c_4232   m   1980   \n",
       "...        ...                        ...        ...       ...  ..    ...   \n",
       "679327  0_1551 2022-01-15 13:05:06.246925   s_150195    c_8489   f   1951   \n",
       "679328   1_639 2022-03-19 16:03:23.429229   s_181434    c_4370   f   1977   \n",
       "679329  0_1425 2022-12-20 04:33:37.584749   s_314704     c_304   f   1988   \n",
       "679330  0_1994 2021-07-16 20:36:35.350579    s_63204    c_2227   m   1986   \n",
       "679331   1_523 2022-09-28 01:12:01.973763   s_274568    c_3873   m   1995   \n",
       "\n",
       "        price  categ  purchase_year purchase_month purchase_year_month  age  \n",
       "0        4.18      0           2022             05             2022-05   37  \n",
       "1       15.99      1           2022             02             2022-02   35  \n",
       "2        7.99      0           2022             06             2022-06   55  \n",
       "3       69.99      2           2021             06             2021-06   23  \n",
       "4        4.99      0           2023             01             2023-01   43  \n",
       "...       ...    ...            ...            ...                 ...  ...  \n",
       "679327  12.99      0           2022             01             2022-01   72  \n",
       "679328  10.99      1           2022             03             2022-03   46  \n",
       "679329  12.99      0           2022             12             2022-12   35  \n",
       "679330   4.98      0           2021             07             2021-07   37  \n",
       "679331  23.99      1           2022             09             2022-09   28  \n",
       "\n",
       "[679332 rows x 12 columns]"
      ]
     },
     "execution_count": 114,
     "metadata": {},
     "output_type": "execute_result"
    }
   ],
   "source": [
    "#Dataset has data in the future (2023 as we are in 2022).\n",
    "#I can't retrieve the current year to compute age. I fetch max year from dataset.\n",
    "#today = dt.date.today()\n",
    "#currentYear=int(today.strftime(\"%Y\")) : \n",
    "currentYear=max(main_df[\"date\"].dt.year)\n",
    "currentYear\n",
    "main_df[\"age\"]=currentYear-main_df.birth\n",
    "main_df"
   ]
  },
  {
   "cell_type": "markdown",
   "id": "395c0362-1e16-4419-9471-cf26909d6a14",
   "metadata": {},
   "source": [
    "## Analyse univariée\n",
    "\n",
    "Analyse de l'ensemble des données du jeu de données main_df"
   ]
  },
  {
   "cell_type": "markdown",
   "id": "c8ea2a91-66e3-4c90-8d7e-91a0192d03a2",
   "metadata": {},
   "source": [
    "### Catégorie"
   ]
  },
  {
   "cell_type": "markdown",
   "id": "94b74248-b51b-4739-b67a-febfe05656db",
   "metadata": {},
   "source": [
    "Nombre de ventes par catégorie"
   ]
  },
  {
   "cell_type": "code",
   "execution_count": 115,
   "id": "fa441f06-d560-4430-99d3-a6343a0bca5b",
   "metadata": {},
   "outputs": [
    {
     "data": {
      "text/html": [
       "<div>\n",
       "<style scoped>\n",
       "    .dataframe tbody tr th:only-of-type {\n",
       "        vertical-align: middle;\n",
       "    }\n",
       "\n",
       "    .dataframe tbody tr th {\n",
       "        vertical-align: top;\n",
       "    }\n",
       "\n",
       "    .dataframe thead th {\n",
       "        text-align: right;\n",
       "    }\n",
       "</style>\n",
       "<table border=\"1\" class=\"dataframe\">\n",
       "  <thead>\n",
       "    <tr style=\"text-align: right;\">\n",
       "      <th></th>\n",
       "      <th>categ</th>\n",
       "      <th>total</th>\n",
       "    </tr>\n",
       "  </thead>\n",
       "  <tbody>\n",
       "    <tr>\n",
       "      <th>0</th>\n",
       "      <td>0</td>\n",
       "      <td>415680</td>\n",
       "    </tr>\n",
       "    <tr>\n",
       "      <th>1</th>\n",
       "      <td>1</td>\n",
       "      <td>227169</td>\n",
       "    </tr>\n",
       "    <tr>\n",
       "      <th>2</th>\n",
       "      <td>2</td>\n",
       "      <td>36483</td>\n",
       "    </tr>\n",
       "  </tbody>\n",
       "</table>\n",
       "</div>"
      ],
      "text/plain": [
       "   categ   total\n",
       "0      0  415680\n",
       "1      1  227169\n",
       "2      2   36483"
      ]
     },
     "execution_count": 115,
     "metadata": {},
     "output_type": "execute_result"
    }
   ],
   "source": [
    "categ_data=main_df.groupby([\"categ\"])\n",
    "categ_data=categ_data.size().reset_index(name='total')\n",
    "categ_data"
   ]
  },
  {
   "cell_type": "code",
   "execution_count": 116,
   "id": "a3c87f82-dc8c-4834-885e-2e4646a4eeae",
   "metadata": {},
   "outputs": [
    {
     "data": {
      "image/png": "[encoded data removed]",
      "text/plain": [
       "<Figure size 576x360 with 1 Axes>"
      ]
     },
     "metadata": {
      "needs_background": "light"
     },
     "output_type": "display_data"
    }
   ],
   "source": [
    "# Create graphic\n",
    "plt.figure(figsize=(8,5))\n",
    "\n",
    "sns.barplot(x=\"categ\" , y=\"total\",data=categ_data, palette = \"Purples_r\", saturation=1)\n",
    "sns.set_theme(style=\"whitegrid\")\n",
    "\n",
    "plt.xlabel(\"Catégorie\", fontsize = 15)\n",
    "plt.ylabel(\"Nombre de vente\", fontsize = 15)\n",
    "plt.title(\"Volume de vente par catégorie\", fontsize = 20,loc='center', pad=20)\n",
    "#colors = sns.color_palette('colorblind')\n",
    "\n",
    "# Show graphic\n",
    "plt.show()"
   ]
  },
  {
   "cell_type": "markdown",
   "id": "c822d028-ac12-4ea0-86ad-e12bab4fa5d6",
   "metadata": {},
   "source": [
    "Proportion des ventes par catégorie"
   ]
  },
  {
   "cell_type": "code",
   "execution_count": 117,
   "id": "6c8e8a69-dd55-43bb-9fa0-ba064fa86976",
   "metadata": {},
   "outputs": [
    {
     "data": {
      "image/png": "[encoded data removed]",
      "text/plain": [
       "<Figure size 432x288 with 1 Axes>"
      ]
     },
     "metadata": {},
     "output_type": "display_data"
    }
   ],
   "source": [
    "#Define Seaborn color palette to use\n",
    "plt.tight_layout()\n",
    "#colors = sns.color_palette(palette='pastel')[6:]\n",
    "colors = sns.dark_palette(\"skyblue\", 5, reverse=True)\n",
    "plt.title('Proportion des ventes par catégorie',y=1.5, loc=\"center\", size=20)\n",
    "explode = [0, 0, 0.1]\n",
    "\n",
    "#Data\n",
    "data = categ_data.total\n",
    "labels=categ_data.categ.apply(lambda x : \"Catégorie \" + str(x))\n",
    "\n",
    "# Create and show pie chart\n",
    "plt.pie(data, labels = labels, colors = colors, autopct='%.0f%%',pctdistance=0.5, radius=2, explode=explode)\n",
    "plt.show()"
   ]
  },
  {
   "cell_type": "markdown",
   "id": "8a967905-e166-452e-8f4c-5f3f4d866c06",
   "metadata": {},
   "source": [
    "Total des ventes par catégorie"
   ]
  },
  {
   "cell_type": "code",
   "execution_count": 118,
   "id": "d0028484-d80f-4860-85e4-c9de45ecdd01",
   "metadata": {},
   "outputs": [
    {
     "data": {
      "text/plain": [
       "0    4423587.42\n",
       "1    4653722.69\n",
       "2    2780275.02\n",
       "Name: price, dtype: float64"
      ]
     },
     "execution_count": 118,
     "metadata": {},
     "output_type": "execute_result"
    }
   ],
   "source": [
    "categ_price_data = main_df[[\"price\",\"categ\"]].groupby('categ').agg({\"price\":\"sum\"}).reset_index()\n",
    "categ_price_data[\"price\"]"
   ]
  },
  {
   "cell_type": "code",
   "execution_count": 119,
   "id": "b0e86295-c4d3-4c5a-ae75-cd81a5e69c9f",
   "metadata": {},
   "outputs": [
    {
     "data": {
      "image/png": "[encoded data removed]",
      "text/plain": [
       "<Figure size 576x360 with 1 Axes>"
      ]
     },
     "metadata": {},
     "output_type": "display_data"
    }
   ],
   "source": [
    "# Prepare graphic\n",
    "plt.figure(figsize=(8,5))\n",
    "\n",
    "sns.barplot(x=\"categ\" , y=\"price\",data=categ_price_data, palette = \"Purples_r\", saturation=1)\n",
    "sns.set_theme(style=\"whitegrid\")\n",
    "\n",
    "plt.xlabel(\"Catégorie\", fontsize = 15)\n",
    "plt.ylabel(\"Total des ventes (en millions d'€)\", fontsize = 15)\n",
    "plt.title(\"Total des ventes par catégorie\", fontsize = 20,loc='center', pad=20)\n",
    "plt.tight_layout()\n",
    "\n",
    "# Show graphic\n",
    "plt.show()"
   ]
  },
  {
   "cell_type": "code",
   "execution_count": 120,
   "id": "fd318141-adf5-470a-8f0e-75bc732b0e65",
   "metadata": {},
   "outputs": [
    {
     "data": {
      "image/png": "[encoded data removed]",
      "text/plain": [
       "<Figure size 432x288 with 1 Axes>"
      ]
     },
     "metadata": {},
     "output_type": "display_data"
    }
   ],
   "source": [
    "# Prepare graphic\n",
    "plt.title('Proportion du total de vente par catégorie',y=1.5, loc=\"right\")\n",
    "#Define Seaborn color palette to use\n",
    "colors = sns.dark_palette(\"skyblue\", 5, reverse=True)\n",
    "explode = [0, 0, 0.1]\n",
    "\n",
    "#Data\n",
    "data = categ_price_data.price\n",
    "labels=categ_price_data.categ.apply(lambda x : \"Catégorie \" + str(x))\n",
    "\n",
    "# Create and show pie chart\n",
    "plt.pie(data, labels = labels, colors = colors, autopct='%.0f%%',pctdistance=0.5, radius=2, explode=explode)\n",
    "plt.show()"
   ]
  },
  {
   "cell_type": "markdown",
   "id": "6d9d4243-4fcc-45bc-822f-bc5b1d77dc91",
   "metadata": {},
   "source": [
    "Top et flop 10 des produits par catégorie"
   ]
  },
  {
   "cell_type": "code",
   "execution_count": 121,
   "id": "cbb40287-f5d4-42b8-ae6c-c38034505a6a",
   "metadata": {},
   "outputs": [],
   "source": [
    "top_flop=main_df[[\"id_prod\", \"price\", \"categ\"]].groupby(['id_prod','categ',\"price\"], as_index=False).agg(sales=(\"categ\",\"count\"),total_sales=(\"price\",'sum'))"
   ]
  },
  {
   "cell_type": "code",
   "execution_count": 122,
   "id": "71d0d42f-2507-4e5e-b6f0-213ca0921a9a",
   "metadata": {},
   "outputs": [
    {
     "name": "stdout",
     "output_type": "stream",
     "text": [
      "Le top 10 meilleures références est le suivant :\n",
      "     id_prod  categ  price  sales  total_sales\n",
      "2592   1_369      1  23.99   2252     54025.48\n",
      "2645   1_417      1  20.99   2189     45947.11\n",
      "2642   1_414      1  23.83   2180     51949.40\n",
      "2734   1_498      1  23.37   2128     49731.36\n",
      "2654   1_425      1  16.99   2096     35611.04\n",
      "2630   1_403      1  17.99   1960     35260.40\n",
      "2640   1_412      1  16.65   1951     32484.15\n",
      "2641   1_413      1  17.99   1945     34990.55\n",
      "2633   1_406      1  24.81   1939     48106.59\n",
      "2634   1_407      1  15.99   1935     30940.65\n",
      "-----------------------------------------------\n",
      "Les 12 moins bonnes ventes sont :\n",
      "     id_prod  categ  price  sales  total_sales\n",
      "166   0_1151      0   2.99      1         2.99\n",
      "417   0_1379      0   2.99      1         2.99\n",
      "752   0_1683      0   2.99      1         2.99\n",
      "1793   0_549      0   2.99      1         2.99\n",
      "2109   0_833      0   2.99      1         2.99\n",
      "549   0_1498      0   2.48      1         2.48\n",
      "802   0_1728      0   2.27      1         2.27\n",
      "665   0_1601      0   1.99      1         1.99\n",
      "1785   0_541      0   1.99      1         1.99\n",
      "2080   0_807      0   1.99      1         1.99\n",
      "313   0_1284      0   1.38      1         1.38\n",
      "595   0_1539      0   0.99      1         0.99\n",
      "\n"
     ]
    }
   ],
   "source": [
    "top_flop=top_flop.sort_values([\"sales\",\"total_sales\"], ascending=False)\n",
    "\n",
    "#Top 10\n",
    "top=top_flop.head(10)\n",
    "\n",
    "# Moins de 1 vente pour un total de moins de 3€\n",
    "flop=top_flop[(top_flop[\"total_sales\"]<=3) & (top_flop[\"sales\"]<=1)]\n",
    "\n",
    "print (f\"\"\"Le top {len(top)} meilleures références est le suivant :\n",
    "{top}\n",
    "-----------------------------------------------\n",
    "Les {len(flop)} moins bonnes ventes sont :\n",
    "{flop}\n",
    "\"\"\")"
   ]
  },
  {
   "cell_type": "markdown",
   "id": "f58ea76b-7122-4d31-90e2-217a505f80e4",
   "metadata": {},
   "source": [
    "### Chiffre d'affaires"
   ]
  },
  {
   "cell_type": "markdown",
   "id": "a68d928b-2558-479e-b7af-7c5738ab8757",
   "metadata": {},
   "source": [
    "Caclul du CA par année"
   ]
  },
  {
   "cell_type": "code",
   "execution_count": 123,
   "id": "ba3a5dd2-e0f7-44cb-9bf1-029b733ee49e",
   "metadata": {},
   "outputs": [
    {
     "data": {
      "text/html": [
       "<div>\n",
       "<style scoped>\n",
       "    .dataframe tbody tr th:only-of-type {\n",
       "        vertical-align: middle;\n",
       "    }\n",
       "\n",
       "    .dataframe tbody tr th {\n",
       "        vertical-align: top;\n",
       "    }\n",
       "\n",
       "    .dataframe thead th {\n",
       "        text-align: right;\n",
       "    }\n",
       "</style>\n",
       "<table border=\"1\" class=\"dataframe\">\n",
       "  <thead>\n",
       "    <tr style=\"text-align: right;\">\n",
       "      <th></th>\n",
       "      <th>purchase_year</th>\n",
       "      <th>turnover_per_year</th>\n",
       "    </tr>\n",
       "  </thead>\n",
       "  <tbody>\n",
       "    <tr>\n",
       "      <th>0</th>\n",
       "      <td>2021</td>\n",
       "      <td>4772344.71</td>\n",
       "    </tr>\n",
       "    <tr>\n",
       "      <th>1</th>\n",
       "      <td>2022</td>\n",
       "      <td>6110775.81</td>\n",
       "    </tr>\n",
       "    <tr>\n",
       "      <th>2</th>\n",
       "      <td>2023</td>\n",
       "      <td>974464.61</td>\n",
       "    </tr>\n",
       "  </tbody>\n",
       "</table>\n",
       "</div>"
      ],
      "text/plain": [
       "   purchase_year  turnover_per_year\n",
       "0           2021         4772344.71\n",
       "1           2022         6110775.81\n",
       "2           2023          974464.61"
      ]
     },
     "execution_count": 123,
     "metadata": {},
     "output_type": "execute_result"
    }
   ],
   "source": [
    "price_data = main_df[[\"price\", \"purchase_year\", \"purchase_month\", \"purchase_year_month\"]]\n",
    "turnover_per_year=price_data.groupby(\"purchase_year\").agg(turnover_per_year=(\"price\",\"sum\")).reset_index()\n",
    "turnover_per_year"
   ]
  },
  {
   "cell_type": "markdown",
   "id": "aa56c381-de3c-4456-99d2-2ca7679f2350",
   "metadata": {},
   "source": [
    "**Observation**\n",
    "\n",
    "Cette stat n'est pas pertinente car on ne sait pas combien mois composent les années extrêmes.<br>\n",
    "Je calcul le CA mensuel et regroupe le CA par groupe de 12 mois pour avoir un CA lissé."
   ]
  },
  {
   "cell_type": "markdown",
   "id": "9075c373-908d-407e-bda6-490d9d9730b8",
   "metadata": {},
   "source": [
    "Calcul CA par mois"
   ]
  },
  {
   "cell_type": "code",
   "execution_count": 124,
   "id": "ef57d7ed-96f5-4219-b69e-db9125d23c8a",
   "metadata": {},
   "outputs": [
    {
     "data": {
      "text/html": [
       "<div>\n",
       "<style scoped>\n",
       "    .dataframe tbody tr th:only-of-type {\n",
       "        vertical-align: middle;\n",
       "    }\n",
       "\n",
       "    .dataframe tbody tr th {\n",
       "        vertical-align: top;\n",
       "    }\n",
       "\n",
       "    .dataframe thead th {\n",
       "        text-align: right;\n",
       "    }\n",
       "</style>\n",
       "<table border=\"1\" class=\"dataframe\">\n",
       "  <thead>\n",
       "    <tr style=\"text-align: right;\">\n",
       "      <th></th>\n",
       "      <th>purchase_year_month</th>\n",
       "      <th>turnover_per_yearmonth</th>\n",
       "    </tr>\n",
       "  </thead>\n",
       "  <tbody>\n",
       "    <tr>\n",
       "      <th>0</th>\n",
       "      <td>2021-03</td>\n",
       "      <td>482597.66</td>\n",
       "    </tr>\n",
       "    <tr>\n",
       "      <th>1</th>\n",
       "      <td>2021-04</td>\n",
       "      <td>476353.60</td>\n",
       "    </tr>\n",
       "    <tr>\n",
       "      <th>2</th>\n",
       "      <td>2021-05</td>\n",
       "      <td>493083.07</td>\n",
       "    </tr>\n",
       "    <tr>\n",
       "      <th>3</th>\n",
       "      <td>2021-06</td>\n",
       "      <td>484210.71</td>\n",
       "    </tr>\n",
       "    <tr>\n",
       "      <th>4</th>\n",
       "      <td>2021-07</td>\n",
       "      <td>482905.20</td>\n",
       "    </tr>\n",
       "  </tbody>\n",
       "</table>\n",
       "</div>"
      ],
      "text/plain": [
       "  purchase_year_month  turnover_per_yearmonth\n",
       "0             2021-03               482597.66\n",
       "1             2021-04               476353.60\n",
       "2             2021-05               493083.07\n",
       "3             2021-06               484210.71\n",
       "4             2021-07               482905.20"
      ]
     },
     "execution_count": 124,
     "metadata": {},
     "output_type": "execute_result"
    }
   ],
   "source": [
    "turnover_per_yearmonth=price_data.groupby(\"purchase_year_month\").agg(turnover_per_yearmonth=(\"price\",\"sum\")).reset_index()\n",
    "turnover_per_yearmonth.head()"
   ]
  },
  {
   "cell_type": "code",
   "execution_count": 125,
   "id": "a74622e5-1315-4f4b-8f77-509b338ab3e5",
   "metadata": {},
   "outputs": [],
   "source": [
    "j=min(turnover_per_year.purchase_year)\n",
    "turnover_per_yearmonth[\"year\"]=\"\"\n",
    "for i in range (0,len(turnover_per_yearmonth)):\n",
    "    #turnover_per_yearmonth[\"year\"][i]=j -> génère un warning SettingWithCopyWarning: A value is trying to be set on a copy of a slice from a DataFrame\n",
    "    turnover_per_yearmonth.loc[turnover_per_yearmonth.index==i, \"year\"] = str(j)+\"-\"+str(j+1)\n",
    "    if (i+1)%12==0: \n",
    "        j+=1"
   ]
  },
  {
   "cell_type": "code",
   "execution_count": 126,
   "id": "cba011f8-e65c-4f7e-8e47-d3207c03b290",
   "metadata": {},
   "outputs": [
    {
     "data": {
      "text/html": [
       "<div>\n",
       "<style scoped>\n",
       "    .dataframe tbody tr th:only-of-type {\n",
       "        vertical-align: middle;\n",
       "    }\n",
       "\n",
       "    .dataframe tbody tr th {\n",
       "        vertical-align: top;\n",
       "    }\n",
       "\n",
       "    .dataframe thead th {\n",
       "        text-align: right;\n",
       "    }\n",
       "</style>\n",
       "<table border=\"1\" class=\"dataframe\">\n",
       "  <thead>\n",
       "    <tr style=\"text-align: right;\">\n",
       "      <th></th>\n",
       "      <th>purchase_year_month</th>\n",
       "      <th>turnover_per_yearmonth</th>\n",
       "      <th>year</th>\n",
       "      <th>number_of_months</th>\n",
       "    </tr>\n",
       "  </thead>\n",
       "  <tbody>\n",
       "    <tr>\n",
       "      <th>0</th>\n",
       "      <td>2021-03</td>\n",
       "      <td>482597.66</td>\n",
       "      <td>2021-2022</td>\n",
       "      <td>12</td>\n",
       "    </tr>\n",
       "    <tr>\n",
       "      <th>1</th>\n",
       "      <td>2021-04</td>\n",
       "      <td>476353.60</td>\n",
       "      <td>2021-2022</td>\n",
       "      <td>12</td>\n",
       "    </tr>\n",
       "    <tr>\n",
       "      <th>2</th>\n",
       "      <td>2021-05</td>\n",
       "      <td>493083.07</td>\n",
       "      <td>2021-2022</td>\n",
       "      <td>12</td>\n",
       "    </tr>\n",
       "    <tr>\n",
       "      <th>3</th>\n",
       "      <td>2021-06</td>\n",
       "      <td>484210.71</td>\n",
       "      <td>2021-2022</td>\n",
       "      <td>12</td>\n",
       "    </tr>\n",
       "    <tr>\n",
       "      <th>4</th>\n",
       "      <td>2021-07</td>\n",
       "      <td>482905.20</td>\n",
       "      <td>2021-2022</td>\n",
       "      <td>12</td>\n",
       "    </tr>\n",
       "    <tr>\n",
       "      <th>5</th>\n",
       "      <td>2021-08</td>\n",
       "      <td>482441.84</td>\n",
       "      <td>2021-2022</td>\n",
       "      <td>12</td>\n",
       "    </tr>\n",
       "    <tr>\n",
       "      <th>6</th>\n",
       "      <td>2021-09</td>\n",
       "      <td>507450.08</td>\n",
       "      <td>2021-2022</td>\n",
       "      <td>12</td>\n",
       "    </tr>\n",
       "    <tr>\n",
       "      <th>7</th>\n",
       "      <td>2021-10</td>\n",
       "      <td>320920.89</td>\n",
       "      <td>2021-2022</td>\n",
       "      <td>12</td>\n",
       "    </tr>\n",
       "    <tr>\n",
       "      <th>8</th>\n",
       "      <td>2021-11</td>\n",
       "      <td>516342.23</td>\n",
       "      <td>2021-2022</td>\n",
       "      <td>12</td>\n",
       "    </tr>\n",
       "    <tr>\n",
       "      <th>9</th>\n",
       "      <td>2021-12</td>\n",
       "      <td>526039.43</td>\n",
       "      <td>2021-2022</td>\n",
       "      <td>12</td>\n",
       "    </tr>\n",
       "    <tr>\n",
       "      <th>10</th>\n",
       "      <td>2022-01</td>\n",
       "      <td>525426.24</td>\n",
       "      <td>2021-2022</td>\n",
       "      <td>12</td>\n",
       "    </tr>\n",
       "    <tr>\n",
       "      <th>11</th>\n",
       "      <td>2022-02</td>\n",
       "      <td>535763.45</td>\n",
       "      <td>2021-2022</td>\n",
       "      <td>12</td>\n",
       "    </tr>\n",
       "    <tr>\n",
       "      <th>12</th>\n",
       "      <td>2022-03</td>\n",
       "      <td>515648.48</td>\n",
       "      <td>2022-2023</td>\n",
       "      <td>12</td>\n",
       "    </tr>\n",
       "    <tr>\n",
       "      <th>13</th>\n",
       "      <td>2022-04</td>\n",
       "      <td>493243.24</td>\n",
       "      <td>2022-2023</td>\n",
       "      <td>12</td>\n",
       "    </tr>\n",
       "    <tr>\n",
       "      <th>14</th>\n",
       "      <td>2022-05</td>\n",
       "      <td>517411.80</td>\n",
       "      <td>2022-2023</td>\n",
       "      <td>12</td>\n",
       "    </tr>\n",
       "    <tr>\n",
       "      <th>15</th>\n",
       "      <td>2022-06</td>\n",
       "      <td>496138.27</td>\n",
       "      <td>2022-2023</td>\n",
       "      <td>12</td>\n",
       "    </tr>\n",
       "    <tr>\n",
       "      <th>16</th>\n",
       "      <td>2022-07</td>\n",
       "      <td>510992.52</td>\n",
       "      <td>2022-2023</td>\n",
       "      <td>12</td>\n",
       "    </tr>\n",
       "    <tr>\n",
       "      <th>17</th>\n",
       "      <td>2022-08</td>\n",
       "      <td>506606.87</td>\n",
       "      <td>2022-2023</td>\n",
       "      <td>12</td>\n",
       "    </tr>\n",
       "    <tr>\n",
       "      <th>18</th>\n",
       "      <td>2022-09</td>\n",
       "      <td>494271.58</td>\n",
       "      <td>2022-2023</td>\n",
       "      <td>12</td>\n",
       "    </tr>\n",
       "    <tr>\n",
       "      <th>19</th>\n",
       "      <td>2022-10</td>\n",
       "      <td>508092.27</td>\n",
       "      <td>2022-2023</td>\n",
       "      <td>12</td>\n",
       "    </tr>\n",
       "    <tr>\n",
       "      <th>20</th>\n",
       "      <td>2022-11</td>\n",
       "      <td>496856.89</td>\n",
       "      <td>2022-2023</td>\n",
       "      <td>12</td>\n",
       "    </tr>\n",
       "    <tr>\n",
       "      <th>21</th>\n",
       "      <td>2022-12</td>\n",
       "      <td>510324.20</td>\n",
       "      <td>2022-2023</td>\n",
       "      <td>12</td>\n",
       "    </tr>\n",
       "    <tr>\n",
       "      <th>22</th>\n",
       "      <td>2023-01</td>\n",
       "      <td>517662.70</td>\n",
       "      <td>2022-2023</td>\n",
       "      <td>12</td>\n",
       "    </tr>\n",
       "    <tr>\n",
       "      <th>23</th>\n",
       "      <td>2023-02</td>\n",
       "      <td>456801.91</td>\n",
       "      <td>2022-2023</td>\n",
       "      <td>12</td>\n",
       "    </tr>\n",
       "  </tbody>\n",
       "</table>\n",
       "</div>"
      ],
      "text/plain": [
       "   purchase_year_month  turnover_per_yearmonth       year  number_of_months\n",
       "0              2021-03               482597.66  2021-2022                12\n",
       "1              2021-04               476353.60  2021-2022                12\n",
       "2              2021-05               493083.07  2021-2022                12\n",
       "3              2021-06               484210.71  2021-2022                12\n",
       "4              2021-07               482905.20  2021-2022                12\n",
       "5              2021-08               482441.84  2021-2022                12\n",
       "6              2021-09               507450.08  2021-2022                12\n",
       "7              2021-10               320920.89  2021-2022                12\n",
       "8              2021-11               516342.23  2021-2022                12\n",
       "9              2021-12               526039.43  2021-2022                12\n",
       "10             2022-01               525426.24  2021-2022                12\n",
       "11             2022-02               535763.45  2021-2022                12\n",
       "12             2022-03               515648.48  2022-2023                12\n",
       "13             2022-04               493243.24  2022-2023                12\n",
       "14             2022-05               517411.80  2022-2023                12\n",
       "15             2022-06               496138.27  2022-2023                12\n",
       "16             2022-07               510992.52  2022-2023                12\n",
       "17             2022-08               506606.87  2022-2023                12\n",
       "18             2022-09               494271.58  2022-2023                12\n",
       "19             2022-10               508092.27  2022-2023                12\n",
       "20             2022-11               496856.89  2022-2023                12\n",
       "21             2022-12               510324.20  2022-2023                12\n",
       "22             2023-01               517662.70  2022-2023                12\n",
       "23             2023-02               456801.91  2022-2023                12"
      ]
     },
     "execution_count": 126,
     "metadata": {},
     "output_type": "execute_result"
    }
   ],
   "source": [
    "check_nb_months=turnover_per_yearmonth.groupby(\"year\").agg(number_of_months=(\"year\",'count')).reset_index()\n",
    "turnover_per_yearmonth=turnover_per_yearmonth.merge(check_nb_months, how=\"inner\")\n",
    "turnover_per_yearmonth"
   ]
  },
  {
   "cell_type": "markdown",
   "id": "04f9c8c2-dffd-43ff-8f42-2e44e957991a",
   "metadata": {},
   "source": [
    "Calcul CA 12 mois"
   ]
  },
  {
   "cell_type": "code",
   "execution_count": 140,
   "id": "84226fa3",
   "metadata": {},
   "outputs": [
    {
     "data": {
      "text/html": [
       "<div>\n",
       "<style scoped>\n",
       "    .dataframe tbody tr th:only-of-type {\n",
       "        vertical-align: middle;\n",
       "    }\n",
       "\n",
       "    .dataframe tbody tr th {\n",
       "        vertical-align: top;\n",
       "    }\n",
       "\n",
       "    .dataframe thead th {\n",
       "        text-align: right;\n",
       "    }\n",
       "</style>\n",
       "<table border=\"1\" class=\"dataframe\">\n",
       "  <thead>\n",
       "    <tr style=\"text-align: right;\">\n",
       "      <th></th>\n",
       "      <th>purchase_year_month</th>\n",
       "      <th>turnover_per_yearmonth</th>\n",
       "      <th>year</th>\n",
       "      <th>number_of_month</th>\n",
       "    </tr>\n",
       "  </thead>\n",
       "  <tbody>\n",
       "    <tr>\n",
       "      <th>0</th>\n",
       "      <td>2021-03</td>\n",
       "      <td>482597.66</td>\n",
       "      <td>2021-2022</td>\n",
       "      <td>11</td>\n",
       "    </tr>\n",
       "    <tr>\n",
       "      <th>1</th>\n",
       "      <td>2021-04</td>\n",
       "      <td>476353.60</td>\n",
       "      <td>2021-2022</td>\n",
       "      <td>11</td>\n",
       "    </tr>\n",
       "    <tr>\n",
       "      <th>2</th>\n",
       "      <td>2021-05</td>\n",
       "      <td>493083.07</td>\n",
       "      <td>2021-2022</td>\n",
       "      <td>11</td>\n",
       "    </tr>\n",
       "    <tr>\n",
       "      <th>3</th>\n",
       "      <td>2021-06</td>\n",
       "      <td>484210.71</td>\n",
       "      <td>2021-2022</td>\n",
       "      <td>11</td>\n",
       "    </tr>\n",
       "    <tr>\n",
       "      <th>4</th>\n",
       "      <td>2021-07</td>\n",
       "      <td>482905.20</td>\n",
       "      <td>2021-2022</td>\n",
       "      <td>11</td>\n",
       "    </tr>\n",
       "    <tr>\n",
       "      <th>5</th>\n",
       "      <td>2021-08</td>\n",
       "      <td>482441.84</td>\n",
       "      <td>2021-2022</td>\n",
       "      <td>11</td>\n",
       "    </tr>\n",
       "    <tr>\n",
       "      <th>6</th>\n",
       "      <td>2021-09</td>\n",
       "      <td>507450.08</td>\n",
       "      <td>2021-2022</td>\n",
       "      <td>11</td>\n",
       "    </tr>\n",
       "    <tr>\n",
       "      <th>7</th>\n",
       "      <td>2021-10</td>\n",
       "      <td>320920.89</td>\n",
       "      <td>2021-2022</td>\n",
       "      <td>11</td>\n",
       "    </tr>\n",
       "    <tr>\n",
       "      <th>8</th>\n",
       "      <td>2021-11</td>\n",
       "      <td>516342.23</td>\n",
       "      <td>2021-2022</td>\n",
       "      <td>11</td>\n",
       "    </tr>\n",
       "    <tr>\n",
       "      <th>9</th>\n",
       "      <td>2021-12</td>\n",
       "      <td>526039.43</td>\n",
       "      <td>2021-2022</td>\n",
       "      <td>11</td>\n",
       "    </tr>\n",
       "    <tr>\n",
       "      <th>10</th>\n",
       "      <td>2022-01</td>\n",
       "      <td>525426.24</td>\n",
       "      <td>2021-2022</td>\n",
       "      <td>11</td>\n",
       "    </tr>\n",
       "    <tr>\n",
       "      <th>11</th>\n",
       "      <td>2022-02</td>\n",
       "      <td>535763.45</td>\n",
       "      <td>2021-2022</td>\n",
       "      <td>11</td>\n",
       "    </tr>\n",
       "    <tr>\n",
       "      <th>12</th>\n",
       "      <td>2022-03</td>\n",
       "      <td>515648.48</td>\n",
       "      <td>2022-2023</td>\n",
       "      <td>12</td>\n",
       "    </tr>\n",
       "    <tr>\n",
       "      <th>13</th>\n",
       "      <td>2022-04</td>\n",
       "      <td>493243.24</td>\n",
       "      <td>2022-2023</td>\n",
       "      <td>12</td>\n",
       "    </tr>\n",
       "    <tr>\n",
       "      <th>14</th>\n",
       "      <td>2022-05</td>\n",
       "      <td>517411.80</td>\n",
       "      <td>2022-2023</td>\n",
       "      <td>12</td>\n",
       "    </tr>\n",
       "    <tr>\n",
       "      <th>15</th>\n",
       "      <td>2022-06</td>\n",
       "      <td>496138.27</td>\n",
       "      <td>2022-2023</td>\n",
       "      <td>12</td>\n",
       "    </tr>\n",
       "    <tr>\n",
       "      <th>16</th>\n",
       "      <td>2022-07</td>\n",
       "      <td>510992.52</td>\n",
       "      <td>2022-2023</td>\n",
       "      <td>12</td>\n",
       "    </tr>\n",
       "    <tr>\n",
       "      <th>17</th>\n",
       "      <td>2022-08</td>\n",
       "      <td>506606.87</td>\n",
       "      <td>2022-2023</td>\n",
       "      <td>12</td>\n",
       "    </tr>\n",
       "    <tr>\n",
       "      <th>18</th>\n",
       "      <td>2022-09</td>\n",
       "      <td>494271.58</td>\n",
       "      <td>2022-2023</td>\n",
       "      <td>12</td>\n",
       "    </tr>\n",
       "    <tr>\n",
       "      <th>19</th>\n",
       "      <td>2022-10</td>\n",
       "      <td>508092.27</td>\n",
       "      <td>2022-2023</td>\n",
       "      <td>12</td>\n",
       "    </tr>\n",
       "    <tr>\n",
       "      <th>20</th>\n",
       "      <td>2022-11</td>\n",
       "      <td>496856.89</td>\n",
       "      <td>2022-2023</td>\n",
       "      <td>12</td>\n",
       "    </tr>\n",
       "    <tr>\n",
       "      <th>21</th>\n",
       "      <td>2022-12</td>\n",
       "      <td>510324.20</td>\n",
       "      <td>2022-2023</td>\n",
       "      <td>12</td>\n",
       "    </tr>\n",
       "    <tr>\n",
       "      <th>22</th>\n",
       "      <td>2023-01</td>\n",
       "      <td>517662.70</td>\n",
       "      <td>2022-2023</td>\n",
       "      <td>12</td>\n",
       "    </tr>\n",
       "    <tr>\n",
       "      <th>23</th>\n",
       "      <td>2023-02</td>\n",
       "      <td>456801.91</td>\n",
       "      <td>2022-2023</td>\n",
       "      <td>12</td>\n",
       "    </tr>\n",
       "  </tbody>\n",
       "</table>\n",
       "</div>"
      ],
      "text/plain": [
       "   purchase_year_month  turnover_per_yearmonth       year  number_of_month\n",
       "0              2021-03               482597.66  2021-2022               11\n",
       "1              2021-04               476353.60  2021-2022               11\n",
       "2              2021-05               493083.07  2021-2022               11\n",
       "3              2021-06               484210.71  2021-2022               11\n",
       "4              2021-07               482905.20  2021-2022               11\n",
       "5              2021-08               482441.84  2021-2022               11\n",
       "6              2021-09               507450.08  2021-2022               11\n",
       "7              2021-10               320920.89  2021-2022               11\n",
       "8              2021-11               516342.23  2021-2022               11\n",
       "9              2021-12               526039.43  2021-2022               11\n",
       "10             2022-01               525426.24  2021-2022               11\n",
       "11             2022-02               535763.45  2021-2022               11\n",
       "12             2022-03               515648.48  2022-2023               12\n",
       "13             2022-04               493243.24  2022-2023               12\n",
       "14             2022-05               517411.80  2022-2023               12\n",
       "15             2022-06               496138.27  2022-2023               12\n",
       "16             2022-07               510992.52  2022-2023               12\n",
       "17             2022-08               506606.87  2022-2023               12\n",
       "18             2022-09               494271.58  2022-2023               12\n",
       "19             2022-10               508092.27  2022-2023               12\n",
       "20             2022-11               496856.89  2022-2023               12\n",
       "21             2022-12               510324.20  2022-2023               12\n",
       "22             2023-01               517662.70  2022-2023               12\n",
       "23             2023-02               456801.91  2022-2023               12"
      ]
     },
     "execution_count": 140,
     "metadata": {},
     "output_type": "execute_result"
    }
   ],
   "source": [
    "#check_nb_months.loc[check_nb_months.year==\"2021-2022\",\"number_of_month\"]=11\n",
    "\n",
    "#turnover_per_yearmonth.loc[turnover_per_yearmonth.year==\"2021-2022\", \"number_of_month\"]=11\n",
    "#turnover_per_yearmonth\n"
   ]
  },
  {
   "cell_type": "markdown",
   "id": "38a1e32c-7edd-480c-9e9b-57074cc93ffe",
   "metadata": {},
   "source": [
    "Je vérifie qu'il y a bien 12 mois par période, sinon je supprime les lignes pour ne pas les prendre en compte dans les graphes puisqu'on veut un CA annuel."
   ]
  },
  {
   "cell_type": "code",
   "execution_count": 128,
   "id": "9260dc4b-15f0-453d-90e7-e5846c6b8e7c",
   "metadata": {},
   "outputs": [
    {
     "data": {
      "text/html": [
       "<div>\n",
       "<style scoped>\n",
       "    .dataframe tbody tr th:only-of-type {\n",
       "        vertical-align: middle;\n",
       "    }\n",
       "\n",
       "    .dataframe tbody tr th {\n",
       "        vertical-align: top;\n",
       "    }\n",
       "\n",
       "    .dataframe thead th {\n",
       "        text-align: right;\n",
       "    }\n",
       "</style>\n",
       "<table border=\"1\" class=\"dataframe\">\n",
       "  <thead>\n",
       "    <tr style=\"text-align: right;\">\n",
       "      <th></th>\n",
       "      <th>year</th>\n",
       "      <th>number_of_months</th>\n",
       "      <th>turnover_12_months</th>\n",
       "    </tr>\n",
       "  </thead>\n",
       "  <tbody>\n",
       "    <tr>\n",
       "      <th>0</th>\n",
       "      <td>2021-2022</td>\n",
       "      <td>12</td>\n",
       "      <td>5833534.40</td>\n",
       "    </tr>\n",
       "    <tr>\n",
       "      <th>1</th>\n",
       "      <td>2022-2023</td>\n",
       "      <td>12</td>\n",
       "      <td>6024050.73</td>\n",
       "    </tr>\n",
       "  </tbody>\n",
       "</table>\n",
       "</div>"
      ],
      "text/plain": [
       "        year  number_of_months  turnover_12_months\n",
       "0  2021-2022                12          5833534.40\n",
       "1  2022-2023                12          6024050.73"
      ]
     },
     "execution_count": 128,
     "metadata": {},
     "output_type": "execute_result"
    }
   ],
   "source": [
    "turnover_12_months=turnover_per_yearmonth[[\"year\",\"number_of_months\",\"turnover_per_yearmonth\"]].groupby([\"year\",\"number_of_months\"]).agg(turnover_12_months=(\"turnover_per_yearmonth\",\"sum\")).reset_index()\n",
    "turnover_12_months.drop(turnover_12_months.loc[turnover_12_months[\"number_of_months\"]!=12].index,inplace=True)\n",
    "turnover_12_months"
   ]
  },
  {
   "cell_type": "code",
   "execution_count": 129,
   "id": "e2c66a01-1c80-4734-be11-382263637c63",
   "metadata": {},
   "outputs": [
    {
     "data": {
      "image/png": "[encoded data removed]",
      "text/plain": [
       "<Figure size 360x360 with 1 Axes>"
      ]
     },
     "metadata": {},
     "output_type": "display_data"
    }
   ],
   "source": [
    "# Prepare graphic\n",
    "plt.figure(figsize=(5,5))\n",
    "\n",
    "sns.barplot(x=\"year\" , y=\"turnover_12_months\",data=turnover_12_months, palette = \"Purples_r\", saturation=1)\n",
    "sns.set_theme(style=\"whitegrid\")\n",
    "\n",
    "plt.xlabel(\"Année\", fontsize = 15)\n",
    "plt.ylabel(\"CA (en millions d'€)\", fontsize = 15)\n",
    "plt.title(\"CA par année\", fontsize = 20,loc='center', pad=20)\n",
    "plt.tight_layout()\n",
    "\n",
    "# Show graphic\n",
    "plt.show()"
   ]
  },
  {
   "cell_type": "code",
   "execution_count": 130,
   "id": "2be5240f-162a-42c1-8d33-48a9e148d1b5",
   "metadata": {},
   "outputs": [
    {
     "data": {
      "image/png": "[encoded data removed]",
      "text/plain": [
       "<Figure size 720x360 with 1 Axes>"
      ]
     },
     "metadata": {},
     "output_type": "display_data"
    }
   ],
   "source": [
    "fig, ax = plt.subplots(figsize=(10, 5))\n",
    "\n",
    "#Data\n",
    "date = turnover_per_yearmonth[\"purchase_year_month\"]\n",
    "value=turnover_per_yearmonth[\"turnover_per_yearmonth\"]\n",
    "\n",
    "fig.autofmt_xdate()\n",
    "ax.plot(date, value)\n",
    "\n",
    "plt.xlabel(\"Date\", fontsize = 15,labelpad=30)\n",
    "plt.ylabel(\"Total des ventes (en millions d'€)\", fontsize = 15,labelpad=30)\n",
    "plt.title(\"Total des ventes\", fontsize = 20,loc='center', pad=20)\n",
    "plt.tight_layout()\n",
    "\n",
    "plt.show()"
   ]
  },
  {
   "cell_type": "markdown",
   "id": "ce81cd4b-de82-46a5-b0cd-61831e7a967a",
   "metadata": {},
   "source": [
    "Calcul de la moyenne mobile sur x mois<br>\n",
    "Afin de lisser les données et avoir une idée de la tendance, on va utiliser la moyenne mobile sur 5 mois."
   ]
  },
  {
   "cell_type": "code",
   "execution_count": 131,
   "id": "bae4c20c-a120-4480-bd61-c1a562dc03d9",
   "metadata": {},
   "outputs": [
    {
     "data": {
      "text/html": [
       "<div>\n",
       "<style scoped>\n",
       "    .dataframe tbody tr th:only-of-type {\n",
       "        vertical-align: middle;\n",
       "    }\n",
       "\n",
       "    .dataframe tbody tr th {\n",
       "        vertical-align: top;\n",
       "    }\n",
       "\n",
       "    .dataframe thead th {\n",
       "        text-align: right;\n",
       "    }\n",
       "</style>\n",
       "<table border=\"1\" class=\"dataframe\">\n",
       "  <thead>\n",
       "    <tr style=\"text-align: right;\">\n",
       "      <th></th>\n",
       "      <th>purchase_year_month</th>\n",
       "      <th>turnover_per_yearmonth</th>\n",
       "      <th>year</th>\n",
       "      <th>number_of_months</th>\n",
       "      <th>moving_average</th>\n",
       "    </tr>\n",
       "  </thead>\n",
       "  <tbody>\n",
       "    <tr>\n",
       "      <th>0</th>\n",
       "      <td>2021-03</td>\n",
       "      <td>482597.66</td>\n",
       "      <td>2021-2022</td>\n",
       "      <td>12</td>\n",
       "      <td>NaN</td>\n",
       "    </tr>\n",
       "    <tr>\n",
       "      <th>1</th>\n",
       "      <td>2021-04</td>\n",
       "      <td>476353.60</td>\n",
       "      <td>2021-2022</td>\n",
       "      <td>12</td>\n",
       "      <td>484011.443333</td>\n",
       "    </tr>\n",
       "    <tr>\n",
       "      <th>2</th>\n",
       "      <td>2021-05</td>\n",
       "      <td>493083.07</td>\n",
       "      <td>2021-2022</td>\n",
       "      <td>12</td>\n",
       "      <td>484549.126667</td>\n",
       "    </tr>\n",
       "    <tr>\n",
       "      <th>3</th>\n",
       "      <td>2021-06</td>\n",
       "      <td>484210.71</td>\n",
       "      <td>2021-2022</td>\n",
       "      <td>12</td>\n",
       "      <td>486732.993333</td>\n",
       "    </tr>\n",
       "    <tr>\n",
       "      <th>4</th>\n",
       "      <td>2021-07</td>\n",
       "      <td>482905.20</td>\n",
       "      <td>2021-2022</td>\n",
       "      <td>12</td>\n",
       "      <td>483185.916667</td>\n",
       "    </tr>\n",
       "    <tr>\n",
       "      <th>5</th>\n",
       "      <td>2021-08</td>\n",
       "      <td>482441.84</td>\n",
       "      <td>2021-2022</td>\n",
       "      <td>12</td>\n",
       "      <td>490932.373333</td>\n",
       "    </tr>\n",
       "    <tr>\n",
       "      <th>6</th>\n",
       "      <td>2021-09</td>\n",
       "      <td>507450.08</td>\n",
       "      <td>2021-2022</td>\n",
       "      <td>12</td>\n",
       "      <td>436937.603333</td>\n",
       "    </tr>\n",
       "    <tr>\n",
       "      <th>7</th>\n",
       "      <td>2021-10</td>\n",
       "      <td>320920.89</td>\n",
       "      <td>2021-2022</td>\n",
       "      <td>12</td>\n",
       "      <td>448237.733333</td>\n",
       "    </tr>\n",
       "    <tr>\n",
       "      <th>8</th>\n",
       "      <td>2021-11</td>\n",
       "      <td>516342.23</td>\n",
       "      <td>2021-2022</td>\n",
       "      <td>12</td>\n",
       "      <td>454434.183333</td>\n",
       "    </tr>\n",
       "    <tr>\n",
       "      <th>9</th>\n",
       "      <td>2021-12</td>\n",
       "      <td>526039.43</td>\n",
       "      <td>2021-2022</td>\n",
       "      <td>12</td>\n",
       "      <td>522602.633333</td>\n",
       "    </tr>\n",
       "    <tr>\n",
       "      <th>10</th>\n",
       "      <td>2022-01</td>\n",
       "      <td>525426.24</td>\n",
       "      <td>2021-2022</td>\n",
       "      <td>12</td>\n",
       "      <td>529076.373333</td>\n",
       "    </tr>\n",
       "    <tr>\n",
       "      <th>11</th>\n",
       "      <td>2022-02</td>\n",
       "      <td>535763.45</td>\n",
       "      <td>2021-2022</td>\n",
       "      <td>12</td>\n",
       "      <td>525612.723333</td>\n",
       "    </tr>\n",
       "    <tr>\n",
       "      <th>12</th>\n",
       "      <td>2022-03</td>\n",
       "      <td>515648.48</td>\n",
       "      <td>2022-2023</td>\n",
       "      <td>12</td>\n",
       "      <td>514885.056667</td>\n",
       "    </tr>\n",
       "    <tr>\n",
       "      <th>13</th>\n",
       "      <td>2022-04</td>\n",
       "      <td>493243.24</td>\n",
       "      <td>2022-2023</td>\n",
       "      <td>12</td>\n",
       "      <td>508767.840000</td>\n",
       "    </tr>\n",
       "    <tr>\n",
       "      <th>14</th>\n",
       "      <td>2022-05</td>\n",
       "      <td>517411.80</td>\n",
       "      <td>2022-2023</td>\n",
       "      <td>12</td>\n",
       "      <td>502264.436667</td>\n",
       "    </tr>\n",
       "    <tr>\n",
       "      <th>15</th>\n",
       "      <td>2022-06</td>\n",
       "      <td>496138.27</td>\n",
       "      <td>2022-2023</td>\n",
       "      <td>12</td>\n",
       "      <td>508180.863333</td>\n",
       "    </tr>\n",
       "    <tr>\n",
       "      <th>16</th>\n",
       "      <td>2022-07</td>\n",
       "      <td>510992.52</td>\n",
       "      <td>2022-2023</td>\n",
       "      <td>12</td>\n",
       "      <td>504579.220000</td>\n",
       "    </tr>\n",
       "    <tr>\n",
       "      <th>17</th>\n",
       "      <td>2022-08</td>\n",
       "      <td>506606.87</td>\n",
       "      <td>2022-2023</td>\n",
       "      <td>12</td>\n",
       "      <td>503956.990000</td>\n",
       "    </tr>\n",
       "    <tr>\n",
       "      <th>18</th>\n",
       "      <td>2022-09</td>\n",
       "      <td>494271.58</td>\n",
       "      <td>2022-2023</td>\n",
       "      <td>12</td>\n",
       "      <td>502990.240000</td>\n",
       "    </tr>\n",
       "    <tr>\n",
       "      <th>19</th>\n",
       "      <td>2022-10</td>\n",
       "      <td>508092.27</td>\n",
       "      <td>2022-2023</td>\n",
       "      <td>12</td>\n",
       "      <td>499740.246667</td>\n",
       "    </tr>\n",
       "    <tr>\n",
       "      <th>20</th>\n",
       "      <td>2022-11</td>\n",
       "      <td>496856.89</td>\n",
       "      <td>2022-2023</td>\n",
       "      <td>12</td>\n",
       "      <td>505091.120000</td>\n",
       "    </tr>\n",
       "    <tr>\n",
       "      <th>21</th>\n",
       "      <td>2022-12</td>\n",
       "      <td>510324.20</td>\n",
       "      <td>2022-2023</td>\n",
       "      <td>12</td>\n",
       "      <td>508281.263333</td>\n",
       "    </tr>\n",
       "    <tr>\n",
       "      <th>22</th>\n",
       "      <td>2023-01</td>\n",
       "      <td>517662.70</td>\n",
       "      <td>2022-2023</td>\n",
       "      <td>12</td>\n",
       "      <td>494929.603333</td>\n",
       "    </tr>\n",
       "    <tr>\n",
       "      <th>23</th>\n",
       "      <td>2023-02</td>\n",
       "      <td>456801.91</td>\n",
       "      <td>2022-2023</td>\n",
       "      <td>12</td>\n",
       "      <td>NaN</td>\n",
       "    </tr>\n",
       "  </tbody>\n",
       "</table>\n",
       "</div>"
      ],
      "text/plain": [
       "   purchase_year_month  turnover_per_yearmonth       year  number_of_months  \\\n",
       "0              2021-03               482597.66  2021-2022                12   \n",
       "1              2021-04               476353.60  2021-2022                12   \n",
       "2              2021-05               493083.07  2021-2022                12   \n",
       "3              2021-06               484210.71  2021-2022                12   \n",
       "4              2021-07               482905.20  2021-2022                12   \n",
       "5              2021-08               482441.84  2021-2022                12   \n",
       "6              2021-09               507450.08  2021-2022                12   \n",
       "7              2021-10               320920.89  2021-2022                12   \n",
       "8              2021-11               516342.23  2021-2022                12   \n",
       "9              2021-12               526039.43  2021-2022                12   \n",
       "10             2022-01               525426.24  2021-2022                12   \n",
       "11             2022-02               535763.45  2021-2022                12   \n",
       "12             2022-03               515648.48  2022-2023                12   \n",
       "13             2022-04               493243.24  2022-2023                12   \n",
       "14             2022-05               517411.80  2022-2023                12   \n",
       "15             2022-06               496138.27  2022-2023                12   \n",
       "16             2022-07               510992.52  2022-2023                12   \n",
       "17             2022-08               506606.87  2022-2023                12   \n",
       "18             2022-09               494271.58  2022-2023                12   \n",
       "19             2022-10               508092.27  2022-2023                12   \n",
       "20             2022-11               496856.89  2022-2023                12   \n",
       "21             2022-12               510324.20  2022-2023                12   \n",
       "22             2023-01               517662.70  2022-2023                12   \n",
       "23             2023-02               456801.91  2022-2023                12   \n",
       "\n",
       "    moving_average  \n",
       "0              NaN  \n",
       "1    484011.443333  \n",
       "2    484549.126667  \n",
       "3    486732.993333  \n",
       "4    483185.916667  \n",
       "5    490932.373333  \n",
       "6    436937.603333  \n",
       "7    448237.733333  \n",
       "8    454434.183333  \n",
       "9    522602.633333  \n",
       "10   529076.373333  \n",
       "11   525612.723333  \n",
       "12   514885.056667  \n",
       "13   508767.840000  \n",
       "14   502264.436667  \n",
       "15   508180.863333  \n",
       "16   504579.220000  \n",
       "17   503956.990000  \n",
       "18   502990.240000  \n",
       "19   499740.246667  \n",
       "20   505091.120000  \n",
       "21   508281.263333  \n",
       "22   494929.603333  \n",
       "23             NaN  "
      ]
     },
     "execution_count": 131,
     "metadata": {},
     "output_type": "execute_result"
    }
   ],
   "source": [
    "month=3\n",
    "moving_average=turnover_per_yearmonth[\"turnover_per_yearmonth\"].rolling(month, center=True).mean()\n",
    "turnover_per_yearmonth[\"moving_average\"]=moving_average\n",
    "turnover_per_yearmonth"
   ]
  },
  {
   "cell_type": "code",
   "execution_count": 132,
   "id": "6012a299-c1d9-468e-b519-afd11af21621",
   "metadata": {},
   "outputs": [
    {
     "data": {
      "image/png": "[encoded data removed]",
      "text/plain": [
       "<Figure size 720x360 with 1 Axes>"
      ]
     },
     "metadata": {},
     "output_type": "display_data"
    }
   ],
   "source": [
    "fig, ax = plt.subplots(figsize=(10, 5))\n",
    "\n",
    "#Data\n",
    "date = turnover_per_yearmonth[\"purchase_year_month\"]\n",
    "value=turnover_per_yearmonth[\"moving_average\"]\n",
    "\n",
    "fig.autofmt_xdate()\n",
    "ax.plot(date, value)\n",
    "\n",
    "plt.xlabel(\"Date\", fontsize = 15,labelpad=30)\n",
    "plt.ylabel(\"Total des ventes (en millions d'€)\", fontsize = 15,labelpad=30)\n",
    "plt.title(\"Total des ventes\", fontsize = 20,loc='center', pad=20)\n",
    "plt.tight_layout()\n",
    "\n",
    "plt.show()"
   ]
  },
  {
   "cell_type": "code",
   "execution_count": 133,
   "id": "51ce7ee2-e491-4561-a7b8-cddf41ce07a7",
   "metadata": {},
   "outputs": [
    {
     "data": {
      "image/png": "[encoded data removed]",
      "text/plain": [
       "<Figure size 720x360 with 1 Axes>"
      ]
     },
     "metadata": {},
     "output_type": "display_data"
    }
   ],
   "source": [
    "# Make a data frame with all data we're interesting in \n",
    "graph=pd.DataFrame({'x': turnover_per_yearmonth[\"purchase_year_month\"], 'y1': turnover_per_yearmonth[\"turnover_per_yearmonth\"],'y2': turnover_per_yearmonth[\"moving_average\"]})\n",
    "\n",
    "# set figure size\n",
    "fig, ax = plt.subplots(figsize=(10, 5))\n",
    "fig.autofmt_xdate(rotation=90)\n",
    "\n",
    "# Rolling turnover graph + legend\n",
    "plt.plot(graph['x'], graph['y1'], marker='', color=\"darkblue\", linewidth=1, alpha=1, label=\"CA\")\n",
    "\n",
    "# Turnover graph + legend\n",
    "plt.plot(graph['x'], graph['y2'], marker='', color=\"red\", linewidth=2, alpha=1,label=\"CA lissé\")\n",
    "\n",
    "# Place legend\n",
    "plt.legend(loc=5, ncol=2)\n",
    "\n",
    "# Add titles\n",
    "plt.title(\"Evolution du CA\", loc='center', fontsize=20, fontweight=0, pad=20)\n",
    "plt.xlabel(\"Date\",labelpad=30)\n",
    "plt.ylabel(\"Chiffre d'affaires (en €)\",labelpad=30)\n",
    "plt.tight_layout()\n",
    "\n",
    "#ax.set_ylim(bottom=0)#commencer le graphe à 0 sur l'axe y\n",
    "\n",
    "# Show the graph\n",
    "plt.show()\n",
    "##9d9ac6 6a51a3"
   ]
  },
  {
   "cell_type": "code",
   "execution_count": 215,
   "id": "2e274693-26a9-464e-80ac-23eaf6e44a44",
   "metadata": {},
   "outputs": [
    {
     "data": {
      "text/plain": [
       "number_of_months          0.000\n",
       "turnover_12_months    95258.165\n",
       "dtype: float64"
      ]
     },
     "execution_count": 215,
     "metadata": {},
     "output_type": "execute_result"
    }
   ],
   "source": [
    "#A interpréter\n",
    "turnover_12_months.mad() #: median absolute deviat"
   ]
  },
  {
   "cell_type": "markdown",
   "id": "80ea2051-0ac0-4739-b7f1-26929fd32ffd",
   "metadata": {},
   "source": [
    "Zoom sur le mois d'octobre qui enregistre une baisse du CA"
   ]
  },
  {
   "cell_type": "code",
   "execution_count": 134,
   "id": "5f020ca0-836a-4e17-afa5-75a114f00d7b",
   "metadata": {},
   "outputs": [
    {
     "data": {
      "text/html": [
       "<div>\n",
       "<style scoped>\n",
       "    .dataframe tbody tr th:only-of-type {\n",
       "        vertical-align: middle;\n",
       "    }\n",
       "\n",
       "    .dataframe tbody tr th {\n",
       "        vertical-align: top;\n",
       "    }\n",
       "\n",
       "    .dataframe thead th {\n",
       "        text-align: right;\n",
       "    }\n",
       "</style>\n",
       "<table border=\"1\" class=\"dataframe\">\n",
       "  <thead>\n",
       "    <tr style=\"text-align: right;\">\n",
       "      <th></th>\n",
       "      <th>date</th>\n",
       "      <th>turnover_per_day</th>\n",
       "    </tr>\n",
       "  </thead>\n",
       "  <tbody>\n",
       "    <tr>\n",
       "      <th>0</th>\n",
       "      <td>2021-03-01</td>\n",
       "      <td>16582.67</td>\n",
       "    </tr>\n",
       "    <tr>\n",
       "      <th>1</th>\n",
       "      <td>2021-03-02</td>\n",
       "      <td>15503.90</td>\n",
       "    </tr>\n",
       "    <tr>\n",
       "      <th>2</th>\n",
       "      <td>2021-03-03</td>\n",
       "      <td>15198.69</td>\n",
       "    </tr>\n",
       "    <tr>\n",
       "      <th>3</th>\n",
       "      <td>2021-03-04</td>\n",
       "      <td>15196.07</td>\n",
       "    </tr>\n",
       "    <tr>\n",
       "      <th>4</th>\n",
       "      <td>2021-03-05</td>\n",
       "      <td>17471.37</td>\n",
       "    </tr>\n",
       "  </tbody>\n",
       "</table>\n",
       "</div>"
      ],
      "text/plain": [
       "         date  turnover_per_day\n",
       "0  2021-03-01          16582.67\n",
       "1  2021-03-02          15503.90\n",
       "2  2021-03-03          15198.69\n",
       "3  2021-03-04          15196.07\n",
       "4  2021-03-05          17471.37"
      ]
     },
     "execution_count": 134,
     "metadata": {},
     "output_type": "execute_result"
    }
   ],
   "source": [
    "turnover_per_day=price_data.groupby(pd.to_datetime(main_df['date']).dt.date).agg(turnover_per_day=(\"price\",\"sum\")).reset_index()\n",
    "turnover_per_day.head()"
   ]
  },
  {
   "cell_type": "code",
   "execution_count": 135,
   "id": "7a65bc7f-04b8-44f9-96d7-3b96500ab5a9",
   "metadata": {},
   "outputs": [
    {
     "data": {
      "text/html": [
       "<div>\n",
       "<style scoped>\n",
       "    .dataframe tbody tr th:only-of-type {\n",
       "        vertical-align: middle;\n",
       "    }\n",
       "\n",
       "    .dataframe tbody tr th {\n",
       "        vertical-align: top;\n",
       "    }\n",
       "\n",
       "    .dataframe thead th {\n",
       "        text-align: right;\n",
       "    }\n",
       "</style>\n",
       "<table border=\"1\" class=\"dataframe\">\n",
       "  <thead>\n",
       "    <tr style=\"text-align: right;\">\n",
       "      <th></th>\n",
       "      <th>date</th>\n",
       "      <th>turnover_per_day</th>\n",
       "    </tr>\n",
       "  </thead>\n",
       "  <tbody>\n",
       "    <tr>\n",
       "      <th>0</th>\n",
       "      <td>2021-03-01</td>\n",
       "      <td>16582.67</td>\n",
       "    </tr>\n",
       "    <tr>\n",
       "      <th>1</th>\n",
       "      <td>2021-03-02</td>\n",
       "      <td>15503.90</td>\n",
       "    </tr>\n",
       "    <tr>\n",
       "      <th>2</th>\n",
       "      <td>2021-03-03</td>\n",
       "      <td>15198.69</td>\n",
       "    </tr>\n",
       "    <tr>\n",
       "      <th>3</th>\n",
       "      <td>2021-03-04</td>\n",
       "      <td>15196.07</td>\n",
       "    </tr>\n",
       "    <tr>\n",
       "      <th>4</th>\n",
       "      <td>2021-03-05</td>\n",
       "      <td>17471.37</td>\n",
       "    </tr>\n",
       "    <tr>\n",
       "      <th>...</th>\n",
       "      <td>...</td>\n",
       "      <td>...</td>\n",
       "    </tr>\n",
       "    <tr>\n",
       "      <th>725</th>\n",
       "      <td>2023-02-24</td>\n",
       "      <td>15207.89</td>\n",
       "    </tr>\n",
       "    <tr>\n",
       "      <th>726</th>\n",
       "      <td>2023-02-25</td>\n",
       "      <td>15761.25</td>\n",
       "    </tr>\n",
       "    <tr>\n",
       "      <th>727</th>\n",
       "      <td>2023-02-26</td>\n",
       "      <td>16304.72</td>\n",
       "    </tr>\n",
       "    <tr>\n",
       "      <th>728</th>\n",
       "      <td>2023-02-27</td>\n",
       "      <td>19170.81</td>\n",
       "    </tr>\n",
       "    <tr>\n",
       "      <th>729</th>\n",
       "      <td>2023-02-28</td>\n",
       "      <td>18105.15</td>\n",
       "    </tr>\n",
       "  </tbody>\n",
       "</table>\n",
       "<p>730 rows × 2 columns</p>\n",
       "</div>"
      ],
      "text/plain": [
       "           date  turnover_per_day\n",
       "0    2021-03-01          16582.67\n",
       "1    2021-03-02          15503.90\n",
       "2    2021-03-03          15198.69\n",
       "3    2021-03-04          15196.07\n",
       "4    2021-03-05          17471.37\n",
       "..          ...               ...\n",
       "725  2023-02-24          15207.89\n",
       "726  2023-02-25          15761.25\n",
       "727  2023-02-26          16304.72\n",
       "728  2023-02-27          19170.81\n",
       "729  2023-02-28          18105.15\n",
       "\n",
       "[730 rows x 2 columns]"
      ]
     },
     "execution_count": 135,
     "metadata": {},
     "output_type": "execute_result"
    }
   ],
   "source": [
    "turnover_per_day"
   ]
  },
  {
   "cell_type": "code",
   "execution_count": 136,
   "id": "751f51e3-020f-4fa7-ab3a-c17ccdb0f13e",
   "metadata": {},
   "outputs": [
    {
     "data": {
      "image/png": "[encoded data removed]",
      "text/plain": [
       "<Figure size 720x360 with 1 Axes>"
      ]
     },
     "metadata": {},
     "output_type": "display_data"
    }
   ],
   "source": [
    "fig, ax = plt.subplots(figsize=(10, 5))\n",
    "\n",
    "#half_year_locator = mdates.MonthLocator(interval=6)\n",
    "#year_month_formatter = mdates.DateFormatter(\"%Y-%m\") # four digits for year, two for month\n",
    "#ax.xaxis.set_major_locator(half_year_locator)\n",
    "#ax.xaxis.set_major_formatter(year_month_formatter) # formatter for major axis only\n",
    "\n",
    "\n",
    "# Data\n",
    "date= turnover_per_day[\"date\"]\n",
    "value=turnover_per_day[\"turnover_per_day\"]\n",
    "\n",
    "# Rotates and right aligns the x labels. \n",
    "# Also moves the bottom of the axes up to make room for them.\n",
    "fig.autofmt_xdate()\n",
    "\n",
    "ax.plot(date, value)\n",
    "\n",
    "plt.xlabel(\"Date\", fontsize = 15,labelpad=30)\n",
    "plt.ylabel(\"Total des ventes (en millions d'€)\", fontsize = 15, labelpad=30)\n",
    "plt.title(\"Total des ventes\", fontsize = 20,loc='center', pad=20)\n",
    "plt.tight_layout()\n",
    "\n",
    "plt.show()"
   ]
  },
  {
   "cell_type": "markdown",
   "id": "196aa534-5303-47f8-8370-62f81c11f22d",
   "metadata": {},
   "source": [
    "### Client\n",
    "\n",
    "Calculs:<br>\n",
    "- Répartition homme/femme\n",
    "- Répartition par tranche d'âge"
   ]
  },
  {
   "cell_type": "markdown",
   "id": "5cb2800c-6e7f-49e8-8939-95f6ff1ad37f",
   "metadata": {},
   "source": [
    "**Sexe**\n",
    "\n",
    "Mode opératoire :<br>\n",
    "- Passer la colonne *sex* en minuscule\n",
    "- Supprimer tous les doublons pour ne garder que les clients uniques\n",
    "- Faire un group by par *sex*"
   ]
  },
  {
   "cell_type": "code",
   "execution_count": 142,
   "id": "400aed72-1ba7-479a-99b6-5e2a73fccd16",
   "metadata": {},
   "outputs": [],
   "source": [
    "#main_df.loc[main_df[\"client_id\"]==\"c_103\",\"sex\"]=\"F\""
   ]
  },
  {
   "cell_type": "code",
   "execution_count": 146,
   "id": "ea12d2eb-ef93-4f08-9dee-19c6d12f2fd6",
   "metadata": {},
   "outputs": [],
   "source": [
    "# convert data form \"sex\" in lower case\n",
    "main_df[\"sex\"]=main_df[\"sex\"].str.lower()\n"
   ]
  },
  {
   "cell_type": "code",
   "execution_count": 292,
   "id": "103b9e83-3e97-452c-b0bb-79c8c5753809",
   "metadata": {},
   "outputs": [
    {
     "name": "stdout",
     "output_type": "stream",
     "text": [
      "A ce jour, la base de données est composée de 8600 dont 4479 femmes et 4121 hommes.\n",
      "\n"
     ]
    }
   ],
   "source": [
    "clients_df=main_df.drop_duplicates(subset=[\"client_id\",\"sex\",\"age\"])\n",
    "\n",
    "distribution_by_gender=clients_df.groupby(\"sex\").agg(number_of_clients=(\"sex\",\"count\")).reset_index()\n",
    "number_of_w=distribution_by_gender[\"number_of_clients\"][distribution_by_gender[\"sex\"]==\"f\"].values[0]\n",
    "number_of_m=distribution_by_gender[distribution_by_gender[\"sex\"]==\"m\"][\"number_of_clients\"].values[0]\n",
    "\n",
    "print(f\"\"\"A ce jour, la base de données est composée de {len(clients_df)} dont {number_of_w} femmes et {number_of_m} hommes.\n",
    "\"\"\")"
   ]
  },
  {
   "cell_type": "code",
   "execution_count": 293,
   "id": "c3b77fea-2411-47e4-ab76-d8c50dbc9197",
   "metadata": {},
   "outputs": [
    {
     "data": {
      "image/png": "[encoded data removed]",
      "text/plain": [
       "<Figure size 432x288 with 1 Axes>"
      ]
     },
     "metadata": {},
     "output_type": "display_data"
    }
   ],
   "source": [
    "# Retrieve data\n",
    "#sex = distribution_by_gender[\"sex\"] #not needed, used for labels but I hard coded the labels\n",
    "distribution = distribution_by_gender[\"number_of_clients\"]\n",
    "\n",
    "# Create a white circle at the center of the plot\n",
    "my_circle = plt.Circle( (0,0), 0.7, color='white')\n",
    "\n",
    "colors = ['pink',\"lightblue\"]\n",
    "labels=[\"Femme\",\"Homme\"]\n",
    "\n",
    "#preparing the graph\n",
    "plt.pie(distribution,colors=colors, labeldistance=0.5,autopct=\"%.0f%%\", radius=2,pctdistance=0.6)\n",
    "\n",
    "# from piechart to donut\n",
    "p = plt.gcf()\n",
    "p.gca().add_artist(my_circle)\n",
    "\n",
    "#Legends and title\n",
    "plt.title(\"Répartition Homme/Femme\", pad=100, loc='center', fontsize=20)\n",
    "plt.legend(labels, loc=\"center\")\n",
    "\n",
    "plt.show()"
   ]
  },
  {
   "cell_type": "markdown",
   "id": "9f7cfbb4-2c76-42c6-90ff-e2ab5bf6af05",
   "metadata": {},
   "source": [
    "**Age**\n",
    "\n",
    "Mode opératoire :\n",
    "- Vérification de la distribution de l'âge dans notre population\n",
    "- Création de tranches en fonction des observations"
   ]
  },
  {
   "cell_type": "code",
   "execution_count": 200,
   "id": "7dc14705-379c-435e-9ead-685139858f7f",
   "metadata": {},
   "outputs": [
    {
     "data": {
      "text/html": [
       "<div>\n",
       "<style scoped>\n",
       "    .dataframe tbody tr th:only-of-type {\n",
       "        vertical-align: middle;\n",
       "    }\n",
       "\n",
       "    .dataframe tbody tr th {\n",
       "        vertical-align: top;\n",
       "    }\n",
       "\n",
       "    .dataframe thead th {\n",
       "        text-align: right;\n",
       "    }\n",
       "</style>\n",
       "<table border=\"1\" class=\"dataframe\">\n",
       "  <thead>\n",
       "    <tr style=\"text-align: right;\">\n",
       "      <th></th>\n",
       "      <th>id_prod</th>\n",
       "      <th>date</th>\n",
       "      <th>session_id</th>\n",
       "      <th>client_id</th>\n",
       "      <th>sex</th>\n",
       "      <th>birth</th>\n",
       "      <th>price</th>\n",
       "      <th>categ</th>\n",
       "      <th>purchase_year</th>\n",
       "      <th>purchase_month</th>\n",
       "      <th>purchase_year_month</th>\n",
       "      <th>age</th>\n",
       "    </tr>\n",
       "  </thead>\n",
       "  <tbody>\n",
       "    <tr>\n",
       "      <th>0</th>\n",
       "      <td>0_1518</td>\n",
       "      <td>2022-05-20 13:21:29.043970</td>\n",
       "      <td>s_211425</td>\n",
       "      <td>c_103</td>\n",
       "      <td>f</td>\n",
       "      <td>1986</td>\n",
       "      <td>4.18</td>\n",
       "      <td>0</td>\n",
       "      <td>2022</td>\n",
       "      <td>05</td>\n",
       "      <td>2022-05</td>\n",
       "      <td>37</td>\n",
       "    </tr>\n",
       "    <tr>\n",
       "      <th>1</th>\n",
       "      <td>1_251</td>\n",
       "      <td>2022-02-02 07:55:19.149409</td>\n",
       "      <td>s_158752</td>\n",
       "      <td>c_8534</td>\n",
       "      <td>m</td>\n",
       "      <td>1988</td>\n",
       "      <td>15.99</td>\n",
       "      <td>1</td>\n",
       "      <td>2022</td>\n",
       "      <td>02</td>\n",
       "      <td>2022-02</td>\n",
       "      <td>35</td>\n",
       "    </tr>\n",
       "    <tr>\n",
       "      <th>2</th>\n",
       "      <td>0_1277</td>\n",
       "      <td>2022-06-18 15:44:33.155329</td>\n",
       "      <td>s_225667</td>\n",
       "      <td>c_6714</td>\n",
       "      <td>f</td>\n",
       "      <td>1968</td>\n",
       "      <td>7.99</td>\n",
       "      <td>0</td>\n",
       "      <td>2022</td>\n",
       "      <td>06</td>\n",
       "      <td>2022-06</td>\n",
       "      <td>55</td>\n",
       "    </tr>\n",
       "    <tr>\n",
       "      <th>3</th>\n",
       "      <td>2_209</td>\n",
       "      <td>2021-06-24 04:19:29.835891</td>\n",
       "      <td>s_52962</td>\n",
       "      <td>c_6941</td>\n",
       "      <td>m</td>\n",
       "      <td>2000</td>\n",
       "      <td>69.99</td>\n",
       "      <td>2</td>\n",
       "      <td>2021</td>\n",
       "      <td>06</td>\n",
       "      <td>2021-06</td>\n",
       "      <td>23</td>\n",
       "    </tr>\n",
       "    <tr>\n",
       "      <th>4</th>\n",
       "      <td>0_1509</td>\n",
       "      <td>2023-01-11 08:22:08.194479</td>\n",
       "      <td>s_325227</td>\n",
       "      <td>c_4232</td>\n",
       "      <td>m</td>\n",
       "      <td>1980</td>\n",
       "      <td>4.99</td>\n",
       "      <td>0</td>\n",
       "      <td>2023</td>\n",
       "      <td>01</td>\n",
       "      <td>2023-01</td>\n",
       "      <td>43</td>\n",
       "    </tr>\n",
       "    <tr>\n",
       "      <th>...</th>\n",
       "      <td>...</td>\n",
       "      <td>...</td>\n",
       "      <td>...</td>\n",
       "      <td>...</td>\n",
       "      <td>...</td>\n",
       "      <td>...</td>\n",
       "      <td>...</td>\n",
       "      <td>...</td>\n",
       "      <td>...</td>\n",
       "      <td>...</td>\n",
       "      <td>...</td>\n",
       "      <td>...</td>\n",
       "    </tr>\n",
       "    <tr>\n",
       "      <th>542530</th>\n",
       "      <td>1_710</td>\n",
       "      <td>2021-06-23 21:15:17.278253</td>\n",
       "      <td>s_52829</td>\n",
       "      <td>c_5401</td>\n",
       "      <td>m</td>\n",
       "      <td>1984</td>\n",
       "      <td>27.94</td>\n",
       "      <td>1</td>\n",
       "      <td>2021</td>\n",
       "      <td>06</td>\n",
       "      <td>2021-06</td>\n",
       "      <td>39</td>\n",
       "    </tr>\n",
       "    <tr>\n",
       "      <th>566887</th>\n",
       "      <td>1_395</td>\n",
       "      <td>2021-06-21 15:15:34.079244</td>\n",
       "      <td>s_51791</td>\n",
       "      <td>c_3615</td>\n",
       "      <td>f</td>\n",
       "      <td>2004</td>\n",
       "      <td>28.99</td>\n",
       "      <td>1</td>\n",
       "      <td>2021</td>\n",
       "      <td>06</td>\n",
       "      <td>2021-06</td>\n",
       "      <td>19</td>\n",
       "    </tr>\n",
       "    <tr>\n",
       "      <th>567963</th>\n",
       "      <td>0_1509</td>\n",
       "      <td>2022-08-15 08:17:35.835342</td>\n",
       "      <td>s_253539</td>\n",
       "      <td>c_8114</td>\n",
       "      <td>m</td>\n",
       "      <td>1962</td>\n",
       "      <td>4.99</td>\n",
       "      <td>0</td>\n",
       "      <td>2022</td>\n",
       "      <td>08</td>\n",
       "      <td>2022-08</td>\n",
       "      <td>61</td>\n",
       "    </tr>\n",
       "    <tr>\n",
       "      <th>577591</th>\n",
       "      <td>1_152</td>\n",
       "      <td>2021-11-08 17:12:27.637349</td>\n",
       "      <td>s_116675</td>\n",
       "      <td>c_240</td>\n",
       "      <td>m</td>\n",
       "      <td>1998</td>\n",
       "      <td>11.06</td>\n",
       "      <td>1</td>\n",
       "      <td>2021</td>\n",
       "      <td>11</td>\n",
       "      <td>2021-11</td>\n",
       "      <td>25</td>\n",
       "    </tr>\n",
       "    <tr>\n",
       "      <th>600335</th>\n",
       "      <td>2_207</td>\n",
       "      <td>2021-06-01 04:31:16.088314</td>\n",
       "      <td>s_42418</td>\n",
       "      <td>c_305</td>\n",
       "      <td>f</td>\n",
       "      <td>1996</td>\n",
       "      <td>50.99</td>\n",
       "      <td>2</td>\n",
       "      <td>2021</td>\n",
       "      <td>06</td>\n",
       "      <td>2021-06</td>\n",
       "      <td>27</td>\n",
       "    </tr>\n",
       "  </tbody>\n",
       "</table>\n",
       "<p>8600 rows × 12 columns</p>\n",
       "</div>"
      ],
      "text/plain": [
       "       id_prod                       date session_id client_id sex  birth  \\\n",
       "0       0_1518 2022-05-20 13:21:29.043970   s_211425     c_103   f   1986   \n",
       "1        1_251 2022-02-02 07:55:19.149409   s_158752    c_8534   m   1988   \n",
       "2       0_1277 2022-06-18 15:44:33.155329   s_225667    c_6714   f   1968   \n",
       "3        2_209 2021-06-24 04:19:29.835891    s_52962    c_6941   m   2000   \n",
       "4       0_1509 2023-01-11 08:22:08.194479   s_325227    c_4232   m   1980   \n",
       "...        ...                        ...        ...       ...  ..    ...   \n",
       "542530   1_710 2021-06-23 21:15:17.278253    s_52829    c_5401   m   1984   \n",
       "566887   1_395 2021-06-21 15:15:34.079244    s_51791    c_3615   f   2004   \n",
       "567963  0_1509 2022-08-15 08:17:35.835342   s_253539    c_8114   m   1962   \n",
       "577591   1_152 2021-11-08 17:12:27.637349   s_116675     c_240   m   1998   \n",
       "600335   2_207 2021-06-01 04:31:16.088314    s_42418     c_305   f   1996   \n",
       "\n",
       "        price  categ  purchase_year purchase_month purchase_year_month  age  \n",
       "0        4.18      0           2022             05             2022-05   37  \n",
       "1       15.99      1           2022             02             2022-02   35  \n",
       "2        7.99      0           2022             06             2022-06   55  \n",
       "3       69.99      2           2021             06             2021-06   23  \n",
       "4        4.99      0           2023             01             2023-01   43  \n",
       "...       ...    ...            ...            ...                 ...  ...  \n",
       "542530  27.94      1           2021             06             2021-06   39  \n",
       "566887  28.99      1           2021             06             2021-06   19  \n",
       "567963   4.99      0           2022             08             2022-08   61  \n",
       "577591  11.06      1           2021             11             2021-11   25  \n",
       "600335  50.99      2           2021             06             2021-06   27  \n",
       "\n",
       "[8600 rows x 12 columns]"
      ]
     },
     "execution_count": 200,
     "metadata": {},
     "output_type": "execute_result"
    }
   ],
   "source": [
    "clients_df"
   ]
  },
  {
   "cell_type": "markdown",
   "id": "2281a3f9-21dc-49b0-93a4-d4d1d4b00f75",
   "metadata": {},
   "source": [
    "Calcul de la modalité, de la moyenne et de la médiane de l' âge"
   ]
  },
  {
   "cell_type": "code",
   "execution_count": 296,
   "id": "ccc9ef45-b0cc-40f0-a666-52328ba7278e",
   "metadata": {},
   "outputs": [
    {
     "name": "stdout",
     "output_type": "stream",
     "text": [
      "L'âge le plus représenté est 19 ans, l'âge médian se situe à 44.0 ans et la moyenne à 44.7393023255814 ans.\n"
     ]
    }
   ],
   "source": [
    "mod_age=clients_df.groupby(\"age\").agg(occurence=(\"age\",\"count\")).reset_index()\n",
    "mod_age=mod_age.iloc[mod_age['occurence'].idxmax(), 0]#Sortie de la 1ère colonne d'index ayant la valeur maximale de count.\n",
    "\n",
    "median_age=np.median(clients_df.age)\n",
    "\n",
    "mean_age=np.mean(clients_df.age)\n",
    "\n",
    "print (f\"L'âge le plus représenté est {mod_age} ans, l'âge médian se situe à {median_age} ans et la moyenne à {mean_age} ans.\")"
   ]
  },
  {
   "cell_type": "code",
   "execution_count": 297,
   "id": "1536bc46-33b0-4e77-ba4a-1dc7bc633b30",
   "metadata": {},
   "outputs": [
    {
     "data": {
      "text/plain": [
       "count    8600.000000\n",
       "mean       44.739302\n",
       "std        16.908755\n",
       "min        19.000000\n",
       "25%        31.000000\n",
       "50%        44.000000\n",
       "75%        57.000000\n",
       "max        94.000000\n",
       "Name: age, dtype: float64"
      ]
     },
     "execution_count": 297,
     "metadata": {},
     "output_type": "execute_result"
    }
   ],
   "source": [
    "clients_df.age.describe()"
   ]
  },
  {
   "cell_type": "markdown",
   "id": "c9b45724-e01f-4b07-a64c-0581f7a92b03",
   "metadata": {},
   "source": [
    "**Observation**<br>\n",
    "L'âge le plus représenté est aussi l'âge minimum"
   ]
  },
  {
   "cell_type": "markdown",
   "id": "d2048cf2-67b7-46b2-962c-a0b7aab390c4",
   "metadata": {},
   "source": [
    "Vérification de l'existence d'outlier sur l'âge"
   ]
  },
  {
   "cell_type": "code",
   "execution_count": 298,
   "id": "76025c21-0e57-4e1d-9049-9b93938539af",
   "metadata": {},
   "outputs": [
    {
     "name": "stdout",
     "output_type": "stream",
     "text": [
      "Les outliers d'âge sont fixés à -8.0 et 96.0 ans\n",
      "L'âge minimal de notre jeu de données est 19 ans et l'âge maximal 94 ans.\n",
      "Il n'y a pas d'outlier sur l'âge minimum.\n",
      "Il n'y a pas d'outlier sur l'âge maximum.\n"
     ]
    }
   ],
   "source": [
    "q1_age=np.median(clients_df[clients_df.age<=median_age][\"age\"])\n",
    "q3_age=np.median(clients_df[clients_df.age>median_age][\"age\"])\n",
    "iqr_age=q3-q1\n",
    "outlier_q1_age=q1-(1.5*iqr)\n",
    "outlier_q3_age=q3+(1.5*iqr)\n",
    "\n",
    "print(f\"\"\"Les outliers d'âge sont fixés à {outlier_q1_age} et {outlier_q3_age} ans\n",
    "L'âge minimal de notre jeu de données est {min(clients_df.age)} ans et l'âge maximal {max(clients_df.age)} ans.\"\"\")\n",
    "if outlier_q1_age<min(clients_df.age):\n",
    "    print (f\"Il n'y a pas d'outlier sur l'âge minimum.\")\n",
    "else :\n",
    "    print (f\"On trouve au moins un âge dans ce que l'on considère comme outlier\")\n",
    "if outlier_q3_age>max(clients_df.age):\n",
    "    print (f\"Il n'y a pas d'outlier sur l'âge maximum.\")\n",
    "else :\n",
    "    print (f\"On trouve au moins un âge supérieur à un outlier \")"
   ]
  },
  {
   "cell_type": "code",
   "execution_count": 318,
   "id": "2e2546a0-dba0-4afc-88cd-8fafab522eb8",
   "metadata": {},
   "outputs": [],
   "source": [
    "clients_df=clients_df\n",
    "clients_df[\"age_range\"]=clients_df.age.apply(calculate_age_range)"
   ]
  },
  {
   "cell_type": "code",
   "execution_count": 319,
   "id": "9d5713d5-dee1-4e94-bbc7-665a4ea6fbd9",
   "metadata": {},
   "outputs": [
    {
     "data": {
      "text/html": [
       "<div>\n",
       "<style scoped>\n",
       "    .dataframe tbody tr th:only-of-type {\n",
       "        vertical-align: middle;\n",
       "    }\n",
       "\n",
       "    .dataframe tbody tr th {\n",
       "        vertical-align: top;\n",
       "    }\n",
       "\n",
       "    .dataframe thead th {\n",
       "        text-align: right;\n",
       "    }\n",
       "</style>\n",
       "<table border=\"1\" class=\"dataframe\">\n",
       "  <thead>\n",
       "    <tr style=\"text-align: right;\">\n",
       "      <th></th>\n",
       "      <th>id_prod</th>\n",
       "      <th>date</th>\n",
       "      <th>session_id</th>\n",
       "      <th>client_id</th>\n",
       "      <th>sex</th>\n",
       "      <th>birth</th>\n",
       "      <th>price</th>\n",
       "      <th>categ</th>\n",
       "      <th>purchase_year</th>\n",
       "      <th>purchase_month</th>\n",
       "      <th>purchase_year_month</th>\n",
       "      <th>age</th>\n",
       "      <th>age_range</th>\n",
       "    </tr>\n",
       "  </thead>\n",
       "  <tbody>\n",
       "    <tr>\n",
       "      <th>0</th>\n",
       "      <td>0_1518</td>\n",
       "      <td>2022-05-20 13:21:29.043970</td>\n",
       "      <td>s_211425</td>\n",
       "      <td>c_103</td>\n",
       "      <td>f</td>\n",
       "      <td>1986</td>\n",
       "      <td>4.18</td>\n",
       "      <td>0</td>\n",
       "      <td>2022</td>\n",
       "      <td>05</td>\n",
       "      <td>2022-05</td>\n",
       "      <td>37</td>\n",
       "      <td>30-44</td>\n",
       "    </tr>\n",
       "    <tr>\n",
       "      <th>1</th>\n",
       "      <td>1_251</td>\n",
       "      <td>2022-02-02 07:55:19.149409</td>\n",
       "      <td>s_158752</td>\n",
       "      <td>c_8534</td>\n",
       "      <td>m</td>\n",
       "      <td>1988</td>\n",
       "      <td>15.99</td>\n",
       "      <td>1</td>\n",
       "      <td>2022</td>\n",
       "      <td>02</td>\n",
       "      <td>2022-02</td>\n",
       "      <td>35</td>\n",
       "      <td>30-44</td>\n",
       "    </tr>\n",
       "    <tr>\n",
       "      <th>2</th>\n",
       "      <td>0_1277</td>\n",
       "      <td>2022-06-18 15:44:33.155329</td>\n",
       "      <td>s_225667</td>\n",
       "      <td>c_6714</td>\n",
       "      <td>f</td>\n",
       "      <td>1968</td>\n",
       "      <td>7.99</td>\n",
       "      <td>0</td>\n",
       "      <td>2022</td>\n",
       "      <td>06</td>\n",
       "      <td>2022-06</td>\n",
       "      <td>55</td>\n",
       "      <td>45-64</td>\n",
       "    </tr>\n",
       "    <tr>\n",
       "      <th>3</th>\n",
       "      <td>2_209</td>\n",
       "      <td>2021-06-24 04:19:29.835891</td>\n",
       "      <td>s_52962</td>\n",
       "      <td>c_6941</td>\n",
       "      <td>m</td>\n",
       "      <td>2000</td>\n",
       "      <td>69.99</td>\n",
       "      <td>2</td>\n",
       "      <td>2021</td>\n",
       "      <td>06</td>\n",
       "      <td>2021-06</td>\n",
       "      <td>23</td>\n",
       "      <td>18-29</td>\n",
       "    </tr>\n",
       "    <tr>\n",
       "      <th>4</th>\n",
       "      <td>0_1509</td>\n",
       "      <td>2023-01-11 08:22:08.194479</td>\n",
       "      <td>s_325227</td>\n",
       "      <td>c_4232</td>\n",
       "      <td>m</td>\n",
       "      <td>1980</td>\n",
       "      <td>4.99</td>\n",
       "      <td>0</td>\n",
       "      <td>2023</td>\n",
       "      <td>01</td>\n",
       "      <td>2023-01</td>\n",
       "      <td>43</td>\n",
       "      <td>30-44</td>\n",
       "    </tr>\n",
       "    <tr>\n",
       "      <th>...</th>\n",
       "      <td>...</td>\n",
       "      <td>...</td>\n",
       "      <td>...</td>\n",
       "      <td>...</td>\n",
       "      <td>...</td>\n",
       "      <td>...</td>\n",
       "      <td>...</td>\n",
       "      <td>...</td>\n",
       "      <td>...</td>\n",
       "      <td>...</td>\n",
       "      <td>...</td>\n",
       "      <td>...</td>\n",
       "      <td>...</td>\n",
       "    </tr>\n",
       "    <tr>\n",
       "      <th>542530</th>\n",
       "      <td>1_710</td>\n",
       "      <td>2021-06-23 21:15:17.278253</td>\n",
       "      <td>s_52829</td>\n",
       "      <td>c_5401</td>\n",
       "      <td>m</td>\n",
       "      <td>1984</td>\n",
       "      <td>27.94</td>\n",
       "      <td>1</td>\n",
       "      <td>2021</td>\n",
       "      <td>06</td>\n",
       "      <td>2021-06</td>\n",
       "      <td>39</td>\n",
       "      <td>30-44</td>\n",
       "    </tr>\n",
       "    <tr>\n",
       "      <th>566887</th>\n",
       "      <td>1_395</td>\n",
       "      <td>2021-06-21 15:15:34.079244</td>\n",
       "      <td>s_51791</td>\n",
       "      <td>c_3615</td>\n",
       "      <td>f</td>\n",
       "      <td>2004</td>\n",
       "      <td>28.99</td>\n",
       "      <td>1</td>\n",
       "      <td>2021</td>\n",
       "      <td>06</td>\n",
       "      <td>2021-06</td>\n",
       "      <td>19</td>\n",
       "      <td>18-29</td>\n",
       "    </tr>\n",
       "    <tr>\n",
       "      <th>567963</th>\n",
       "      <td>0_1509</td>\n",
       "      <td>2022-08-15 08:17:35.835342</td>\n",
       "      <td>s_253539</td>\n",
       "      <td>c_8114</td>\n",
       "      <td>m</td>\n",
       "      <td>1962</td>\n",
       "      <td>4.99</td>\n",
       "      <td>0</td>\n",
       "      <td>2022</td>\n",
       "      <td>08</td>\n",
       "      <td>2022-08</td>\n",
       "      <td>61</td>\n",
       "      <td>45-64</td>\n",
       "    </tr>\n",
       "    <tr>\n",
       "      <th>577591</th>\n",
       "      <td>1_152</td>\n",
       "      <td>2021-11-08 17:12:27.637349</td>\n",
       "      <td>s_116675</td>\n",
       "      <td>c_240</td>\n",
       "      <td>m</td>\n",
       "      <td>1998</td>\n",
       "      <td>11.06</td>\n",
       "      <td>1</td>\n",
       "      <td>2021</td>\n",
       "      <td>11</td>\n",
       "      <td>2021-11</td>\n",
       "      <td>25</td>\n",
       "      <td>18-29</td>\n",
       "    </tr>\n",
       "    <tr>\n",
       "      <th>600335</th>\n",
       "      <td>2_207</td>\n",
       "      <td>2021-06-01 04:31:16.088314</td>\n",
       "      <td>s_42418</td>\n",
       "      <td>c_305</td>\n",
       "      <td>f</td>\n",
       "      <td>1996</td>\n",
       "      <td>50.99</td>\n",
       "      <td>2</td>\n",
       "      <td>2021</td>\n",
       "      <td>06</td>\n",
       "      <td>2021-06</td>\n",
       "      <td>27</td>\n",
       "      <td>18-29</td>\n",
       "    </tr>\n",
       "  </tbody>\n",
       "</table>\n",
       "<p>8600 rows × 13 columns</p>\n",
       "</div>"
      ],
      "text/plain": [
       "       id_prod                       date session_id client_id sex  birth  \\\n",
       "0       0_1518 2022-05-20 13:21:29.043970   s_211425     c_103   f   1986   \n",
       "1        1_251 2022-02-02 07:55:19.149409   s_158752    c_8534   m   1988   \n",
       "2       0_1277 2022-06-18 15:44:33.155329   s_225667    c_6714   f   1968   \n",
       "3        2_209 2021-06-24 04:19:29.835891    s_52962    c_6941   m   2000   \n",
       "4       0_1509 2023-01-11 08:22:08.194479   s_325227    c_4232   m   1980   \n",
       "...        ...                        ...        ...       ...  ..    ...   \n",
       "542530   1_710 2021-06-23 21:15:17.278253    s_52829    c_5401   m   1984   \n",
       "566887   1_395 2021-06-21 15:15:34.079244    s_51791    c_3615   f   2004   \n",
       "567963  0_1509 2022-08-15 08:17:35.835342   s_253539    c_8114   m   1962   \n",
       "577591   1_152 2021-11-08 17:12:27.637349   s_116675     c_240   m   1998   \n",
       "600335   2_207 2021-06-01 04:31:16.088314    s_42418     c_305   f   1996   \n",
       "\n",
       "        price  categ  purchase_year purchase_month purchase_year_month  age  \\\n",
       "0        4.18      0           2022             05             2022-05   37   \n",
       "1       15.99      1           2022             02             2022-02   35   \n",
       "2        7.99      0           2022             06             2022-06   55   \n",
       "3       69.99      2           2021             06             2021-06   23   \n",
       "4        4.99      0           2023             01             2023-01   43   \n",
       "...       ...    ...            ...            ...                 ...  ...   \n",
       "542530  27.94      1           2021             06             2021-06   39   \n",
       "566887  28.99      1           2021             06             2021-06   19   \n",
       "567963   4.99      0           2022             08             2022-08   61   \n",
       "577591  11.06      1           2021             11             2021-11   25   \n",
       "600335  50.99      2           2021             06             2021-06   27   \n",
       "\n",
       "       age_range  \n",
       "0          30-44  \n",
       "1          30-44  \n",
       "2          45-64  \n",
       "3          18-29  \n",
       "4          30-44  \n",
       "...          ...  \n",
       "542530     30-44  \n",
       "566887     18-29  \n",
       "567963     45-64  \n",
       "577591     18-29  \n",
       "600335     18-29  \n",
       "\n",
       "[8600 rows x 13 columns]"
      ]
     },
     "execution_count": 319,
     "metadata": {},
     "output_type": "execute_result"
    }
   ],
   "source": [
    "clients_df"
   ]
  },
  {
   "cell_type": "code",
   "execution_count": 323,
   "id": "c5740dd4-78b9-45d7-b73e-2e4dfa28bd15",
   "metadata": {},
   "outputs": [
    {
     "data": {
      "text/html": [
       "<div>\n",
       "<style scoped>\n",
       "    .dataframe tbody tr th:only-of-type {\n",
       "        vertical-align: middle;\n",
       "    }\n",
       "\n",
       "    .dataframe tbody tr th {\n",
       "        vertical-align: top;\n",
       "    }\n",
       "\n",
       "    .dataframe thead th {\n",
       "        text-align: right;\n",
       "    }\n",
       "</style>\n",
       "<table border=\"1\" class=\"dataframe\">\n",
       "  <thead>\n",
       "    <tr style=\"text-align: right;\">\n",
       "      <th></th>\n",
       "      <th>age_range</th>\n",
       "      <th>turnover_by_age</th>\n",
       "    </tr>\n",
       "  </thead>\n",
       "  <tbody>\n",
       "    <tr>\n",
       "      <th>0</th>\n",
       "      <td>18-29</td>\n",
       "      <td>81656.00</td>\n",
       "    </tr>\n",
       "    <tr>\n",
       "      <th>1</th>\n",
       "      <td>30-44</td>\n",
       "      <td>41605.09</td>\n",
       "    </tr>\n",
       "    <tr>\n",
       "      <th>2</th>\n",
       "      <td>45-64</td>\n",
       "      <td>42842.50</td>\n",
       "    </tr>\n",
       "    <tr>\n",
       "      <th>3</th>\n",
       "      <td>65 et +</td>\n",
       "      <td>21325.39</td>\n",
       "    </tr>\n",
       "  </tbody>\n",
       "</table>\n",
       "</div>"
      ],
      "text/plain": [
       "  age_range  turnover_by_age\n",
       "0     18-29         81656.00\n",
       "1     30-44         41605.09\n",
       "2     45-64         42842.50\n",
       "3   65 et +         21325.39"
      ]
     },
     "execution_count": 323,
     "metadata": {},
     "output_type": "execute_result"
    }
   ],
   "source": [
    "turnover_by_age=clients_df.groupby('age_range').agg(turnover_by_age=('price','sum')).reset_index()\n",
    "turnover_by_age"
   ]
  },
  {
   "cell_type": "code",
   "execution_count": 326,
   "id": "f49e9dd9-3b8c-42e1-89a0-c588f6927816",
   "metadata": {},
   "outputs": [
    {
     "data": {
      "image/png": "[encoded data removed]",
      "text/plain": [
       "<Figure size 576x432 with 1 Axes>"
      ]
     },
     "metadata": {},
     "output_type": "display_data"
    }
   ],
   "source": [
    "# Prepare graphic\n",
    "plt.figure(figsize=(8,6))\n",
    "\n",
    "sns.barplot(x=\"age_range\" , y=\"turnover_by_age\",data=turnover_by_age, palette = \"Purples_r\", saturation=1)\n",
    "sns.set_theme(style=\"whitegrid\")\n",
    "\n",
    "plt.xlabel(\"Tranche d'âge\", fontsize = 15)\n",
    "plt.ylabel(\"CA (en millions d'€)\", fontsize = 15)\n",
    "plt.title(\"Répartition du CA par catégorie d'âge\", fontsize = 20,loc='center', pad=20)\n",
    "plt.tight_layout()\n",
    "\n",
    "# Show graphic\n",
    "plt.show()"
   ]
  },
  {
   "cell_type": "code",
   "execution_count": 238,
   "id": "c764474d-05bd-4ba3-9ed5-079ad8819a86",
   "metadata": {},
   "outputs": [
    {
     "data": {
      "text/plain": [
       "4479"
      ]
     },
     "execution_count": 238,
     "metadata": {},
     "output_type": "execute_result"
    }
   ],
   "source": [
    "distribution_by_gender[\"number_of_clients\"][distribution_by_gender[\"sex\"]==\"f\"].values[0]\n",
    "\n",
    "#turnover_per_yearmonth.loc[turnover_per_yearmonth.year==\"2021-2022\", \"number_of_month\"]=11"
   ]
  },
  {
   "cell_type": "markdown",
   "id": "d748b5c7-8575-43f6-a932-ebc67c12e507",
   "metadata": {
    "tags": []
   },
   "source": [
    "# Test"
   ]
  },
  {
   "cell_type": "markdown",
   "id": "ac514fd7-d5ea-4271-b77c-55fef8572a69",
   "metadata": {
    "tags": []
   },
   "source": [
    "#### Calcul du z_score\n",
    "Selon la formule (x-µ)/σ \n",
    "- x=valeur de la cellule\n",
    "- µ=moyenne\n",
    "- écart type\n",
    "\n",
    "Méthode pour calculer les outliers :<br>\n",
    "Pour des données supposées normalement distribuées, 95% de celles-ci se situent dans 2 écarts types, et 99.7% dans 3.\n",
    "Comme on ne sait pas vraiment ce que l'on cherche, un seuil de 2 sera plus pertinent."
   ]
  },
  {
   "cell_type": "code",
   "execution_count": null,
   "id": "02972e12-44e0-423d-8ffb-be27076f6578",
   "metadata": {},
   "outputs": [],
   "source": []
  },
  {
   "cell_type": "code",
   "execution_count": 79,
   "id": "7013468a-40b2-4be0-bf7b-3dd208352d6b",
   "metadata": {},
   "outputs": [
    {
     "name": "stdout",
     "output_type": "stream",
     "text": [
      "\n",
      "La moyenne des prix se positionne à 21.86€.\n",
      "L'écart-type est de 29.84.\n",
      "\n"
     ]
    }
   ],
   "source": [
    "mean = np.mean(products_df.price)\n",
    "std_dev=np.std(products_df.price)\n",
    "products_df[\"Z_score\"]=(products_df.price - mean)/std_dev\n",
    "\n",
    "print(f\"\"\"\n",
    "La moyenne des prix se positionne à {mean:.2f}€.\n",
    "L'écart-type est de {std_dev:.2f}.\n",
    "\"\"\")\n"
   ]
  },
  {
   "cell_type": "markdown",
   "id": "d57f2443-3b23-4c7a-93e2-e1964f0832c0",
   "metadata": {},
   "source": [
    "Comme un prix est forcément positif, je ne regarde pas les valeurs inférieures à 2 fois l'écart type, mais uniquement les z_score supérieurs au seuil de 2 écarts types.\n",
    "Puis, je calcule le seuil de prix à partir duquel une valeur est considérée comme un outlier : \n",
    "- (x-µ)/σ=seuil \n",
    "- soit x = seuil * σ + µ\n",
    "\n",
    "Les prix négatifs ou valant 0 ont déjà été gérés."
   ]
  },
  {
   "cell_type": "code",
   "execution_count": 112,
   "id": "7e7798ea-c6ad-46d1-8d83-917a98076488",
   "metadata": {},
   "outputs": [
    {
     "data": {
      "text/html": [
       "<div>\n",
       "<style scoped>\n",
       "    .dataframe tbody tr th:only-of-type {\n",
       "        vertical-align: middle;\n",
       "    }\n",
       "\n",
       "    .dataframe tbody tr th {\n",
       "        vertical-align: top;\n",
       "    }\n",
       "\n",
       "    .dataframe thead th {\n",
       "        text-align: right;\n",
       "    }\n",
       "</style>\n",
       "<table border=\"1\" class=\"dataframe\">\n",
       "  <thead>\n",
       "    <tr style=\"text-align: right;\">\n",
       "      <th></th>\n",
       "      <th>id_prod</th>\n",
       "      <th>price</th>\n",
       "      <th>categ</th>\n",
       "      <th>Z-Score</th>\n",
       "      <th>Z_score</th>\n",
       "    </tr>\n",
       "  </thead>\n",
       "  <tbody>\n",
       "    <tr>\n",
       "      <th>2779</th>\n",
       "      <td>2_30</td>\n",
       "      <td>233.54</td>\n",
       "      <td>2</td>\n",
       "      <td>7.093146</td>\n",
       "      <td>7.093146</td>\n",
       "    </tr>\n",
       "    <tr>\n",
       "      <th>1436</th>\n",
       "      <td>2_167</td>\n",
       "      <td>236.99</td>\n",
       "      <td>2</td>\n",
       "      <td>7.208750</td>\n",
       "      <td>7.208750</td>\n",
       "    </tr>\n",
       "    <tr>\n",
       "      <th>394</th>\n",
       "      <td>2_158</td>\n",
       "      <td>247.22</td>\n",
       "      <td>2</td>\n",
       "      <td>7.551539</td>\n",
       "      <td>7.551539</td>\n",
       "    </tr>\n",
       "    <tr>\n",
       "      <th>724</th>\n",
       "      <td>2_76</td>\n",
       "      <td>254.44</td>\n",
       "      <td>2</td>\n",
       "      <td>7.793469</td>\n",
       "      <td>7.793469</td>\n",
       "    </tr>\n",
       "    <tr>\n",
       "      <th>947</th>\n",
       "      <td>2_2</td>\n",
       "      <td>300.00</td>\n",
       "      <td>2</td>\n",
       "      <td>9.320107</td>\n",
       "      <td>9.320107</td>\n",
       "    </tr>\n",
       "  </tbody>\n",
       "</table>\n",
       "</div>"
      ],
      "text/plain": [
       "     id_prod   price  categ   Z-Score   Z_score\n",
       "2779    2_30  233.54      2  7.093146  7.093146\n",
       "1436   2_167  236.99      2  7.208750  7.208750\n",
       "394    2_158  247.22      2  7.551539  7.551539\n",
       "724     2_76  254.44      2  7.793469  7.793469\n",
       "947      2_2  300.00      2  9.320107  9.320107"
      ]
     },
     "execution_count": 112,
     "metadata": {},
     "output_type": "execute_result"
    }
   ],
   "source": [
    "zscore_threshold=2\n",
    "zscore_outliers=products_df[products_df.Z_score > zscore_threshold]\n",
    "\n",
    "zscore_outliers.sort_values(\"Z_score\").tail()"
   ]
  },
  {
   "cell_type": "code",
   "execution_count": 102,
   "id": "313e28f6-7f3f-4076-b4e3-0336cc9fb01e",
   "metadata": {},
   "outputs": [
    {
     "name": "stdout",
     "output_type": "stream",
     "text": [
      "Le prix à partir duquel on peut soupçonner un prix, sur la base des autres prix, d'être un outlier est 81.54€.\n",
      "Il y a 157 prix qui pourraient être vérifiés :\n",
      "     id_prod   price\n",
      "272    2_139   82.99\n",
      "1101    2_20   83.51\n",
      "1854   2_174   83.63\n",
      "420    2_137   83.99\n",
      "2915   2_138   84.02\n",
      "905     2_16   84.29\n",
      "2446   2_186   84.96\n",
      "3188    2_99   84.99\n",
      "2371    2_51   84.99\n",
      "1767   2_134   85.27\n",
      "1696   2_180   85.28\n",
      "2280   2_114   85.89\n",
      "1009   2_219   86.99\n",
      "422    2_201   86.99\n",
      "767     2_81   86.99\n",
      "1914   2_224   87.40\n",
      "3006    2_68   88.29\n",
      "199     2_71   88.99\n",
      "2231   2_177   88.99\n",
      "489     2_54   89.43\n",
      "1094   2_218   89.54\n",
      "2391   2_221   90.99\n",
      "2549   2_204   91.82\n",
      "2078    2_38   93.48\n",
      "3196   2_238   93.92\n",
      "918     2_53   93.99\n",
      "754    2_118   96.56\n",
      "3046    2_58   96.69\n",
      "2004   2_154   96.74\n",
      "2429    2_24   96.88\n",
      "1925    2_91   96.99\n",
      "1670    2_75   96.99\n",
      "966     2_95   98.99\n",
      "2363    2_65   99.99\n",
      "1437   2_124  100.56\n",
      "1536   2_205  100.99\n",
      "2874     2_6  101.51\n",
      "1999    2_25  101.99\n",
      "3075   2_162  102.82\n",
      "3044   2_217  102.99\n",
      "2974    2_28  103.50\n",
      "1905   2_222  103.58\n",
      "853    2_136  103.92\n",
      "3140   2_196  103.92\n",
      "245    2_145  103.99\n",
      "2873    2_17  103.99\n",
      "1268   2_232  104.06\n",
      "1402   2_168  104.76\n",
      "503    2_212  104.78\n",
      "2612    2_59  104.99\n",
      "3184   2_142  105.24\n",
      "2769   2_117  105.99\n",
      "2110    2_21  105.99\n",
      "876    2_182  106.52\n",
      "64      2_89  107.99\n",
      "2833    2_55  108.99\n",
      "2991    2_22  109.38\n",
      "622    2_133  109.99\n",
      "933    2_106  110.08\n",
      "1036    2_36  110.98\n",
      "1464    2_60  111.72\n",
      "2155    2_73  111.99\n",
      "241    2_231  111.99\n",
      "2398   2_169  111.99\n",
      "2939   2_161  113.99\n",
      "1930   2_193  114.99\n",
      "2395   2_111  114.99\n",
      "307    2_146  115.30\n",
      "2680   2_200  115.75\n",
      "2952   2_170  115.93\n",
      "3282    2_23  115.99\n",
      "1721    2_56  116.67\n",
      "509    2_126  116.98\n",
      "1008   2_195  116.99\n",
      "1212   2_236  118.51\n",
      "1748    2_52  119.07\n",
      "1940    2_74  120.22\n",
      "2559    2_42  120.61\n",
      "2945    2_80  120.68\n",
      "1348    2_15  123.99\n",
      "2420    2_63  124.99\n",
      "2961   2_105  125.99\n",
      "453    2_192  127.39\n",
      "2905   2_129  127.99\n",
      "137    2_131  127.99\n",
      "1538    2_85  128.99\n",
      "2292    2_18  129.11\n",
      "2508    2_70  129.74\n",
      "2304   2_220  130.80\n",
      "522     2_83  130.99\n",
      "709     2_69  130.99\n",
      "2558    2_57  130.99\n",
      "703     2_31  131.99\n",
      "2525    2_86  132.36\n",
      "3018   2_210  132.52\n",
      "106    2_176  134.57\n",
      "2114    2_14  136.07\n",
      "1888   2_203  136.99\n",
      "2128   2_199  136.99\n",
      "2808   2_198  138.32\n",
      "2733   2_194  138.53\n",
      "1779    2_35  139.99\n",
      "2207   2_153  139.99\n",
      "1946    2_72  141.32\n",
      "3151   2_130  142.58\n",
      "2568    2_29  142.99\n",
      "1570   2_189  142.99\n",
      "1323   2_157  142.99\n",
      "706     2_94  145.45\n",
      "2977    2_77  145.99\n",
      "1315   2_159  145.99\n",
      "3271   2_123  147.99\n",
      "3088    2_98  149.74\n",
      "2897    2_50  150.69\n",
      "2308    2_66  150.72\n",
      "1117   2_173  155.99\n",
      "104    2_151  156.99\n",
      "297    2_144  157.42\n",
      "1011   2_150  157.63\n",
      "107    2_103  157.99\n",
      "79     2_187  157.99\n",
      "73     2_225  157.99\n",
      "117    2_172  158.17\n",
      "2760   2_141  158.99\n",
      "2698    2_97  160.99\n",
      "432      2_0  162.03\n",
      "1390    2_64  163.94\n",
      "2106   2_119  164.99\n",
      "2350   2_132  166.21\n",
      "214     2_78  167.49\n",
      "562    2_121  170.99\n",
      "925    2_233  172.99\n",
      "1371   2_190  175.67\n",
      "719    2_223  175.99\n",
      "1351   2_178  176.20\n",
      "792    2_147  181.99\n",
      "1729    2_84  182.30\n",
      "2164    2_90  182.30\n",
      "2472   2_156  188.48\n",
      "1675   2_213  189.99\n",
      "970      2_5  191.99\n",
      "2993   2_235  195.99\n",
      "95     2_128  201.74\n",
      "3163    2_11  201.99\n",
      "2464     2_3  202.99\n",
      "1284   2_211  203.99\n",
      "1709    2_87  220.99\n",
      "1896     2_4  222.97\n",
      "10     2_228  225.17\n",
      "786     2_40  228.11\n",
      "2487   2_166  230.04\n",
      "1960   2_125  231.99\n",
      "2779    2_30  233.54\n",
      "1436   2_167  236.99\n",
      "394    2_158  247.22\n",
      "724     2_76  254.44\n",
      "947      2_2  300.00\n",
      "\n"
     ]
    }
   ],
   "source": [
    "price_outlier=zscore_threshold * std_dev + mean\n",
    "print (f\"\"\"Le prix à partir duquel on peut soupçonner un prix, sur la base des autres prix, d'être un outlier est {price_outlier:.2f}€.\n",
    "Il y a {len(zscore_outliers)} prix qui pourraient être vérifiés :\n",
    "{zscore_outliers[[\"id_prod\",\"price\"]].sort_values(\"price\")}\n",
    "\"\"\")"
   ]
  },
  {
   "cell_type": "markdown",
   "id": "49afeef7-76e2-420d-b569-d295b46b6fab",
   "metadata": {
    "tags": []
   },
   "source": [
    "#### Calcul de l'écart interquartile\n",
    "\n",
    "Selon la formule\n",
    "Ecart interquartile = 3ème quartile - 1er quartile\n",
    "\n",
    "Méthode pour calculer les outliers :<br>\n",
    "Une valeur aberrante ou atypique dans une distribution est un nombre qui est plus d'une fois et demie la longueur de la boîte à l'écart du quartile inférieur ou supérieur.<br>\n",
    "Si un nombre est inférieur à Q1 - 1,5×IQR ou supérieur à Q3 + 1,5×IQR, alors c'est une valeur aberrante."
   ]
  },
  {
   "cell_type": "code",
   "execution_count": 128,
   "id": "eb203267-30c8-41a8-83e7-2868256dac9a",
   "metadata": {},
   "outputs": [
    {
     "name": "stdout",
     "output_type": "stream",
     "text": [
      "\n",
      "La médiane des prix est égale à 13.07€ : il y a autant de prix au dessus de ce montant qu'en dessous.\n",
      "Le 1er quartile se situe à 6.99€.\n",
      "Le troisième est situé à 22.99€.\n",
      "L'écart interquartile vaut 16.00€.\n",
      "Les outliers se situent en dessous de -17.01€ et au dessus de 46.99€.\n",
      "\n"
     ]
    }
   ],
   "source": [
    "median=np.median(products_df.price)\n",
    "q1=np.median(products_df[products_df.price<=median][\"price\"])\n",
    "q3=np.median(products_df[products_df.price>median][\"price\"])\n",
    "iqr=q3-q1\n",
    "outlier_q1=q1-(1.5*iqr)\n",
    "outlier_q3=q3+(1.5*iqr)\n",
    "\n",
    "print (f\"\"\"\n",
    "La médiane des prix est égale à {median:.2f}€ : il y a autant de prix au dessus de ce montant qu'en dessous.\n",
    "Le 1er quartile se situe à {q1:.2f}€.\n",
    "Le troisième est situé à {q3:.2f}€.\n",
    "L'écart interquartile vaut {iqr:.2f}€.\n",
    "Les outliers se situent en dessous de {outlier_q1:.2f}€ et au dessus de {outlier_q3:.2f}€.\n",
    "\"\"\")\n",
    "        \n",
    "       "
   ]
  },
  {
   "cell_type": "code",
   "execution_count": 129,
   "id": "7f308ea3-72b9-4346-87ca-dbd80400ca46",
   "metadata": {},
   "outputs": [
    {
     "data": {
      "text/plain": [
       "<AxesSubplot:xlabel='price'>"
      ]
     },
     "execution_count": 129,
     "metadata": {},
     "output_type": "execute_result"
    },
    {
     "data": {
      "image/png": "[encoded data removed]",
      "text/plain": [
       "<Figure size 432x288 with 1 Axes>"
      ]
     },
     "metadata": {
      "needs_background": "light"
     },
     "output_type": "display_data"
    }
   ],
   "source": [
    "sns.boxplot(x=products_df.price)"
   ]
  },
  {
   "cell_type": "code",
   "execution_count": 142,
   "id": "3c5e8911-d5ed-4143-bc3c-9f33c822d990",
   "metadata": {},
   "outputs": [
    {
     "data": {
      "text/plain": [
       "id_prod    1643\n",
       "price      1643\n",
       "categ      1643\n",
       "Z-Score    1643\n",
       "Z_score    1643\n",
       "dtype: int64"
      ]
     },
     "execution_count": 142,
     "metadata": {},
     "output_type": "execute_result"
    }
   ],
   "source": [
    "products_df[products_df.price<median].count()"
   ]
  },
  {
   "cell_type": "markdown",
   "id": "678339e0-8456-4a85-9c50-f8e4393ad5d4",
   "metadata": {},
   "source": [
    "Graph matplotlib"
   ]
  },
  {
   "cell_type": "code",
   "execution_count": 1635,
   "id": "7c0efd96-2cd5-49cd-b0a0-8777df00c195",
   "metadata": {},
   "outputs": [
    {
     "data": {
      "image/png": "[encoded data removed]",
      "text/plain": [
       "<Figure size 576x360 with 1 Axes>"
      ]
     },
     "metadata": {},
     "output_type": "display_data"
    }
   ],
   "source": [
    "# Prepare graphic\n",
    "plt.figure(figsize=(8,5))\n",
    "plt.xlabel('Catégorie')\n",
    "plt.ylabel(\"Total des ventes (en millions d'€)\")\n",
    "plt.title('Total des ventes par catégorie')\n",
    "plt.tight_layout()\n",
    "\n",
    "# Data\n",
    "height = categ_price_data.price\n",
    "bars = categ_price_data.categ\n",
    "y_pos = np.arange(len(bars))\n",
    "colors=[\"#6a51a3\",\"#9d9ac6\",\"#dadaeb\"]\n",
    "\n",
    "# Create bars\n",
    "plt.bar(y_pos, height, color=colors)\n",
    "plt.xticks(y_pos, bars)\n",
    "\n",
    "# Show graphic\n",
    "plt.show()"
   ]
  },
  {
   "cell_type": "code",
   "execution_count": null,
   "id": "d8dfdc9d-e027-416c-908f-0c7d1ca9a08a",
   "metadata": {},
   "outputs": [],
   "source": []
  }
 ],
 "metadata": {
  "kernelspec": {
   "display_name": "Python 3 (ipykernel)",
   "language": "python",
   "name": "python3"
  },
  "language_info": {
   "codemirror_mode": {
    "name": "ipython",
    "version": 3
   },
   "file_extension": ".py",
   "mimetype": "text/x-python",
   "name": "python",
   "nbconvert_exporter": "python",
   "pygments_lexer": "ipython3",
   "version": "3.9.7"
  }
 },
 "nbformat": 4,
 "nbformat_minor": 5
}
