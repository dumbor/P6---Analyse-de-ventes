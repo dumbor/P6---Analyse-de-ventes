{
 "cells": [
  {
   "cell_type": "markdown",
   "id": "f05267e2-870a-4d17-8b61-8e84b0d1625e",
   "metadata": {},
   "source": [
    "![Lapage](Lapage_logo.png)\n",
    "# Contexte\n",
    "Lapage était originellement une librairie physique avec plusieurs points de vente. \n",
    "Mais devant le succès de certains de ses produits et l’engouement de ses clients, elle a décidé depuis 2 ans d’ouvrir un site de vente en ligne. \n",
    "Vous intervenez car l’entreprise souhaite faire le point après deux ans d’exercice, et pouvoir analyser ses points forts, ses points faibles, les comportements clients, etc.\n",
    "\n",
    "# Missions\n",
    "- Réaliser une analyse des différents indicateurs de vente :\n",
    "    - Le CA (indicateurs et graphiques) et son évolution dans le temps via la mise en place d'une décomposition en moyenne mobile pour évaluer la tendance globale;\n",
    "    - Zoom sur les références, pour voir un peu les tops et les flops, la répartition par catégorie, etc.;\n",
    "    - Focus sur les profils des clients, et également la répartition du chiffre d'affaires entre eux, via par exemple une courbe de Lorenz.\n",
    "- Fournir une analyse plus ciblée sur les clients : l’objectif serait cette fois-ci de comprendre le comportement de nos clients en ligne, pour pouvoir ensuite comparer avec la connaissance acquise via nos librairies physiques. \n",
    "- Etablir le lien entre le genre d’un client et les catégories des livres achetés.\n",
    "- Faire divers corrélations entre l’âge des clients et le montant total des achats, la fréquence d’achat, la taille du panier moyen et les catégories des livres achetés.\n",
    "\n"
   ]
  },
  {
   "cell_type": "markdown",
   "id": "a2b7ff03-224f-40c5-ad94-00a0494a6ebd",
   "metadata": {},
   "source": [
    "# Préparation des données "
   ]
  },
  {
   "cell_type": "markdown",
   "id": "8ab93e20-024b-4dfb-81e6-39cdc902a933",
   "metadata": {
    "tags": []
   },
   "source": [
    "## Initialisation du projet"
   ]
  },
  {
   "cell_type": "markdown",
   "id": "5b7d530e-1296-472a-b19b-f9db1dcec853",
   "metadata": {},
   "source": [
    "### Import des librairies"
   ]
  },
  {
   "cell_type": "code",
   "execution_count": 8,
   "id": "dac1aa1d-2318-47c5-b597-9742261df42d",
   "metadata": {},
   "outputs": [],
   "source": [
    "import pandas as pd\n",
    "import matplotlib.pyplot as plt\n",
    "import seaborn as sns\n",
    "import numpy as np"
   ]
  },
  {
   "cell_type": "markdown",
   "id": "20eff80b-fc58-4cb4-bba4-74934682ed53",
   "metadata": {},
   "source": [
    "### Paramètres"
   ]
  },
  {
   "cell_type": "code",
   "execution_count": 9,
   "id": "cd71c239-22a6-4ebf-ab14-6a7cb094c04b",
   "metadata": {},
   "outputs": [],
   "source": [
    "%matplotlib inline \n",
    "# On indique que l'on veut voir apparaître les graphiques dans le notebook, sinon on ne verrait rien\n",
    "\n",
    "pd.set_option('max_colwidth', 100)\n",
    "pd.set_option('display.max_rows', 1000)\n",
    "pd.set_option('display.max_columns', 1000)"
   ]
  },
  {
   "cell_type": "markdown",
   "id": "5c023de9-31f9-4dd4-b91b-3bb06cea0feb",
   "metadata": {},
   "source": [
    "### Import des fichiers"
   ]
  },
  {
   "cell_type": "code",
   "execution_count": 41,
   "id": "06df4656-3847-4da3-a382-f32bcba532e8",
   "metadata": {},
   "outputs": [],
   "source": [
    "path='./Fichiers csv/'\n",
    "customers_df = pd.read_csv(path+\"customers.csv\")\n",
    "products_df=pd.read_csv(path+\"products.csv\")\n",
    "transactions_df=pd.read_csv(path+\"transactions.csv\")"
   ]
  },
  {
   "cell_type": "markdown",
   "id": "c515cb5d-6a98-4143-8893-13534bd2b791",
   "metadata": {},
   "source": [
    "## Analyse de la qualité des données"
   ]
  },
  {
   "cell_type": "markdown",
   "id": "fce12fe8-8f0a-4b22-8a61-d80afe56ca17",
   "metadata": {},
   "source": [
    "Avant de commencer, je stocke le nomnbre de lignes et de colonnes de chacun des fichiers"
   ]
  },
  {
   "cell_type": "code",
   "execution_count": 42,
   "id": "f8927217-456b-448b-ac0a-f36b2d049cbb",
   "metadata": {},
   "outputs": [
    {
     "name": "stdout",
     "output_type": "stream",
     "text": [
      "\n",
      "Le fichier 'customers.csv' contient initialiement 8623 lignes et 3 colonnes. \n",
      "Le fichier 'products.csv' contient initialiement 3287 lignes et 3 colonnes. \n",
      "Le fichier 'transactions.csv' contient initialiement 679532 lignes et 4 colonnes. \n",
      "\n"
     ]
    }
   ],
   "source": [
    "print (f\"\"\"\n",
    "Le fichier 'customers.csv' contient initialiement {customers_df.shape[0]} lignes et {customers_df.shape[1]} colonnes. \n",
    "Le fichier 'products.csv' contient initialiement {products_df.shape[0]} lignes et {products_df.shape[1]} colonnes. \n",
    "Le fichier 'transactions.csv' contient initialiement {transactions_df.shape[0]} lignes et {transactions_df.shape[1]} colonnes. \n",
    "\"\"\")"
   ]
  },
  {
   "cell_type": "markdown",
   "id": "bd2bdc9b-31f0-4dc8-9af4-8a2ee1684958",
   "metadata": {},
   "source": [
    "### Erreurs de type"
   ]
  },
  {
   "cell_type": "code",
   "execution_count": 43,
   "id": "40112294-d75b-4f4a-aac5-b4a528aa2d57",
   "metadata": {},
   "outputs": [
    {
     "data": {
      "text/plain": [
       "client_id    object\n",
       "sex          object\n",
       "birth         int64\n",
       "dtype: object"
      ]
     },
     "execution_count": 43,
     "metadata": {},
     "output_type": "execute_result"
    }
   ],
   "source": [
    "customers_df.dtypes"
   ]
  },
  {
   "cell_type": "code",
   "execution_count": 44,
   "id": "928e3665-883f-4e1a-b98c-d7fea210731f",
   "metadata": {},
   "outputs": [
    {
     "data": {
      "text/plain": [
       "id_prod     object\n",
       "price      float64\n",
       "categ        int64\n",
       "dtype: object"
      ]
     },
     "execution_count": 44,
     "metadata": {},
     "output_type": "execute_result"
    }
   ],
   "source": [
    "products_df.dtypes"
   ]
  },
  {
   "cell_type": "markdown",
   "id": "8b0f8da5-fb4e-44e7-bc8f-d9142de80833",
   "metadata": {},
   "source": [
    "### Valeurs manquantes"
   ]
  },
  {
   "cell_type": "code",
   "execution_count": 45,
   "id": "b933e9f0-eaeb-4f2c-8066-7c05472e8190",
   "metadata": {},
   "outputs": [
    {
     "data": {
      "text/plain": [
       "id_prod       object\n",
       "date          object\n",
       "session_id    object\n",
       "client_id     object\n",
       "dtype: object"
      ]
     },
     "execution_count": 45,
     "metadata": {},
     "output_type": "execute_result"
    }
   ],
   "source": [
    "transactions_df.dtypes"
   ]
  },
  {
   "cell_type": "markdown",
   "id": "8d93e34d-c57e-49e0-b2e0-8ec8a87eea3f",
   "metadata": {},
   "source": [
    "**Observation**<br>\n",
    "La seule chose qui semble être problématique est la variable date qui n'est pas considérée comme une date. <br>\n",
    "On peut corriger cela via la fonction to_datetime de pandas. <br>\n",
    "\n",
    "**Méthode**<br>\n",
    "En lançant la commande de transformation du type object en date, on s'aperçoit que la conversion est bloquée par une erreur : \"Unknown string format: test_2021-03-01 02:30:02.237419\"<br>\n",
    "Avant de relancer la conversion, j'identifie toutes les dates ayant le mot \"test\" et je les stocke dans un nouveau dataframe avant de les supprimer de mon fichier.\n",
    "Je lance ensuite ma conversion au format date."
   ]
  },
  {
   "cell_type": "code",
   "execution_count": 46,
   "id": "3d42f257-8b74-42fa-b917-e1e750a8c833",
   "metadata": {},
   "outputs": [
    {
     "data": {
      "text/html": [
       "<div>\n",
       "<style scoped>\n",
       "    .dataframe tbody tr th:only-of-type {\n",
       "        vertical-align: middle;\n",
       "    }\n",
       "\n",
       "    .dataframe tbody tr th {\n",
       "        vertical-align: top;\n",
       "    }\n",
       "\n",
       "    .dataframe thead th {\n",
       "        text-align: right;\n",
       "    }\n",
       "</style>\n",
       "<table border=\"1\" class=\"dataframe\">\n",
       "  <thead>\n",
       "    <tr style=\"text-align: right;\">\n",
       "      <th></th>\n",
       "      <th>id_prod</th>\n",
       "      <th>date</th>\n",
       "      <th>session_id</th>\n",
       "      <th>client_id</th>\n",
       "    </tr>\n",
       "  </thead>\n",
       "  <tbody>\n",
       "    <tr>\n",
       "      <th>3019</th>\n",
       "      <td>T_0</td>\n",
       "      <td>test_2021-03-01 02:30:02.237419</td>\n",
       "      <td>s_0</td>\n",
       "      <td>ct_0</td>\n",
       "    </tr>\n",
       "    <tr>\n",
       "      <th>5138</th>\n",
       "      <td>T_0</td>\n",
       "      <td>test_2021-03-01 02:30:02.237425</td>\n",
       "      <td>s_0</td>\n",
       "      <td>ct_0</td>\n",
       "    </tr>\n",
       "    <tr>\n",
       "      <th>9668</th>\n",
       "      <td>T_0</td>\n",
       "      <td>test_2021-03-01 02:30:02.237437</td>\n",
       "      <td>s_0</td>\n",
       "      <td>ct_1</td>\n",
       "    </tr>\n",
       "    <tr>\n",
       "      <th>10728</th>\n",
       "      <td>T_0</td>\n",
       "      <td>test_2021-03-01 02:30:02.237436</td>\n",
       "      <td>s_0</td>\n",
       "      <td>ct_0</td>\n",
       "    </tr>\n",
       "    <tr>\n",
       "      <th>15292</th>\n",
       "      <td>T_0</td>\n",
       "      <td>test_2021-03-01 02:30:02.237430</td>\n",
       "      <td>s_0</td>\n",
       "      <td>ct_0</td>\n",
       "    </tr>\n",
       "  </tbody>\n",
       "</table>\n",
       "</div>"
      ],
      "text/plain": [
       "      id_prod                             date session_id client_id\n",
       "3019      T_0  test_2021-03-01 02:30:02.237419        s_0      ct_0\n",
       "5138      T_0  test_2021-03-01 02:30:02.237425        s_0      ct_0\n",
       "9668      T_0  test_2021-03-01 02:30:02.237437        s_0      ct_1\n",
       "10728     T_0  test_2021-03-01 02:30:02.237436        s_0      ct_0\n",
       "15292     T_0  test_2021-03-01 02:30:02.237430        s_0      ct_0"
      ]
     },
     "execution_count": 46,
     "metadata": {},
     "output_type": "execute_result"
    }
   ],
   "source": [
    "mask = np.column_stack([transactions_df[\"date\"].str.contains(\"test\", na=False) for col in transactions_df])\n",
    "test_dates_transactions_df=transactions_df.loc[mask.any(axis=1)]\n",
    "test_dates_transactions_df.head()"
   ]
  },
  {
   "cell_type": "code",
   "execution_count": 47,
   "id": "a4b95904-3875-4176-9017-c0451edca811",
   "metadata": {},
   "outputs": [],
   "source": [
    "transactions_df.drop(test_dates_transactions_df.index, inplace=True)"
   ]
  },
  {
   "cell_type": "code",
   "execution_count": 48,
   "id": "aecc3876-f216-4017-808e-f7bb92308be2",
   "metadata": {},
   "outputs": [
    {
     "data": {
      "text/plain": [
       "(679332, 4)"
      ]
     },
     "execution_count": 48,
     "metadata": {},
     "output_type": "execute_result"
    }
   ],
   "source": [
    "transactions_df.shape"
   ]
  },
  {
   "cell_type": "code",
   "execution_count": 49,
   "id": "b5fe46a0-01fd-47c2-9d8f-84b0b9af92ce",
   "metadata": {},
   "outputs": [
    {
     "data": {
      "text/plain": [
       "id_prod               object\n",
       "date          datetime64[ns]\n",
       "session_id            object\n",
       "client_id             object\n",
       "dtype: object"
      ]
     },
     "execution_count": 49,
     "metadata": {},
     "output_type": "execute_result"
    }
   ],
   "source": [
    "transactions_df.date=pd.to_datetime(transactions_df.date)\n",
    "transactions_df.dtypes"
   ]
  },
  {
   "cell_type": "markdown",
   "id": "c9c62753-90bf-40c3-aaca-1f5aa8a7bbb6",
   "metadata": {},
   "source": [
    "### Doublons"
   ]
  },
  {
   "cell_type": "markdown",
   "id": "b00b8071-a5b4-43f2-8bf1-049eeb8997f5",
   "metadata": {},
   "source": [
    "### Valeurs aberrantes"
   ]
  },
  {
   "cell_type": "markdown",
   "id": "7c97323e-5e4c-4953-a095-61eb29b54132",
   "metadata": {},
   "source": [
    "### Conclusion"
   ]
  },
  {
   "cell_type": "markdown",
   "id": "a76e3720-90ac-4b2b-bc74-f11b1257502f",
   "metadata": {},
   "source": [
    "# Analyse des différents indicateurs de vente"
   ]
  },
  {
   "cell_type": "code",
   "execution_count": null,
   "id": "a83ff145-db89-47a7-8c2a-d55cbb7462a0",
   "metadata": {},
   "outputs": [],
   "source": []
  }
 ],
 "metadata": {
  "kernelspec": {
   "display_name": "Python 3 (ipykernel)",
   "language": "python",
   "name": "python3"
  },
  "language_info": {
   "codemirror_mode": {
    "name": "ipython",
    "version": 3
   },
   "file_extension": ".py",
   "mimetype": "text/x-python",
   "name": "python",
   "nbconvert_exporter": "python",
   "pygments_lexer": "ipython3",
   "version": "3.9.7"
  }
 },
 "nbformat": 4,
 "nbformat_minor": 5
}
